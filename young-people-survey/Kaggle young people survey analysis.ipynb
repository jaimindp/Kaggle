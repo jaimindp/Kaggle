{
 "cells": [
  {
   "cell_type": "markdown",
   "metadata": {},
   "source": [
    "# Analysis of the Young People Survey Dataset\n",
    "\n",
    "The goal is to explore and analyse the data set 'Young people survey' downloaded from: https://www.kaggle.com/miroslavsabo/young-people-survey\n",
    "\n",
    "The data contains survey responses from Slovakians between the ages of 15 - 30 and the questions are based around these areas:\n",
    "Music preferences, \n",
    "Movie preferences,\n",
    "Hobbies & interests,\n",
    "Phobias,\n",
    "Health habits,\n",
    "Personality traits, views on life, & opinions,\n",
    "Spending habits,\n",
    "Demographics\n",
    "\n",
    "The aim is to see how survey responses can be used to make general inferences from the responses of the survey\n",
    "\n",
    "Written by: Jaimin Patel\n",
    "\n",
    "1. EDA\n",
    "2. Linear regression to predict age\n",
    "3. Binary logistic regression to predict gender\n",
    "4. Support vector machine to compare prediction between logistic regression\n",
    "5. Categorical logisitic regression to predict smoking/music/fears/Lie detector/ - anything"
   ]
  },
  {
   "cell_type": "code",
   "execution_count": 74,
   "metadata": {},
   "outputs": [],
   "source": [
    "# Kaggle survey data science analysis\n",
    "import numpy as np\n",
    "import pandas as pd\n",
    "import matplotlib.pyplot as plt\n",
    "import seaborn as sns\n",
    "import statsmodels.api as sm\n",
    "from sklearn import metrics\n",
    "from sklearn.linear_model import LogisticRegression,LinearRegression\n",
    "from sklearn.preprocessing import StandardScaler, OneHotEncoder\n",
    "from sklearn.pipeline import make_pipeline\n",
    "from sklearn.decomposition import PCA\n",
    "from sklearn.ensemble import RandomForestRegressor, GradientBoostingRegressor\n",
    "from sklearn.cluster import KMeans\n",
    "from sklearn import svm\n",
    "from sklearn.model_selection import GridSearchCV, KFold, train_test_split, cross_val_score\n",
    "import scipy\n",
    "import scipy.stats as stats\n",
    "from sklearn.metrics import precision_recall_curve\n",
    "from sklearn.metrics import average_precision_score\n",
    "from sklearn.metrics import classification_report\n",
    "from sklearn.metrics import confusion_matrix\n",
    "from sklearn.metrics import roc_auc_score\n",
    "from sklearn.metrics import roc_curve\n",
    "\n",
    "import warnings\n",
    "warnings.filterwarnings(\"ignore\")\n",
    "\n",
    "%matplotlib inline"
   ]
  },
  {
   "cell_type": "code",
   "execution_count": 75,
   "metadata": {
    "scrolled": true
   },
   "outputs": [],
   "source": [
    "from IPython.display import display"
   ]
  },
  {
   "cell_type": "markdown",
   "metadata": {},
   "source": [
    "Function Declarations"
   ]
  },
  {
   "cell_type": "code",
   "execution_count": 76,
   "metadata": {},
   "outputs": [],
   "source": [
    "def one_hot_encode(df,cat_vars = None, num_vars = None):\n",
    "    cat_df = pd.get_dummies(df[cat_vars])\n",
    "    num_df = df.num_vars.apply(pd.to_numeric)\n",
    "    return pd.concat([cat_df, num_df], axis=1)"
   ]
  },
  {
   "cell_type": "code",
   "execution_count": 77,
   "metadata": {},
   "outputs": [],
   "source": [
    "def get_target(df, target):\n",
    "    return df[target]"
   ]
  },
  {
   "cell_type": "code",
   "execution_count": 78,
   "metadata": {},
   "outputs": [],
   "source": [
    "def train_model(model, feature_df, target_df, num_procs, mean_mse, cv_std):\n",
    "    neg_mse = cross_val_score(df, feature_df, target_df, n_jobs = num_procs, scoring = 'neg_mean_square_error')\n",
    "    mean_mse[model] = 1.0 - np.mean(neg_mse)\n",
    "    cv_std[model] = np.std(neg_mse)"
   ]
  },
  {
   "cell_type": "code",
   "execution_count": 79,
   "metadata": {},
   "outputs": [],
   "source": [
    "def summary(model, mean_mse, cv_std):\n",
    "    print('\\nModel:\\n', model)\n",
    "    print('Average MSE:\\n', mean_mse[model])\n",
    "    print('Standard deviation during CV:\\n', cv_std[model])"
   ]
  },
  {
   "cell_type": "code",
   "execution_count": 80,
   "metadata": {},
   "outputs": [],
   "source": [
    "def plot_roc(x_test, y_test, grsearch, alg_name , ax = None):\n",
    "\n",
    "    logit_roc_auc = roc_auc_score(y_test, grsearch.predict(x_test))\n",
    "    fpr, tpr, thresholds = roc_curve(y_test, grsearch.predict_proba(x_test)[:,1])\n",
    "    \n",
    "    ax = ax or plt.gca()\n",
    "\n",
    "    ax.plot([0, 1], [0, 1],'r--')\n",
    "    ax.plot(fpr, tpr)\n",
    "    \n",
    "    return "
   ]
  },
  {
   "cell_type": "code",
   "execution_count": 81,
   "metadata": {},
   "outputs": [],
   "source": [
    "# Polynomial Regression for R Squared calculation\n",
    "def polyfit(x, y, degree):\n",
    "    results = {}\n",
    "    coeffs = np.polyfit(x, y, degree)\n",
    "\n",
    "     # Polynomial Coefficients\n",
    "    results['polynomial'] = coeffs.tolist()\n",
    "\n",
    "    # r-squared\n",
    "    p = np.poly1d(coeffs)\n",
    "    # fit values, and mean\n",
    "    yhat = p(x)                      # or [p(z) for z in x]\n",
    "    ybar = np.sum(y)/len(y)          # or sum(y)/len(y)\n",
    "    ssreg = np.sum((yhat-ybar)**2)   # or sum([ (yihat - ybar)**2 for yihat in yhat])\n",
    "    sstot = np.sum((y - ybar)**2)    # or sum([ (yi - ybar)**2 for yi in y])\n",
    "    results['determination'] = ssreg / sstot\n",
    "\n",
    "    return results"
   ]
  },
  {
   "cell_type": "code",
   "execution_count": 82,
   "metadata": {},
   "outputs": [],
   "source": [
    "# Function to plot a correlation plot\n",
    "def plot_corr(var_x, var_y, x_name, y_name, ax):\n",
    "    \n",
    "    ax.plot(var_x,var_y,'x')   \n",
    "    ax.set_xlabel(x_name)\n",
    "    ax.set_ylabel(y_name)\n",
    "    \n",
    "    z = np.polyfit(var_x, var_y, 1)\n",
    "    p = np.poly1d(z)\n",
    "    ax.plot(var_x,p(var_x),\"r--\")"
   ]
  },
  {
   "cell_type": "code",
   "execution_count": 83,
   "metadata": {},
   "outputs": [],
   "source": [
    "# Function to plot a correlation plot average\n",
    "def plot_corr_avg(var_x, var_y, x_name, y_name, plot = None):\n",
    "    \n",
    "    min_val = int(var_x.min())\n",
    "    max_val = int(var_x.max())\n",
    "    \n",
    "    total = np.zeros(max_val-min_val+1)\n",
    "    num_entries = np.zeros(max_val-min_val+1)\n",
    "    \n",
    "    # Get total for the range of values\n",
    "    for i in range(len(var_x)):\n",
    "        total[int(var_x[i])-min_val] = total[int(var_x[i])-min_val] + var_y[i]\n",
    "\n",
    "    for i in range(len(total)):\n",
    "        num_entries[i] = sum(var_x == min_val+i)\n",
    "    \n",
    "    average = total/num_entries\n",
    "                           \n",
    "    if plot:\n",
    "        plot.bar(list(range(min_val,max_val+1)),average) \n",
    "    else:\n",
    "        plt.bar(list(range(min_val,max_val+1)),average)\n",
    "    "
   ]
  },
  {
   "cell_type": "markdown",
   "metadata": {},
   "source": [
    "Exploratory Data Analysis to look at the raw survey data\n",
    "\n",
    "From this we can make judgments about the data present and what analysis can be carried out\n"
   ]
  },
  {
   "cell_type": "code",
   "execution_count": 84,
   "metadata": {
    "scrolled": true
   },
   "outputs": [],
   "source": [
    "data = pd.read_csv(r'/Users/jaimin/Documents/Kaggle/Kaggle-young-people-survey/young-people-survey/responses.csv')"
   ]
  },
  {
   "cell_type": "code",
   "execution_count": 85,
   "metadata": {
    "scrolled": true
   },
   "outputs": [
    {
     "name": "stdout",
     "output_type": "stream",
     "text": [
      "(1010, 150)\n"
     ]
    },
    {
     "data": {
      "text/html": [
       "<div>\n",
       "<style scoped>\n",
       "    .dataframe tbody tr th:only-of-type {\n",
       "        vertical-align: middle;\n",
       "    }\n",
       "\n",
       "    .dataframe tbody tr th {\n",
       "        vertical-align: top;\n",
       "    }\n",
       "\n",
       "    .dataframe thead th {\n",
       "        text-align: right;\n",
       "    }\n",
       "</style>\n",
       "<table border=\"1\" class=\"dataframe\">\n",
       "  <thead>\n",
       "    <tr style=\"text-align: right;\">\n",
       "      <th></th>\n",
       "      <th>Music</th>\n",
       "      <th>Slow songs or fast songs</th>\n",
       "      <th>Dance</th>\n",
       "      <th>Folk</th>\n",
       "      <th>Country</th>\n",
       "      <th>Classical music</th>\n",
       "      <th>Musical</th>\n",
       "      <th>Pop</th>\n",
       "      <th>Rock</th>\n",
       "      <th>Metal or Hardrock</th>\n",
       "      <th>...</th>\n",
       "      <th>Age</th>\n",
       "      <th>Height</th>\n",
       "      <th>Weight</th>\n",
       "      <th>Number of siblings</th>\n",
       "      <th>Gender</th>\n",
       "      <th>Left - right handed</th>\n",
       "      <th>Education</th>\n",
       "      <th>Only child</th>\n",
       "      <th>Village - town</th>\n",
       "      <th>House - block of flats</th>\n",
       "    </tr>\n",
       "  </thead>\n",
       "  <tbody>\n",
       "    <tr>\n",
       "      <td>0</td>\n",
       "      <td>5.0</td>\n",
       "      <td>3.0</td>\n",
       "      <td>2.0</td>\n",
       "      <td>1.0</td>\n",
       "      <td>2.0</td>\n",
       "      <td>2.0</td>\n",
       "      <td>1.0</td>\n",
       "      <td>5.0</td>\n",
       "      <td>5.0</td>\n",
       "      <td>1.0</td>\n",
       "      <td>...</td>\n",
       "      <td>20.0</td>\n",
       "      <td>163.0</td>\n",
       "      <td>48.0</td>\n",
       "      <td>1.0</td>\n",
       "      <td>female</td>\n",
       "      <td>right handed</td>\n",
       "      <td>college/bachelor degree</td>\n",
       "      <td>no</td>\n",
       "      <td>village</td>\n",
       "      <td>block of flats</td>\n",
       "    </tr>\n",
       "    <tr>\n",
       "      <td>1</td>\n",
       "      <td>4.0</td>\n",
       "      <td>4.0</td>\n",
       "      <td>2.0</td>\n",
       "      <td>1.0</td>\n",
       "      <td>1.0</td>\n",
       "      <td>1.0</td>\n",
       "      <td>2.0</td>\n",
       "      <td>3.0</td>\n",
       "      <td>5.0</td>\n",
       "      <td>4.0</td>\n",
       "      <td>...</td>\n",
       "      <td>19.0</td>\n",
       "      <td>163.0</td>\n",
       "      <td>58.0</td>\n",
       "      <td>2.0</td>\n",
       "      <td>female</td>\n",
       "      <td>right handed</td>\n",
       "      <td>college/bachelor degree</td>\n",
       "      <td>no</td>\n",
       "      <td>city</td>\n",
       "      <td>block of flats</td>\n",
       "    </tr>\n",
       "    <tr>\n",
       "      <td>2</td>\n",
       "      <td>5.0</td>\n",
       "      <td>5.0</td>\n",
       "      <td>2.0</td>\n",
       "      <td>2.0</td>\n",
       "      <td>3.0</td>\n",
       "      <td>4.0</td>\n",
       "      <td>5.0</td>\n",
       "      <td>3.0</td>\n",
       "      <td>5.0</td>\n",
       "      <td>3.0</td>\n",
       "      <td>...</td>\n",
       "      <td>20.0</td>\n",
       "      <td>176.0</td>\n",
       "      <td>67.0</td>\n",
       "      <td>2.0</td>\n",
       "      <td>female</td>\n",
       "      <td>right handed</td>\n",
       "      <td>secondary school</td>\n",
       "      <td>no</td>\n",
       "      <td>city</td>\n",
       "      <td>block of flats</td>\n",
       "    </tr>\n",
       "    <tr>\n",
       "      <td>3</td>\n",
       "      <td>5.0</td>\n",
       "      <td>3.0</td>\n",
       "      <td>2.0</td>\n",
       "      <td>1.0</td>\n",
       "      <td>1.0</td>\n",
       "      <td>1.0</td>\n",
       "      <td>1.0</td>\n",
       "      <td>2.0</td>\n",
       "      <td>2.0</td>\n",
       "      <td>1.0</td>\n",
       "      <td>...</td>\n",
       "      <td>22.0</td>\n",
       "      <td>172.0</td>\n",
       "      <td>59.0</td>\n",
       "      <td>1.0</td>\n",
       "      <td>female</td>\n",
       "      <td>right handed</td>\n",
       "      <td>college/bachelor degree</td>\n",
       "      <td>yes</td>\n",
       "      <td>city</td>\n",
       "      <td>house/bungalow</td>\n",
       "    </tr>\n",
       "    <tr>\n",
       "      <td>4</td>\n",
       "      <td>5.0</td>\n",
       "      <td>3.0</td>\n",
       "      <td>4.0</td>\n",
       "      <td>3.0</td>\n",
       "      <td>2.0</td>\n",
       "      <td>4.0</td>\n",
       "      <td>3.0</td>\n",
       "      <td>5.0</td>\n",
       "      <td>3.0</td>\n",
       "      <td>1.0</td>\n",
       "      <td>...</td>\n",
       "      <td>20.0</td>\n",
       "      <td>170.0</td>\n",
       "      <td>59.0</td>\n",
       "      <td>1.0</td>\n",
       "      <td>female</td>\n",
       "      <td>right handed</td>\n",
       "      <td>secondary school</td>\n",
       "      <td>no</td>\n",
       "      <td>village</td>\n",
       "      <td>house/bungalow</td>\n",
       "    </tr>\n",
       "  </tbody>\n",
       "</table>\n",
       "<p>5 rows × 150 columns</p>\n",
       "</div>"
      ],
      "text/plain": [
       "   Music  Slow songs or fast songs  Dance  Folk  Country  Classical music  \\\n",
       "0    5.0                       3.0    2.0   1.0      2.0              2.0   \n",
       "1    4.0                       4.0    2.0   1.0      1.0              1.0   \n",
       "2    5.0                       5.0    2.0   2.0      3.0              4.0   \n",
       "3    5.0                       3.0    2.0   1.0      1.0              1.0   \n",
       "4    5.0                       3.0    4.0   3.0      2.0              4.0   \n",
       "\n",
       "   Musical  Pop  Rock  Metal or Hardrock  ...   Age  Height  Weight  \\\n",
       "0      1.0  5.0   5.0                1.0  ...  20.0   163.0    48.0   \n",
       "1      2.0  3.0   5.0                4.0  ...  19.0   163.0    58.0   \n",
       "2      5.0  3.0   5.0                3.0  ...  20.0   176.0    67.0   \n",
       "3      1.0  2.0   2.0                1.0  ...  22.0   172.0    59.0   \n",
       "4      3.0  5.0   3.0                1.0  ...  20.0   170.0    59.0   \n",
       "\n",
       "   Number of siblings  Gender  Left - right handed                Education  \\\n",
       "0                 1.0  female         right handed  college/bachelor degree   \n",
       "1                 2.0  female         right handed  college/bachelor degree   \n",
       "2                 2.0  female         right handed         secondary school   \n",
       "3                 1.0  female         right handed  college/bachelor degree   \n",
       "4                 1.0  female         right handed         secondary school   \n",
       "\n",
       "   Only child  Village - town  House - block of flats  \n",
       "0          no         village          block of flats  \n",
       "1          no            city          block of flats  \n",
       "2          no            city          block of flats  \n",
       "3         yes            city          house/bungalow  \n",
       "4          no         village          house/bungalow  \n",
       "\n",
       "[5 rows x 150 columns]"
      ]
     },
     "execution_count": 85,
     "metadata": {},
     "output_type": "execute_result"
    }
   ],
   "source": [
    "# Take a look at the dataset for analysis\n",
    "print(data.shape)\n",
    "data.head(5)"
   ]
  },
  {
   "cell_type": "code",
   "execution_count": 86,
   "metadata": {},
   "outputs": [
    {
     "name": "stdout",
     "output_type": "stream",
     "text": [
      "Music                       3\n",
      "Slow songs or fast songs    2\n",
      "Dance                       4\n",
      "Folk                        5\n",
      "Country                     5\n",
      "Classical music             7\n",
      "Musical                     2\n",
      "Pop                         3\n",
      "Rock                        6\n",
      "Metal or Hardrock           3\n",
      "dtype: int64\n",
      "Total number of missing values 608\n"
     ]
    }
   ],
   "source": [
    "# Find the number of missing values\n",
    "print(data.isna().sum().head(10))\n",
    "print('Total number of missing values ' + str(data.isna().sum().sum()))"
   ]
  },
  {
   "cell_type": "markdown",
   "metadata": {},
   "source": [
    "Clean data by imputing missing data getting a median result for each category median used as each response is an integer value as there are 1010 responses imputing data rather than dropping is the preferred method"
   ]
  },
  {
   "cell_type": "code",
   "execution_count": 87,
   "metadata": {
    "scrolled": true
   },
   "outputs": [],
   "source": [
    "clean = data.fillna(data.median())"
   ]
  },
  {
   "cell_type": "code",
   "execution_count": 88,
   "metadata": {
    "scrolled": false
   },
   "outputs": [
    {
     "data": {
      "image/png": "[encoded data removed]",
      "text/plain": [
       "<Figure size 1080x360 with 2 Axes>"
      ]
     },
     "metadata": {
      "needs_background": "light"
     },
     "output_type": "display_data"
    }
   ],
   "source": [
    "# Plot to show distribution of age range\n",
    "plt.figure(figsize = (15 ,5))\n",
    "plt.subplot(1,2,1)\n",
    "sns.distplot(clean.Age, bins=16)\n",
    "plt.ylabel(\"Proportion\")\n",
    "\n",
    "plt.subplot(1,2,2)\n",
    "sns.boxplot(clean.Age)\n",
    "\n",
    "plt.show()"
   ]
  },
  {
   "cell_type": "code",
   "execution_count": 89,
   "metadata": {},
   "outputs": [
    {
     "data": {
      "text/plain": [
       "<matplotlib.axes._subplots.AxesSubplot at 0x1c3014bb70>"
      ]
     },
     "execution_count": 89,
     "metadata": {},
     "output_type": "execute_result"
    },
    {
     "data": {
      "image/png": "[encoded data removed]",
      "text/plain": [
       "<Figure size 1080x216 with 2 Axes>"
      ]
     },
     "metadata": {
      "needs_background": "light"
     },
     "output_type": "display_data"
    }
   ],
   "source": [
    "# Seeing the proportion of male to female respondents and whether respondents live in a village or city\n",
    "plt.figure(figsize = (15,3))\n",
    "plt.subplot(1,2,1)\n",
    "sns.countplot(clean['Village - town'], palette = \"Set1\")\n",
    "\n",
    "plt.subplot(1,2,2)\n",
    "sns.countplot(clean['Gender'], palette = \"Set1\")"
   ]
  },
  {
   "cell_type": "code",
   "execution_count": 90,
   "metadata": {},
   "outputs": [
    {
     "name": "stdout",
     "output_type": "stream",
     "text": [
      "Mean Weight = 66.36 kg\n",
      "Mean Height = 173.50 cm\n"
     ]
    }
   ],
   "source": [
    "# Looking at weight and height of respondents\n",
    "weight = clean['Weight'].mean()\n",
    "height = clean['Height'].mean()\n",
    "\n",
    "print('Mean Weight = %.2f kg' % weight)\n",
    "print('Mean Height = %.2f cm' % height)"
   ]
  },
  {
   "cell_type": "code",
   "execution_count": 91,
   "metadata": {
    "scrolled": false
   },
   "outputs": [
    {
     "name": "stdout",
     "output_type": "stream",
     "text": [
      "{'polynomial': [1.0000000000000004, 2.5833810130324373e-15], 'determination': 1.000000000000001}\n",
      "\n",
      "R Val\n",
      "0.6747747992019404\n"
     ]
    }
   ],
   "source": [
    "# Using scipy.stats to get a measure of correlation coefficient r between weight and height\n",
    "\n",
    "print(polyfit(clean['Weight'],clean['Weight'],1))\n",
    "slope, intercept, r_value, p_value, std_err = scipy.stats.linregress(clean['Weight'],clean['Height'])\n",
    "print('\\nR Val')\n",
    "print(r_value)"
   ]
  },
  {
   "cell_type": "code",
   "execution_count": 92,
   "metadata": {
    "scrolled": true
   },
   "outputs": [],
   "source": [
    "# Data categorised either by numeric or categorical values\n",
    "features_numeric = [col for col in data.columns if data[col].dtype != 'object']\n",
    "features_categories = [col for col in data.columns if data[col].dtype == 'object']"
   ]
  },
  {
   "cell_type": "code",
   "execution_count": 93,
   "metadata": {},
   "outputs": [
    {
     "data": {
      "image/png": "[encoded data removed]",
      "text/plain": [
       "<Figure size 1080x360 with 1 Axes>"
      ]
     },
     "metadata": {
      "needs_background": "light"
     },
     "output_type": "display_data"
    }
   ],
   "source": [
    "#  Plotting weight against height\n",
    "z = np.abs(stats.zscore(clean[features_numeric]))\n",
    "height_df = clean[(z < 3).all(axis=1)]\n",
    "fig, ax = plt.subplots(figsize = (15,5))\n",
    "\n",
    "plot_corr(height_df.Weight, height_df.Height, 'Weight','Height', ax)\n",
    "plt.show()"
   ]
  },
  {
   "cell_type": "markdown",
   "metadata": {},
   "source": [
    "## Investigating correlation between musical genres\n",
    "Investigating the musical preferences and any correlations between music genres in a correlation heatmap"
   ]
  },
  {
   "cell_type": "code",
   "execution_count": 94,
   "metadata": {},
   "outputs": [
    {
     "data": {
      "text/plain": [
       "(19.5, -0.5)"
      ]
     },
     "execution_count": 94,
     "metadata": {},
     "output_type": "execute_result"
    },
    {
     "data": {
      "image/png": "[encoded data removed]",
      "text/plain": [
       "<Figure size 1080x720 with 2 Axes>"
      ]
     },
     "metadata": {
      "needs_background": "light"
     },
     "output_type": "display_data"
    }
   ],
   "source": [
    "# Select musical categories to perform analysis on\n",
    "music = ['Music','Slow songs or fast songs','Dance','Folk','Country','Classical music','Musical','Pop','Rock','Metal or Hardrock','Punk','Hiphop, Rap','Reggae, Ska','Swing, Jazz','Rock n roll','Alternative','Latino','Techno, Trance','Opera']\n",
    "\n",
    "corr = clean[music].corr()\n",
    "mask = np.zeros_like(corr, dtype=np.bool)\n",
    "np.fill_diagonal(mask, True)\n",
    "f, ax = plt.subplots(figsize=(15, 10))\n",
    "cmap = sns.diverging_palette(250, 10, as_cmap=True)\n",
    "sns.heatmap(corr,mask=mask,cmap=cmap,vmax=.6,center=0,square=True,linewidths=1,cbar_kws={\"shrink\": .5})\n",
    "ax.set_ylim(len(music)+0.5, -0.5)"
   ]
  },
  {
   "cell_type": "markdown",
   "metadata": {},
   "source": [
    "Plotting a heatmap for all music genres in dataset, we can see that there is a range of correlation between genres. Positive correlation between genres is far stronger than negative correlation. \n",
    "\n",
    "It is interesting to see that the 'Metal or Hardrock' category has a more polar view of music where the respondents are likely to correlate strongly or negatively with other genres of music as it has some of the darkesrred shades and darker blue shades. \n",
    "\n",
    "Another interesting category to analyse is the 'Hiphop, Rap' group which is more likely to correlate negatively with other genres indicated by the amount of blue in this row/column compared with other genres. The listeners of Hiphop and Rap are less likely to listten to other genres of music.\n",
    "\n",
    "For example, Rock, Metal or Hardrock and Punk are very strongly correlated with each other as is Classical Music and Opera. On the other hand, Metal or Hardrock and Pop are negatively correlated."
   ]
  },
  {
   "cell_type": "code",
   "execution_count": 95,
   "metadata": {
    "scrolled": false
   },
   "outputs": [
    {
     "data": {
      "image/png": "[encoded data removed]",
      "text/plain": [
       "<Figure size 1080x360 with 2 Axes>"
      ]
     },
     "metadata": {
      "needs_background": "light"
     },
     "output_type": "display_data"
    }
   ],
   "source": [
    "var_x = 'Metal or Hardrock'\n",
    "var_y = 'Punk'\n",
    "\n",
    "fig, ax = plt.subplots(1,2)\n",
    "plot_corr_avg(clean[var_x], clean[var_y], var_x, var_y, ax[0])\n",
    "ax[0].set_xlabel(var_x)\n",
    "ax[0].set_ylabel(var_y)\n",
    "\n",
    "# Changing the y variable to pop\n",
    "var_y = 'Pop'\n",
    "plot_corr_avg(clean[var_x], clean[var_y], var_x, var_y, ax[1])\n",
    "ax[1].set_xlabel(var_x)\n",
    "ax[1].set_ylabel(var_y)\n",
    "\n",
    "fig.set_figheight(5)\n",
    "fig.set_figwidth(15)\n",
    "\n",
    "plt.setp(ax, ylim = (0,5))\n",
    "plt.show()"
   ]
  },
  {
   "cell_type": "code",
   "execution_count": 96,
   "metadata": {
    "scrolled": true
   },
   "outputs": [
    {
     "data": {
      "image/png": "[encoded data removed]",
      "text/plain": [
       "<Figure size 1080x360 with 2 Axes>"
      ]
     },
     "metadata": {
      "needs_background": "light"
     },
     "output_type": "display_data"
    }
   ],
   "source": [
    "var_x = 'Opera'\n",
    "var_y = 'Classical music'\n",
    "\n",
    "fig, ax = plt.subplots(1,2)\n",
    "plot_corr_avg(clean[var_x], clean[var_y], var_x, var_y, ax[0])\n",
    "ax[0].set_xlabel(var_x)\n",
    "ax[0].set_ylabel(var_y)\n",
    "\n",
    "# Changing the y variable to pop\n",
    "var_x = 'Hiphop, Rap'\n",
    "plot_corr_avg(clean[var_x], clean[var_y], var_x, var_y, ax[1])\n",
    "ax[1].set_xlabel(var_x)\n",
    "ax[1].set_ylabel(var_y)\n",
    "\n",
    "fig.set_figheight(5)\n",
    "fig.set_figwidth(15)\n",
    "\n",
    "plt.setp(ax, ylim = (0,5))\n",
    "plt.show()"
   ]
  },
  {
   "cell_type": "markdown",
   "metadata": {},
   "source": [
    "The strongly positive and negative correlations between music genres such as Punk and Metal or Hardrock and Classical Music and Hiphop, Rap can be seen more clearly here. For each category of the x axis, the y is the average for this x axis group."
   ]
  },
  {
   "cell_type": "markdown",
   "metadata": {},
   "source": [
    "Investigating the opinions of survey respondents against age, elections and changing the past as two likely factors that age may change"
   ]
  },
  {
   "cell_type": "code",
   "execution_count": 97,
   "metadata": {
    "scrolled": true
   },
   "outputs": [
    {
     "data": {
      "image/png": "[encoded data removed]",
      "text/plain": [
       "<Figure size 1080x360 with 2 Axes>"
      ]
     },
     "metadata": {
      "needs_background": "light"
     },
     "output_type": "display_data"
    }
   ],
   "source": [
    "var_x = 'Age'\n",
    "var_y = 'Elections'\n",
    "\n",
    "fig, ax = plt.subplots(1,2)\n",
    "plot_corr_avg(clean[var_x], clean[var_y], var_x, var_y, ax[0])\n",
    "ax[0].set_xlabel(var_x)\n",
    "ax[0].set_ylabel(var_y)\n",
    "\n",
    "# Changing the y variable\n",
    "var_y = 'Changing the past'\n",
    "plot_corr_avg(clean[var_x], clean[var_y], var_x, var_y, ax[1])\n",
    "ax[1].set_xlabel(var_x)\n",
    "ax[1].set_ylabel(var_y)\n",
    "\n",
    "fig.set_figheight(5)\n",
    "fig.set_figwidth(15)\n",
    "\n",
    "plt.setp(ax, ylim = (0,5))\n",
    "plt.show()"
   ]
  },
  {
   "cell_type": "markdown",
   "metadata": {},
   "source": [
    "From the plots we see some interesting results. Respondents from ages 15-18 have a very little interest in elections. There is a large step in interest from 17 - 19 and beyond 19, the interest in voting in elections stays approximately constant. This corresponds nicely with the legal voting age of Slovenia which is 18.\n",
    "\n",
    "Generally older respondent's, want to change the past less. This could be due to any number of reasons, perhaps simply by living longer, people become more content with their past. Maybe from a teenager to a young adult, there is more uncertainty about their future so they think decisions they made will have greater consequences later on in life."
   ]
  },
  {
   "cell_type": "markdown",
   "metadata": {},
   "source": [
    "Looking at the EDA, the respondents are a range of ages from 15 to 30, most are around 20 years old who are city dwellers and female. They have a range of musical preferences showing trends in similar genres.\n",
    "\n",
    "For machine learning we standardise variables and ensure regularisation to dataset"
   ]
  },
  {
   "cell_type": "code",
   "execution_count": 98,
   "metadata": {},
   "outputs": [
    {
     "name": "stdout",
     "output_type": "stream",
     "text": [
      "Male Actual and Predicted\n",
      "\n",
      "     Actual  Predicted\n",
      "762    24.0  21.017943\n",
      "181    23.0  21.396442\n",
      "835    19.0  20.195998\n",
      "872    20.0  20.519346\n",
      "768    26.0  22.234622\n",
      "383    22.0  22.029136\n",
      "218    18.0  20.211117\n",
      "37     21.0  23.159310\n",
      "776    25.0  20.494433\n",
      "821    17.0  22.953824\n",
      "\n",
      "Female Actual and Predicted\n",
      "\n",
      "     Actual  Predicted\n",
      "391    24.0  20.358650\n",
      "232    19.0  17.892050\n",
      "973    20.0  20.764532\n",
      "145    19.0  23.848306\n",
      "276    21.0  16.078404\n",
      "737    21.0  20.621811\n",
      "975    23.0  22.380414\n",
      "781    20.0  23.254845\n",
      "304    18.0  18.030993\n",
      "376    20.0  20.853257\n",
      "\n",
      "Male Prediciton Statistics\n",
      "Mean Absolute Error: 1.8955574824292156\n",
      "Mean Squared Error: 5.787435352542096\n",
      "Root Mean Squared Error: 2.4057089085219965\n",
      "\n",
      "Female Prediction Statistics\n",
      "Mean Absolute Error: 2.052905656331096\n",
      "Mean Squared Error: 6.935883261589224\n",
      "Root Mean Squared Error: 2.633606512292454\n"
     ]
    }
   ],
   "source": [
    "# Trying Linear Regression to Predict age\n",
    "# Divide dataset into male and female data and include only numeric feaures\n",
    "\n",
    "male_df = clean[clean[\"Gender\"] == \"male\"]\n",
    "female_df = clean[clean[\"Gender\"] == \"female\"]\n",
    "\n",
    "male_numeric = male_df[[\"Height\",\"Weight\",\"Age\"]]\n",
    "female_numeric = female_df[features_numeric]\n",
    "\n",
    "# Store HEIGHT in each dataframe and drop it from the main one\n",
    "male_height = male_numeric['Age']\n",
    "female_height = female_numeric['Age']\n",
    "\n",
    "male_numeric.drop(\"Age\", axis=1, inplace = True)\n",
    "female_numeric.drop(\"Age\", axis=1, inplace = True)\n",
    "\n",
    "# Do a test train split\n",
    "X_train_m , X_test_m, y_train_m, y_test_m = train_test_split(male_numeric, male_height, test_size=0.2, random_state=0)\n",
    "X_train_f , X_test_f, y_train_f, y_test_f = train_test_split(female_numeric, female_height, test_size=0.2, random_state=0)\n",
    "\n",
    "regressor_m = LinearRegression()\n",
    "regressor_f = LinearRegression()\n",
    "regressor_m.fit(X_train_m, y_train_m)\n",
    "regressor_f.fit(X_train_f, y_train_f)\n",
    "\n",
    "y_pred_m = regressor_m.predict(X_test_m)\n",
    "y_pred_f = regressor_f.predict(X_test_f)\n",
    "\n",
    "df_m = pd.DataFrame({'Actual': y_test_m, 'Predicted': y_pred_m})\n",
    "print('Male Actual and Predicted\\n')\n",
    "print(df_m.head(10))\n",
    "\n",
    "print(\"\\nFemale Actual and Predicted\\n\")\n",
    "df_f = pd.DataFrame({'Actual': y_test_f, 'Predicted': y_pred_f})\n",
    "print(df_f.head(10))\n",
    "\n",
    "print('\\nMale Prediciton Statistics')\n",
    "print('Mean Absolute Error:', metrics.mean_absolute_error(y_test_m, y_pred_m))  \n",
    "print('Mean Squared Error:', metrics.mean_squared_error(y_test_m, y_pred_m))  \n",
    "print('Root Mean Squared Error:', np.sqrt(metrics.mean_squared_error(y_test_m, y_pred_m)))\n",
    "\n",
    "print('\\nFemale Prediction Statistics')\n",
    "print('Mean Absolute Error:', metrics.mean_absolute_error(y_test_f, y_pred_f))  \n",
    "print('Mean Squared Error:', metrics.mean_squared_error(y_test_f, y_pred_f))  \n",
    "print('Root Mean Squared Error:', np.sqrt(metrics.mean_squared_error(y_test_f, y_pred_f)))"
   ]
  },
  {
   "cell_type": "code",
   "execution_count": 99,
   "metadata": {
    "scrolled": true
   },
   "outputs": [
    {
     "data": {
      "text/html": [
       "<div>\n",
       "<style scoped>\n",
       "    .dataframe tbody tr th:only-of-type {\n",
       "        vertical-align: middle;\n",
       "    }\n",
       "\n",
       "    .dataframe tbody tr th {\n",
       "        vertical-align: top;\n",
       "    }\n",
       "\n",
       "    .dataframe thead th {\n",
       "        text-align: right;\n",
       "    }\n",
       "</style>\n",
       "<table border=\"1\" class=\"dataframe\">\n",
       "  <thead>\n",
       "    <tr style=\"text-align: right;\">\n",
       "      <th></th>\n",
       "      <th>Music</th>\n",
       "      <th>Slow songs or fast songs</th>\n",
       "      <th>Dance</th>\n",
       "      <th>Folk</th>\n",
       "      <th>Country</th>\n",
       "      <th>Classical music</th>\n",
       "      <th>Musical</th>\n",
       "      <th>Pop</th>\n",
       "      <th>Rock</th>\n",
       "      <th>Metal or Hardrock</th>\n",
       "      <th>...</th>\n",
       "      <th>Shopping centres</th>\n",
       "      <th>Branded clothing</th>\n",
       "      <th>Entertainment spending</th>\n",
       "      <th>Spending on looks</th>\n",
       "      <th>Spending on gadgets</th>\n",
       "      <th>Spending on healthy eating</th>\n",
       "      <th>Age</th>\n",
       "      <th>Height</th>\n",
       "      <th>Weight</th>\n",
       "      <th>Number of siblings</th>\n",
       "    </tr>\n",
       "  </thead>\n",
       "  <tbody>\n",
       "    <tr>\n",
       "      <td>count</td>\n",
       "      <td>1010.000000</td>\n",
       "      <td>1010.000000</td>\n",
       "      <td>1010.000000</td>\n",
       "      <td>1010.000000</td>\n",
       "      <td>1010.000000</td>\n",
       "      <td>1010.000000</td>\n",
       "      <td>1010.000000</td>\n",
       "      <td>1010.000000</td>\n",
       "      <td>1010.000000</td>\n",
       "      <td>1010.000000</td>\n",
       "      <td>...</td>\n",
       "      <td>1010.000000</td>\n",
       "      <td>1010.000000</td>\n",
       "      <td>1010.000000</td>\n",
       "      <td>1010.000000</td>\n",
       "      <td>1010.000000</td>\n",
       "      <td>1010.000000</td>\n",
       "      <td>1010.000000</td>\n",
       "      <td>1010.000000</td>\n",
       "      <td>1010.000000</td>\n",
       "      <td>1010.00000</td>\n",
       "    </tr>\n",
       "    <tr>\n",
       "      <td>mean</td>\n",
       "      <td>4.732673</td>\n",
       "      <td>3.327723</td>\n",
       "      <td>3.112871</td>\n",
       "      <td>2.287129</td>\n",
       "      <td>2.122772</td>\n",
       "      <td>2.956436</td>\n",
       "      <td>2.762376</td>\n",
       "      <td>3.473267</td>\n",
       "      <td>3.763366</td>\n",
       "      <td>2.360396</td>\n",
       "      <td>...</td>\n",
       "      <td>3.233663</td>\n",
       "      <td>3.050495</td>\n",
       "      <td>3.200990</td>\n",
       "      <td>3.105941</td>\n",
       "      <td>2.870297</td>\n",
       "      <td>3.558416</td>\n",
       "      <td>20.430693</td>\n",
       "      <td>173.503960</td>\n",
       "      <td>66.357426</td>\n",
       "      <td>1.29604</td>\n",
       "    </tr>\n",
       "    <tr>\n",
       "      <td>std</td>\n",
       "      <td>0.663222</td>\n",
       "      <td>0.833232</td>\n",
       "      <td>1.168268</td>\n",
       "      <td>1.136271</td>\n",
       "      <td>1.073501</td>\n",
       "      <td>1.248223</td>\n",
       "      <td>1.259639</td>\n",
       "      <td>1.160029</td>\n",
       "      <td>1.181474</td>\n",
       "      <td>1.371093</td>\n",
       "      <td>...</td>\n",
       "      <td>1.321791</td>\n",
       "      <td>1.305028</td>\n",
       "      <td>1.187229</td>\n",
       "      <td>1.203589</td>\n",
       "      <td>1.284970</td>\n",
       "      <td>1.092842</td>\n",
       "      <td>2.819240</td>\n",
       "      <td>9.924916</td>\n",
       "      <td>13.705814</td>\n",
       "      <td>1.01059</td>\n",
       "    </tr>\n",
       "    <tr>\n",
       "      <td>min</td>\n",
       "      <td>1.000000</td>\n",
       "      <td>1.000000</td>\n",
       "      <td>1.000000</td>\n",
       "      <td>1.000000</td>\n",
       "      <td>1.000000</td>\n",
       "      <td>1.000000</td>\n",
       "      <td>1.000000</td>\n",
       "      <td>1.000000</td>\n",
       "      <td>1.000000</td>\n",
       "      <td>1.000000</td>\n",
       "      <td>...</td>\n",
       "      <td>1.000000</td>\n",
       "      <td>1.000000</td>\n",
       "      <td>1.000000</td>\n",
       "      <td>1.000000</td>\n",
       "      <td>1.000000</td>\n",
       "      <td>1.000000</td>\n",
       "      <td>15.000000</td>\n",
       "      <td>62.000000</td>\n",
       "      <td>41.000000</td>\n",
       "      <td>0.00000</td>\n",
       "    </tr>\n",
       "    <tr>\n",
       "      <td>25%</td>\n",
       "      <td>5.000000</td>\n",
       "      <td>3.000000</td>\n",
       "      <td>2.000000</td>\n",
       "      <td>1.000000</td>\n",
       "      <td>1.000000</td>\n",
       "      <td>2.000000</td>\n",
       "      <td>2.000000</td>\n",
       "      <td>3.000000</td>\n",
       "      <td>3.000000</td>\n",
       "      <td>1.000000</td>\n",
       "      <td>...</td>\n",
       "      <td>2.000000</td>\n",
       "      <td>2.000000</td>\n",
       "      <td>2.000000</td>\n",
       "      <td>2.000000</td>\n",
       "      <td>2.000000</td>\n",
       "      <td>3.000000</td>\n",
       "      <td>19.000000</td>\n",
       "      <td>167.000000</td>\n",
       "      <td>56.000000</td>\n",
       "      <td>1.00000</td>\n",
       "    </tr>\n",
       "    <tr>\n",
       "      <td>50%</td>\n",
       "      <td>5.000000</td>\n",
       "      <td>3.000000</td>\n",
       "      <td>3.000000</td>\n",
       "      <td>2.000000</td>\n",
       "      <td>2.000000</td>\n",
       "      <td>3.000000</td>\n",
       "      <td>3.000000</td>\n",
       "      <td>4.000000</td>\n",
       "      <td>4.000000</td>\n",
       "      <td>2.000000</td>\n",
       "      <td>...</td>\n",
       "      <td>3.000000</td>\n",
       "      <td>3.000000</td>\n",
       "      <td>3.000000</td>\n",
       "      <td>3.000000</td>\n",
       "      <td>3.000000</td>\n",
       "      <td>4.000000</td>\n",
       "      <td>20.000000</td>\n",
       "      <td>173.000000</td>\n",
       "      <td>64.000000</td>\n",
       "      <td>1.00000</td>\n",
       "    </tr>\n",
       "    <tr>\n",
       "      <td>75%</td>\n",
       "      <td>5.000000</td>\n",
       "      <td>4.000000</td>\n",
       "      <td>4.000000</td>\n",
       "      <td>3.000000</td>\n",
       "      <td>3.000000</td>\n",
       "      <td>4.000000</td>\n",
       "      <td>4.000000</td>\n",
       "      <td>4.000000</td>\n",
       "      <td>5.000000</td>\n",
       "      <td>3.000000</td>\n",
       "      <td>...</td>\n",
       "      <td>4.000000</td>\n",
       "      <td>4.000000</td>\n",
       "      <td>4.000000</td>\n",
       "      <td>4.000000</td>\n",
       "      <td>4.000000</td>\n",
       "      <td>4.000000</td>\n",
       "      <td>22.000000</td>\n",
       "      <td>180.000000</td>\n",
       "      <td>75.000000</td>\n",
       "      <td>2.00000</td>\n",
       "    </tr>\n",
       "    <tr>\n",
       "      <td>max</td>\n",
       "      <td>5.000000</td>\n",
       "      <td>5.000000</td>\n",
       "      <td>5.000000</td>\n",
       "      <td>5.000000</td>\n",
       "      <td>5.000000</td>\n",
       "      <td>5.000000</td>\n",
       "      <td>5.000000</td>\n",
       "      <td>5.000000</td>\n",
       "      <td>5.000000</td>\n",
       "      <td>5.000000</td>\n",
       "      <td>...</td>\n",
       "      <td>5.000000</td>\n",
       "      <td>5.000000</td>\n",
       "      <td>5.000000</td>\n",
       "      <td>5.000000</td>\n",
       "      <td>5.000000</td>\n",
       "      <td>5.000000</td>\n",
       "      <td>30.000000</td>\n",
       "      <td>203.000000</td>\n",
       "      <td>165.000000</td>\n",
       "      <td>10.00000</td>\n",
       "    </tr>\n",
       "  </tbody>\n",
       "</table>\n",
       "<p>8 rows × 139 columns</p>\n",
       "</div>"
      ],
      "text/plain": [
       "             Music  Slow songs or fast songs        Dance         Folk  \\\n",
       "count  1010.000000               1010.000000  1010.000000  1010.000000   \n",
       "mean      4.732673                  3.327723     3.112871     2.287129   \n",
       "std       0.663222                  0.833232     1.168268     1.136271   \n",
       "min       1.000000                  1.000000     1.000000     1.000000   \n",
       "25%       5.000000                  3.000000     2.000000     1.000000   \n",
       "50%       5.000000                  3.000000     3.000000     2.000000   \n",
       "75%       5.000000                  4.000000     4.000000     3.000000   \n",
       "max       5.000000                  5.000000     5.000000     5.000000   \n",
       "\n",
       "           Country  Classical music      Musical          Pop         Rock  \\\n",
       "count  1010.000000      1010.000000  1010.000000  1010.000000  1010.000000   \n",
       "mean      2.122772         2.956436     2.762376     3.473267     3.763366   \n",
       "std       1.073501         1.248223     1.259639     1.160029     1.181474   \n",
       "min       1.000000         1.000000     1.000000     1.000000     1.000000   \n",
       "25%       1.000000         2.000000     2.000000     3.000000     3.000000   \n",
       "50%       2.000000         3.000000     3.000000     4.000000     4.000000   \n",
       "75%       3.000000         4.000000     4.000000     4.000000     5.000000   \n",
       "max       5.000000         5.000000     5.000000     5.000000     5.000000   \n",
       "\n",
       "       Metal or Hardrock  ...  Shopping centres  Branded clothing  \\\n",
       "count        1010.000000  ...       1010.000000       1010.000000   \n",
       "mean            2.360396  ...          3.233663          3.050495   \n",
       "std             1.371093  ...          1.321791          1.305028   \n",
       "min             1.000000  ...          1.000000          1.000000   \n",
       "25%             1.000000  ...          2.000000          2.000000   \n",
       "50%             2.000000  ...          3.000000          3.000000   \n",
       "75%             3.000000  ...          4.000000          4.000000   \n",
       "max             5.000000  ...          5.000000          5.000000   \n",
       "\n",
       "       Entertainment spending  Spending on looks  Spending on gadgets  \\\n",
       "count             1010.000000        1010.000000          1010.000000   \n",
       "mean                 3.200990           3.105941             2.870297   \n",
       "std                  1.187229           1.203589             1.284970   \n",
       "min                  1.000000           1.000000             1.000000   \n",
       "25%                  2.000000           2.000000             2.000000   \n",
       "50%                  3.000000           3.000000             3.000000   \n",
       "75%                  4.000000           4.000000             4.000000   \n",
       "max                  5.000000           5.000000             5.000000   \n",
       "\n",
       "       Spending on healthy eating          Age       Height       Weight  \\\n",
       "count                 1010.000000  1010.000000  1010.000000  1010.000000   \n",
       "mean                     3.558416    20.430693   173.503960    66.357426   \n",
       "std                      1.092842     2.819240     9.924916    13.705814   \n",
       "min                      1.000000    15.000000    62.000000    41.000000   \n",
       "25%                      3.000000    19.000000   167.000000    56.000000   \n",
       "50%                      4.000000    20.000000   173.000000    64.000000   \n",
       "75%                      4.000000    22.000000   180.000000    75.000000   \n",
       "max                      5.000000    30.000000   203.000000   165.000000   \n",
       "\n",
       "       Number of siblings  \n",
       "count          1010.00000  \n",
       "mean              1.29604  \n",
       "std               1.01059  \n",
       "min               0.00000  \n",
       "25%               1.00000  \n",
       "50%               1.00000  \n",
       "75%               2.00000  \n",
       "max              10.00000  \n",
       "\n",
       "[8 rows x 139 columns]"
      ]
     },
     "execution_count": 99,
     "metadata": {},
     "output_type": "execute_result"
    }
   ],
   "source": [
    "clean.describe(include = np.number)"
   ]
  },
  {
   "cell_type": "code",
   "execution_count": 100,
   "metadata": {},
   "outputs": [
    {
     "data": {
      "text/html": [
       "<div>\n",
       "<style scoped>\n",
       "    .dataframe tbody tr th:only-of-type {\n",
       "        vertical-align: middle;\n",
       "    }\n",
       "\n",
       "    .dataframe tbody tr th {\n",
       "        vertical-align: top;\n",
       "    }\n",
       "\n",
       "    .dataframe thead th {\n",
       "        text-align: right;\n",
       "    }\n",
       "</style>\n",
       "<table border=\"1\" class=\"dataframe\">\n",
       "  <thead>\n",
       "    <tr style=\"text-align: right;\">\n",
       "      <th></th>\n",
       "      <th>Smoking</th>\n",
       "      <th>Alcohol</th>\n",
       "      <th>Punctuality</th>\n",
       "      <th>Lying</th>\n",
       "      <th>Internet usage</th>\n",
       "      <th>Gender</th>\n",
       "      <th>Left - right handed</th>\n",
       "      <th>Education</th>\n",
       "      <th>Only child</th>\n",
       "      <th>Village - town</th>\n",
       "      <th>House - block of flats</th>\n",
       "    </tr>\n",
       "  </thead>\n",
       "  <tbody>\n",
       "    <tr>\n",
       "      <td>count</td>\n",
       "      <td>1002</td>\n",
       "      <td>1005</td>\n",
       "      <td>1008</td>\n",
       "      <td>1008</td>\n",
       "      <td>1010</td>\n",
       "      <td>1004</td>\n",
       "      <td>1007</td>\n",
       "      <td>1009</td>\n",
       "      <td>1008</td>\n",
       "      <td>1006</td>\n",
       "      <td>1006</td>\n",
       "    </tr>\n",
       "    <tr>\n",
       "      <td>unique</td>\n",
       "      <td>4</td>\n",
       "      <td>3</td>\n",
       "      <td>3</td>\n",
       "      <td>4</td>\n",
       "      <td>4</td>\n",
       "      <td>2</td>\n",
       "      <td>2</td>\n",
       "      <td>6</td>\n",
       "      <td>2</td>\n",
       "      <td>2</td>\n",
       "      <td>2</td>\n",
       "    </tr>\n",
       "    <tr>\n",
       "      <td>top</td>\n",
       "      <td>tried smoking</td>\n",
       "      <td>social drinker</td>\n",
       "      <td>i am always on time</td>\n",
       "      <td>sometimes</td>\n",
       "      <td>few hours a day</td>\n",
       "      <td>female</td>\n",
       "      <td>right handed</td>\n",
       "      <td>secondary school</td>\n",
       "      <td>no</td>\n",
       "      <td>city</td>\n",
       "      <td>block of flats</td>\n",
       "    </tr>\n",
       "    <tr>\n",
       "      <td>freq</td>\n",
       "      <td>430</td>\n",
       "      <td>659</td>\n",
       "      <td>399</td>\n",
       "      <td>549</td>\n",
       "      <td>744</td>\n",
       "      <td>593</td>\n",
       "      <td>906</td>\n",
       "      <td>621</td>\n",
       "      <td>754</td>\n",
       "      <td>707</td>\n",
       "      <td>595</td>\n",
       "    </tr>\n",
       "  </tbody>\n",
       "</table>\n",
       "</div>"
      ],
      "text/plain": [
       "              Smoking         Alcohol          Punctuality      Lying  \\\n",
       "count            1002            1005                 1008       1008   \n",
       "unique              4               3                    3          4   \n",
       "top     tried smoking  social drinker  i am always on time  sometimes   \n",
       "freq              430             659                  399        549   \n",
       "\n",
       "         Internet usage  Gender Left - right handed         Education  \\\n",
       "count              1010    1004                1007              1009   \n",
       "unique                4       2                   2                 6   \n",
       "top     few hours a day  female        right handed  secondary school   \n",
       "freq                744     593                 906               621   \n",
       "\n",
       "       Only child Village - town House - block of flats  \n",
       "count        1008           1006                   1006  \n",
       "unique          2              2                      2  \n",
       "top            no           city         block of flats  \n",
       "freq          754            707                    595  "
      ]
     },
     "execution_count": 100,
     "metadata": {},
     "output_type": "execute_result"
    }
   ],
   "source": [
    "# Looking at the non-numerical data in the dataframe\n",
    "clean.describe(include = ['O'])"
   ]
  },
  {
   "cell_type": "markdown",
   "metadata": {},
   "source": [
    "Drop outliers for height by using a Z score measure of more than 3 Std. deviations from the mean of the data"
   ]
  },
  {
   "cell_type": "markdown",
   "metadata": {},
   "source": [
    "# Logistic regression to classify gender"
   ]
  },
  {
   "cell_type": "markdown",
   "metadata": {},
   "source": [
    "Now we perform analysis to see what we can infer from the survey using machine learning models\n",
    "\n",
    "From the responses of the survey we predict gender from Binary logistic regression and tune parameters to get the highest accuracy using gridsearch CV.\n",
    "\n",
    "Then the same analysis is carried out using SVM again with gridsearch CV."
   ]
  },
  {
   "cell_type": "code",
   "execution_count": 101,
   "metadata": {},
   "outputs": [],
   "source": [
    "# Prepare data for gender classification\n",
    "# Assign a variable for binary classification\n",
    "y_variable = \"Gender\"\n",
    "\n",
    "category_map = {y_variable:{'male': 0, 'female': 1}}\n",
    "# category_map = {y_variable:{'city': 0,'village':1}}\n",
    "\n",
    "ml_inputs = clean.dropna()\n",
    "ml_y = ml_inputs[y_variable]\n",
    "\n",
    "ml_inputs.drop(columns=y_variable, inplace = True)\n",
    "ml_x = ml_inputs[features_numeric] # X logisitc and using numeric feature data\n",
    "\n",
    "# FIGURE OUT HOW TO INCLUDE CATEGORICAL DATA\n",
    "for key,val in category_map[y_variable].items():\n",
    "    ml_y.replace(key, val, inplace = True)"
   ]
  },
  {
   "cell_type": "code",
   "execution_count": 102,
   "metadata": {
    "scrolled": false
   },
   "outputs": [
    {
     "name": "stdout",
     "output_type": "stream",
     "text": [
      "{'C': 0.01}\n"
     ]
    }
   ],
   "source": [
    "# LOGISTIC REGRESSION FOR BINARY CLASSIFICATION OF GENDER\n",
    "# Initially using a split of 80-20% training-test data try with (clean)\n",
    "log_x_train, log_x_test, log_y_train, log_y_test = train_test_split(ml_x, ml_y, test_size=0.2)\n",
    "\n",
    "# Feature normalisation\n",
    "scaler = StandardScaler()\n",
    "scaler.fit(log_x_train)\n",
    "log_x_train = scaler.transform(log_x_train)\n",
    "log_x_test = scaler.transform(log_x_test)\n",
    "\n",
    "# LOGISTIC REGRESSION\n",
    "logistic_regression = LogisticRegression()\n",
    "logistic_regression.fit(log_x_train,log_y_train)\n",
    "\n",
    "# IMPLEMENT KFOLD CROSS VALIDATION\n",
    "# Using KFold cross validation with gridserachcv\n",
    "Kfolds = KFold(n_splits = 10)\n",
    "parameter_grid = {'C':[.001, 0.01, .03, .1, 0.3, 1, 3, 10]}\n",
    "log_grsearch = GridSearchCV(logistic_regression, param_grid=parameter_grid, cv=Kfolds, scoring='f1')\n",
    "log_grsearch.fit(log_x_train, log_y_train)\n",
    "\n",
    "print(log_grsearch.best_params_)\n",
    "log_y_score = log_grsearch.predict(log_x_test)"
   ]
  },
  {
   "cell_type": "markdown",
   "metadata": {},
   "source": [
    "# Using SVM to classify gender\n",
    "\n",
    "This is for a comparison to Logistic regression for accuracy\n"
   ]
  },
  {
   "cell_type": "code",
   "execution_count": null,
   "metadata": {
    "scrolled": false
   },
   "outputs": [],
   "source": [
    "# Using the support vector machine algorithm for classification\n",
    "# svc = svm.SVC(kernel = 'linear',probability=True)\n",
    "svc = svm.SVC(gamma = 'scale', decision_function_shape='ovo',probability=True)\n",
    "\n",
    "# Initially using a split of 80-20% training-test data try with (clean)\n",
    "svm_x_train, svm_x_test, svm_y_train, svm_y_test = train_test_split(ml_x, ml_y, test_size=0.2)\n",
    "\n",
    "# Feature normalisation\n",
    "scaler_svm = StandardScaler()\n",
    "scaler_svm.fit(svm_x_train)\n",
    "svm_x_train = scaler_svm.transform(svm_x_train)\n",
    "svm_x_test = scaler_svm.transform(svm_x_test)\n",
    "\n",
    "# Using KFold cross validation with SVM\n",
    "Kfolds = KFold(n_splits=10)\n",
    "parameter_grid = {'C':[.001,0.01,.03,.1,0.3,1,3,10]}\n",
    "svm_grsearch = GridSearchCV(svc, param_grid=parameter_grid, cv=Kfolds, scoring = 'f1')\n",
    "svm_grsearch.fit(svm_x_train, svm_y_train)\n",
    "\n",
    "print(svm_grsearch.best_params_)\n",
    "svm_y_score = svm_grsearch.predict(svm_x_test)"
   ]
  },
  {
   "cell_type": "markdown",
   "metadata": {},
   "source": [
    "## Results of Logistic Regression and SVM\n",
    "Showing results of logistic regression and SVM using f1 score and plotting ROC curves"
   ]
  },
  {
   "cell_type": "code",
   "execution_count": null,
   "metadata": {
    "scrolled": false
   },
   "outputs": [],
   "source": [
    "fig, (ax1, ax2) = plt.subplots(1,2, figsize = (15,5))\n",
    "\n",
    "ax1.set_xlim([-0.05, 1.0])\n",
    "ax2.set_xlim([-0.05, 1.0])\n",
    "ax1.set_ylim([0.0, 1.05])\n",
    "ax2.set_ylim([0.0, 1.05])\n",
    "ax1.set_xlabel('False Positive Rate')\n",
    "ax2.set_xlabel('False Positive Rate')\n",
    "ax1.set_ylabel('True Positive Rate')\n",
    "ax2.set_ylabel('True Positive Rate')\n",
    "fig.suptitle('Receiver operating characteristic')\n",
    "\n",
    "plt.savefig('Log_ROC')\n",
    "\n",
    "plot_roc(log_x_test, log_y_test, log_grsearch, 'Logistic Regression', ax1)\n",
    "plot_roc(svm_x_test, svm_y_test, svm_grsearch, 'SVM', ax2)\n",
    "\n",
    "ax1.set_title('Comparing ROC curves for Logisitic regression and SVM')\n",
    "ax1.set_title('Logistic Regression')\n",
    "ax2.set_title('SVM')\n",
    "\n",
    "print(\"Logistic regression accuracy:\", log_grsearch.score(log_x_test, log_y_test))\n",
    "\n",
    "average_precision = average_precision_score(log_y_test, log_y_score)\n",
    "print('Average precision-recall score: {0:0.2f}'.format(average_precision))\n",
    "\n",
    "conf_matrix = confusion_matrix(log_y_test, log_y_score)\n",
    "print(conf_matrix)\n",
    "print(classification_report(log_y_test, log_y_score))\n",
    "\n",
    "# Metrics\n",
    "print(\"\\nSVM accuracy:\", svm_grsearch.score(svm_x_test, svm_y_test))\n",
    "\n",
    "average_precision = average_precision_score(svm_y_test, svm_y_score)\n",
    "print('Average precision-recall score: {0:0.2f}'.format(average_precision))\n",
    "\n",
    "conf_matrix = confusion_matrix(svm_y_test, svm_y_score)\n",
    "print(conf_matrix)\n",
    "print(classification_report(svm_y_test, svm_y_score))\n",
    "\n",
    "plt.show()"
   ]
  },
  {
   "cell_type": "markdown",
   "metadata": {},
   "source": [
    "We see that both Logistic Regression and SVM are accurate ways to classify gender from the survey responses. The ~96% accurate for logistic regression is comparable to that of SVM both using gridsearchcv sklearn method.\n",
    "\n",
    "The confusion matrix with f1 scores shows the precision and recall were high at about ~95%\n",
    "\n",
    "Analysing the ROC curves: They both hug the y-axis and have a flat top, showing that the prediction of gender is accurate from the responses of the survey"
   ]
  },
  {
   "cell_type": "markdown",
   "metadata": {},
   "source": [
    "# Multiclass Logistic Regression"
   ]
  },
  {
   "cell_type": "markdown",
   "metadata": {},
   "source": [
    "Using \"Internet usage\" as the multiclass logistic regression classification variable. This is grouped into categoires: \"few hours a day\", \"most of the day\", \"less than an hour a day\""
   ]
  },
  {
   "cell_type": "code",
   "execution_count": null,
   "metadata": {
    "scrolled": false
   },
   "outputs": [],
   "source": [
    "# Two variables, one for logistic regression\n",
    "# y_logistic = \"Alcohol\"\n",
    "y_logistic = \"Internet usage\"\n",
    "\n",
    "ml_inputs = clean.dropna()\n",
    "ml_y = ml_inputs[y_logistic]\n",
    "\n",
    "ml_inputs.drop(columns=y_logistic, inplace = True)\n",
    "ml_x = ml_inputs\n",
    "# ml_x = ml_inputs[features_numeric] # X logisitc and using numeric feature data\n",
    "\n",
    "# # FIGURE OUT HOW TO INCLUDE CATEGORICAL DATA\n",
    "from sklearn.preprocessing import OneHotEncoder\n",
    "encoder = OneHotEncoder(handle_unknown = 'ignore')\n",
    "\n",
    "# Initially using a split of 80-20% training-test data try with (clean)\n",
    "x_train, x_test, y_train, y_test = train_test_split(ml_x, ml_y, test_size=0.2)\n",
    "\n",
    "encoder.fit(x_train)\n",
    "x_train = encoder.transform(x_train)\n",
    "x_test = encoder.transform(x_test)\n",
    "\n",
    "logistic_regression_multi = LogisticRegression(solver='lbfgs',multi_class = 'multinomial') # Multiclass\n",
    "logistic_regression_multi.fit(x_train,y_train)\n",
    "\n",
    "y_score_multi = logistic_regression_multi.predict(x_test)\n",
    "\n",
    "# Using KFold cross validation\n",
    "# Kfolds = KFold(n_splits=10)\n",
    "\n",
    "# print(\"Logistic regression accuracy :\", logm_grsearch.score(x_test, y_test))\n",
    "print(\"Logistic regression accuracy :\", logistic_regression_multi.score(x_test, y_test))\n",
    "\n",
    "# print(y_score_multi, y_test)"
   ]
  },
  {
   "cell_type": "code",
   "execution_count": null,
   "metadata": {
    "scrolled": false
   },
   "outputs": [],
   "source": [
    "y_score_df = pd.Series(y_score_multi)\n",
    "\n",
    "y_1 = y_test.value_counts().to_frame()\n",
    "\n",
    "y_score_all = y_score_df.value_counts()\n",
    "\n",
    "\n",
    "if y_1.index.contains('no time at all'):\n",
    "    to_append = pd.Series([0], index = ['no time at all'])\n",
    "    y_score_all = y_score_df.value_counts().append(to_append)\n",
    "\n",
    "print(y_1)\n",
    "print(y_score_all)\n",
    "    "
   ]
  },
  {
   "cell_type": "code",
   "execution_count": null,
   "metadata": {
    "scrolled": false
   },
   "outputs": [],
   "source": [
    "# fig, axes = plt.subplots(1, 2, figsize = (10,10)) https://matplotlib.org/3.1.1/gallery/lines_bars_and_markers/barchart.html#sphx-glr-gallery-lines-bars-and-markers-barchart-py\n",
    "fig, ax = plt.subplots(figsize = (15,5))\n",
    "\n",
    "labels = ['no time at all', 'less than an hour a day', 'few hours a day', 'most of the day']\n",
    "x = np.arange(len(labels)-1)\n",
    "width = 0.35\n",
    "\n",
    "# y_score_vals = y_score_df.value_counts().to_frame()\n",
    "y_score_vals = y_score_all.to_frame()\n",
    "y_score_vals.columns = [\"Internet usage\"]\n",
    "y_test_vals = y_test.value_counts().to_frame()\n",
    "\n",
    "# prediction = ax.bar(y_score_vals.index, y_score_vals[\"Internet usage\"], width, label = \"Prediction\")\n",
    "prediction = ax.bar(x - 0.5 *width, y_score_vals[\"Internet usage\"], width, label = \"Prediction\", align = \"center\")\n",
    "test = ax.bar(x + 0.5* width, y_test_vals[\"Internet usage\"], width, label = \"Test\", align = \"center\")\n",
    "\n",
    "ax.set_xticks(x)\n",
    "ax.set_xticklabels(labels[:3])\n",
    "\n",
    "print(y_score_vals)\n",
    "print(y_test_vals)\n",
    "\n",
    "plt.show()"
   ]
  },
  {
   "cell_type": "markdown",
   "metadata": {},
   "source": [
    "Applying logistic regression for multiclass classification for how much a person uses internet per day reasonably accurate, 60-70% of the time predicting correctly"
   ]
  },
  {
   "cell_type": "markdown",
   "metadata": {},
   "source": [
    "In summary, the data has been explored and predictions have been made about the respondents of the survey."
   ]
  }
 ],
 "metadata": {
  "kernelspec": {
   "display_name": "kaggle_env",
   "language": "python",
   "name": "kaggle_env"
  },
  "language_info": {
   "codemirror_mode": {
    "name": "ipython",
    "version": 3
   },
   "file_extension": ".py",
   "mimetype": "text/x-python",
   "name": "python",
   "nbconvert_exporter": "python",
   "pygments_lexer": "ipython3",
   "version": "3.6.9"
  }
 },
 "nbformat": 4,
 "nbformat_minor": 2
}
