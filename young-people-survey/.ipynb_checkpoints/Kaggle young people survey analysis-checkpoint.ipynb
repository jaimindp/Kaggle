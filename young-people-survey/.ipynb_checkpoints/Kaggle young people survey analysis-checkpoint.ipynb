{
 "cells": [
  {
   "cell_type": "markdown",
   "metadata": {},
   "source": [
    "MLMLMLMLMLMLMLMLMLMLMLMLMLMLMLMLMLMLMLMLMLMLMLMLMLMLMLMLMLMLMLMLMLMLMLMLMLMLMLMLMLMLMLMLMLMLMLMLMLMLMLMLMLMLMLMLMLMLMLMLMLMLMLMLMLMLMLMLMLMLMLMLMLMLMLMLMLMLMLMLMLMLMLMLMLMLMLMLMLMLMLMLMLMLMLMLMLMLMLMLMLMLMLMLMLMLMLMLMLMLMLMLMLMLMLMLMLMLMLMLMLMLMLMLMLM:)LMLMLMLMLMLMLMLMLMLMLMLMLMLMLMLMLMLMLMLMLMLMLMLMLMLMLMLMLMLMLMLMLMLMLMLMLMLMLMLMLMLMLMLMLMLMLMLMLMLMLMLMLMLMLMLMLMLMLMLMLMLMLMLMLMLMLMLMLMLMLMLMLMLMLMLMLMLMLMLMLMLMLMLMLMLMLMLMLMLMLMLMLMLMLMLMLMLMLMLMLMLMLMLMLMLMLMLMLMLMLMLMLMLMLMLMLMLMLMLMLMLMLMLMLMLMLMLML\n",
    "\n",
    "The goal is to explore and analyse the data set 'Young people survey' downloaded from: https://www.kaggle.com/miroslavsabo/young-people-survey\n",
    "\n",
    "The data contains survey responses from Slovakians between the ages of 15 - 30 and the questions are based around these areas:\n",
    "Music preferences, \n",
    "Movie preferences,\n",
    "Hobbies & interests,\n",
    "Phobias,\n",
    "Health habits,\n",
    "Personality traits, views on life, & opinions,\n",
    "Spending habits,\n",
    "Demographics\n",
    "\n",
    "The aim is to see how survey responses can be used to infer something about the respondent\n",
    "\n",
    "Written by: Jaimin Patel\n",
    "\n",
    "1. Linear regression to predict age\n",
    "2. Binary logistic regression to predict gender\n",
    "3. Categorical logisitic regression to predict smoking/music/fears/Lie detector/ - anything\n",
    "4. Support vector machine"
   ]
  },
  {
   "cell_type": "code",
   "execution_count": 32,
   "metadata": {},
   "outputs": [],
   "source": [
    "# Kaggle survey data science analysis\n",
    "import numpy as np\n",
    "import pandas as pd\n",
    "import matplotlib.pyplot as plt\n",
    "import seaborn as sns\n",
    "import statsmodels.api as sm\n",
    "from sklearn import metrics\n",
    "from sklearn.linear_model import LogisticRegression,LinearRegression\n",
    "from sklearn.preprocessing import StandardScaler, OneHotEncoder\n",
    "from sklearn.pipeline import make_pipeline\n",
    "from sklearn.decomposition import PCA\n",
    "from sklearn.ensemble import RandomForestRegressor, GradientBoostingRegressor\n",
    "from sklearn.cluster import KMeans\n",
    "from sklearn import svm\n",
    "from sklearn.model_selection import GridSearchCV, KFold, train_test_split, cross_val_score\n",
    "import scipy\n",
    "import scipy.stats as stats\n",
    "from sklearn.metrics import precision_recall_curve\n",
    "from sklearn.metrics import average_precision_score\n",
    "from sklearn.metrics import classification_report\n",
    "from sklearn.metrics import confusion_matrix\n",
    "from sklearn.metrics import roc_auc_score\n",
    "from sklearn.metrics import roc_curve\n",
    "\n",
    "import warnings\n",
    "warnings.filterwarnings(\"ignore\")\n",
    "\n",
    "%matplotlib inline"
   ]
  },
  {
   "cell_type": "code",
   "execution_count": 33,
   "metadata": {
    "scrolled": true
   },
   "outputs": [],
   "source": [
    "from IPython.display import display"
   ]
  },
  {
   "cell_type": "markdown",
   "metadata": {},
   "source": [
    "Function Declarations"
   ]
  },
  {
   "cell_type": "code",
   "execution_count": 34,
   "metadata": {},
   "outputs": [],
   "source": [
    "def one_hot_encode(df,cat_vars = None, num_vars = None):\n",
    "    cat_df = pd.get_dummies(df[cat_vars])\n",
    "    num_df = df.num_vars.apply(pd.to_numeric)\n",
    "    return pd.concat([cat_df, num_df], axis=1)"
   ]
  },
  {
   "cell_type": "code",
   "execution_count": 35,
   "metadata": {},
   "outputs": [],
   "source": [
    "def get_target(df, target):\n",
    "    return df[target]"
   ]
  },
  {
   "cell_type": "code",
   "execution_count": 36,
   "metadata": {},
   "outputs": [],
   "source": [
    "def train_model(model, feature_df, target_df, num_procs, mean_mse, cv_std):\n",
    "    neg_mse = cross_val_score(df, feature_df, target_df, n_jobs = num_procs, scoring = 'neg_mean_square_error')\n",
    "    mean_mse[model] = 1.0 - np.mean(neg_mse)\n",
    "    cv_std[model] = np.std(neg_mse)"
   ]
  },
  {
   "cell_type": "code",
   "execution_count": 37,
   "metadata": {},
   "outputs": [],
   "source": [
    "def summary(model, mean_mse, cv_std):\n",
    "    print('\\nModel:\\n', model)\n",
    "    print('Average MSE:\\n', mean_mse[model])\n",
    "    print('Standard deviation during CV:\\n', cv_std[model])"
   ]
  },
  {
   "cell_type": "code",
   "execution_count": 38,
   "metadata": {},
   "outputs": [],
   "source": [
    "def plot_roc(x_test, y_test, grsearch, alg_name , ax = None):\n",
    "\n",
    "    logit_roc_auc = roc_auc_score(y_test, grsearch.predict(x_test))\n",
    "    fpr, tpr, thresholds = roc_curve(y_test, grsearch.predict_proba(x_test)[:,1])\n",
    "    \n",
    "    ax = ax or plt.gca()\n",
    "\n",
    "    ax.plot([0, 1], [0, 1],'r--')\n",
    "    ax.plot(fpr, tpr)\n",
    "    \n",
    "    return "
   ]
  },
  {
   "cell_type": "code",
   "execution_count": 39,
   "metadata": {},
   "outputs": [],
   "source": [
    "# Polynomial Regression for R Squared calculation\n",
    "def polyfit(x, y, degree):\n",
    "    results = {}\n",
    "    coeffs = np.polyfit(x, y, degree)\n",
    "\n",
    "     # Polynomial Coefficients\n",
    "    results['polynomial'] = coeffs.tolist()\n",
    "\n",
    "    # r-squared\n",
    "    p = np.poly1d(coeffs)\n",
    "    # fit values, and mean\n",
    "    yhat = p(x)                      # or [p(z) for z in x]\n",
    "    ybar = np.sum(y)/len(y)          # or sum(y)/len(y)\n",
    "    ssreg = np.sum((yhat-ybar)**2)   # or sum([ (yihat - ybar)**2 for yihat in yhat])\n",
    "    sstot = np.sum((y - ybar)**2)    # or sum([ (yi - ybar)**2 for yi in y])\n",
    "    results['determination'] = ssreg / sstot\n",
    "\n",
    "    return results"
   ]
  },
  {
   "cell_type": "code",
   "execution_count": 40,
   "metadata": {},
   "outputs": [],
   "source": [
    "# Function to plot a correlation plot\n",
    "def plot_corr(var_x,var_y,x_name,y_name):\n",
    "    \n",
    "    fig, ax = plt.subplots()\n",
    "    ax.plot(var_x,var_y,'o')   \n",
    "    ax.set_xlabel(x_name)\n",
    "    ax.set_ylabel(y_name)\n",
    "    \n",
    "    z = np.polyfit(var_x, var_y, 1)\n",
    "    p = np.poly1d(z)\n",
    "    \n",
    "    ax.plot(var_x,p(var_x),\"r--\")"
   ]
  },
  {
   "cell_type": "code",
   "execution_count": 41,
   "metadata": {},
   "outputs": [],
   "source": [
    "# Function to plot a correlation plot average\n",
    "def plot_corr_avg(var_x,var_y,x_name,y_name):\n",
    "    \n",
    "    min_val = int(var_x.min())\n",
    "    max_val = int(var_x.max())\n",
    "    \n",
    "    total = np.zeros(max_val-min_val+1)\n",
    "    num_entries = np.zeros(max_val-min_val+1)\n",
    "    \n",
    "    # Get total for the range of values\n",
    "    for i in range(len(var_x)):\n",
    "        total[int(var_x[i])-min_val] = total[int(var_x[i])-min_val] + var_y[i]\n",
    "\n",
    "    for i in range(len(total)):\n",
    "        num_entries[i] = sum(var_x == min_val+i)\n",
    "    \n",
    "    average = total/num_entries\n",
    "                           \n",
    "    plt.bar(list(range(min_val,max_val+1)),average) \n",
    "    plt.ylim(0,5)\n",
    "    plt.xlabel(x_name)\n",
    "    plt.ylabel(y_name)\n",
    "    \n",
    "    z = np.polyfit(var_x, var_y, 1)\n",
    "    p = np.poly1d(z)\n",
    "    \n",
    "    plt.plot(var_x,p(var_x),\"r--\")"
   ]
  },
  {
   "cell_type": "markdown",
   "metadata": {},
   "source": [
    "EDA to analyse raw data"
   ]
  },
  {
   "cell_type": "code",
   "execution_count": 42,
   "metadata": {
    "scrolled": true
   },
   "outputs": [],
   "source": [
    "data = pd.read_csv(r'/Users/jaimin/Documents/Kaggle/Kaggle-young-people-survey/young-people-survey/responses.csv')"
   ]
  },
  {
   "cell_type": "code",
   "execution_count": 43,
   "metadata": {
    "scrolled": true
   },
   "outputs": [
    {
     "data": {
      "text/html": [
       "<div>\n",
       "<style scoped>\n",
       "    .dataframe tbody tr th:only-of-type {\n",
       "        vertical-align: middle;\n",
       "    }\n",
       "\n",
       "    .dataframe tbody tr th {\n",
       "        vertical-align: top;\n",
       "    }\n",
       "\n",
       "    .dataframe thead th {\n",
       "        text-align: right;\n",
       "    }\n",
       "</style>\n",
       "<table border=\"1\" class=\"dataframe\">\n",
       "  <thead>\n",
       "    <tr style=\"text-align: right;\">\n",
       "      <th></th>\n",
       "      <th>Music</th>\n",
       "      <th>Slow songs or fast songs</th>\n",
       "      <th>Dance</th>\n",
       "      <th>Folk</th>\n",
       "      <th>Country</th>\n",
       "      <th>Classical music</th>\n",
       "      <th>Musical</th>\n",
       "      <th>Pop</th>\n",
       "      <th>Rock</th>\n",
       "      <th>Metal or Hardrock</th>\n",
       "      <th>...</th>\n",
       "      <th>Age</th>\n",
       "      <th>Height</th>\n",
       "      <th>Weight</th>\n",
       "      <th>Number of siblings</th>\n",
       "      <th>Gender</th>\n",
       "      <th>Left - right handed</th>\n",
       "      <th>Education</th>\n",
       "      <th>Only child</th>\n",
       "      <th>Village - town</th>\n",
       "      <th>House - block of flats</th>\n",
       "    </tr>\n",
       "  </thead>\n",
       "  <tbody>\n",
       "    <tr>\n",
       "      <td>0</td>\n",
       "      <td>5.0</td>\n",
       "      <td>3.0</td>\n",
       "      <td>2.0</td>\n",
       "      <td>1.0</td>\n",
       "      <td>2.0</td>\n",
       "      <td>2.0</td>\n",
       "      <td>1.0</td>\n",
       "      <td>5.0</td>\n",
       "      <td>5.0</td>\n",
       "      <td>1.0</td>\n",
       "      <td>...</td>\n",
       "      <td>20.0</td>\n",
       "      <td>163.0</td>\n",
       "      <td>48.0</td>\n",
       "      <td>1.0</td>\n",
       "      <td>female</td>\n",
       "      <td>right handed</td>\n",
       "      <td>college/bachelor degree</td>\n",
       "      <td>no</td>\n",
       "      <td>village</td>\n",
       "      <td>block of flats</td>\n",
       "    </tr>\n",
       "    <tr>\n",
       "      <td>1</td>\n",
       "      <td>4.0</td>\n",
       "      <td>4.0</td>\n",
       "      <td>2.0</td>\n",
       "      <td>1.0</td>\n",
       "      <td>1.0</td>\n",
       "      <td>1.0</td>\n",
       "      <td>2.0</td>\n",
       "      <td>3.0</td>\n",
       "      <td>5.0</td>\n",
       "      <td>4.0</td>\n",
       "      <td>...</td>\n",
       "      <td>19.0</td>\n",
       "      <td>163.0</td>\n",
       "      <td>58.0</td>\n",
       "      <td>2.0</td>\n",
       "      <td>female</td>\n",
       "      <td>right handed</td>\n",
       "      <td>college/bachelor degree</td>\n",
       "      <td>no</td>\n",
       "      <td>city</td>\n",
       "      <td>block of flats</td>\n",
       "    </tr>\n",
       "    <tr>\n",
       "      <td>2</td>\n",
       "      <td>5.0</td>\n",
       "      <td>5.0</td>\n",
       "      <td>2.0</td>\n",
       "      <td>2.0</td>\n",
       "      <td>3.0</td>\n",
       "      <td>4.0</td>\n",
       "      <td>5.0</td>\n",
       "      <td>3.0</td>\n",
       "      <td>5.0</td>\n",
       "      <td>3.0</td>\n",
       "      <td>...</td>\n",
       "      <td>20.0</td>\n",
       "      <td>176.0</td>\n",
       "      <td>67.0</td>\n",
       "      <td>2.0</td>\n",
       "      <td>female</td>\n",
       "      <td>right handed</td>\n",
       "      <td>secondary school</td>\n",
       "      <td>no</td>\n",
       "      <td>city</td>\n",
       "      <td>block of flats</td>\n",
       "    </tr>\n",
       "    <tr>\n",
       "      <td>3</td>\n",
       "      <td>5.0</td>\n",
       "      <td>3.0</td>\n",
       "      <td>2.0</td>\n",
       "      <td>1.0</td>\n",
       "      <td>1.0</td>\n",
       "      <td>1.0</td>\n",
       "      <td>1.0</td>\n",
       "      <td>2.0</td>\n",
       "      <td>2.0</td>\n",
       "      <td>1.0</td>\n",
       "      <td>...</td>\n",
       "      <td>22.0</td>\n",
       "      <td>172.0</td>\n",
       "      <td>59.0</td>\n",
       "      <td>1.0</td>\n",
       "      <td>female</td>\n",
       "      <td>right handed</td>\n",
       "      <td>college/bachelor degree</td>\n",
       "      <td>yes</td>\n",
       "      <td>city</td>\n",
       "      <td>house/bungalow</td>\n",
       "    </tr>\n",
       "    <tr>\n",
       "      <td>4</td>\n",
       "      <td>5.0</td>\n",
       "      <td>3.0</td>\n",
       "      <td>4.0</td>\n",
       "      <td>3.0</td>\n",
       "      <td>2.0</td>\n",
       "      <td>4.0</td>\n",
       "      <td>3.0</td>\n",
       "      <td>5.0</td>\n",
       "      <td>3.0</td>\n",
       "      <td>1.0</td>\n",
       "      <td>...</td>\n",
       "      <td>20.0</td>\n",
       "      <td>170.0</td>\n",
       "      <td>59.0</td>\n",
       "      <td>1.0</td>\n",
       "      <td>female</td>\n",
       "      <td>right handed</td>\n",
       "      <td>secondary school</td>\n",
       "      <td>no</td>\n",
       "      <td>village</td>\n",
       "      <td>house/bungalow</td>\n",
       "    </tr>\n",
       "  </tbody>\n",
       "</table>\n",
       "<p>5 rows × 150 columns</p>\n",
       "</div>"
      ],
      "text/plain": [
       "   Music  Slow songs or fast songs  Dance  Folk  Country  Classical music  \\\n",
       "0    5.0                       3.0    2.0   1.0      2.0              2.0   \n",
       "1    4.0                       4.0    2.0   1.0      1.0              1.0   \n",
       "2    5.0                       5.0    2.0   2.0      3.0              4.0   \n",
       "3    5.0                       3.0    2.0   1.0      1.0              1.0   \n",
       "4    5.0                       3.0    4.0   3.0      2.0              4.0   \n",
       "\n",
       "   Musical  Pop  Rock  Metal or Hardrock  ...   Age  Height  Weight  \\\n",
       "0      1.0  5.0   5.0                1.0  ...  20.0   163.0    48.0   \n",
       "1      2.0  3.0   5.0                4.0  ...  19.0   163.0    58.0   \n",
       "2      5.0  3.0   5.0                3.0  ...  20.0   176.0    67.0   \n",
       "3      1.0  2.0   2.0                1.0  ...  22.0   172.0    59.0   \n",
       "4      3.0  5.0   3.0                1.0  ...  20.0   170.0    59.0   \n",
       "\n",
       "   Number of siblings  Gender  Left - right handed                Education  \\\n",
       "0                 1.0  female         right handed  college/bachelor degree   \n",
       "1                 2.0  female         right handed  college/bachelor degree   \n",
       "2                 2.0  female         right handed         secondary school   \n",
       "3                 1.0  female         right handed  college/bachelor degree   \n",
       "4                 1.0  female         right handed         secondary school   \n",
       "\n",
       "   Only child  Village - town  House - block of flats  \n",
       "0          no         village          block of flats  \n",
       "1          no            city          block of flats  \n",
       "2          no            city          block of flats  \n",
       "3         yes            city          house/bungalow  \n",
       "4          no         village          house/bungalow  \n",
       "\n",
       "[5 rows x 150 columns]"
      ]
     },
     "execution_count": 43,
     "metadata": {},
     "output_type": "execute_result"
    }
   ],
   "source": [
    "# Take a look at the dataset for analysis\n",
    "data.head(5)"
   ]
  },
  {
   "cell_type": "code",
   "execution_count": 44,
   "metadata": {},
   "outputs": [
    {
     "name": "stdout",
     "output_type": "stream",
     "text": [
      "Music                       3\n",
      "Slow songs or fast songs    2\n",
      "Dance                       4\n",
      "Folk                        5\n",
      "Country                     5\n",
      "Classical music             7\n",
      "Musical                     2\n",
      "Pop                         3\n",
      "Rock                        6\n",
      "Metal or Hardrock           3\n",
      "dtype: int64\n",
      "608\n"
     ]
    }
   ],
   "source": [
    "# Find the number of missing values\n",
    "print(data.isna().sum().head(10))\n",
    "print(data.isna().sum().sum())"
   ]
  },
  {
   "cell_type": "code",
   "execution_count": 45,
   "metadata": {
    "scrolled": true
   },
   "outputs": [],
   "source": [
    "# Clean data for machine learning models by imputing missing data getting a median result for each category\n",
    "# median used as each response is an integer value\n",
    "clean = data.fillna(data.median())"
   ]
  },
  {
   "cell_type": "code",
   "execution_count": 51,
   "metadata": {
    "scrolled": false
   },
   "outputs": [
    {
     "data": {
      "text/plain": [
       "<matplotlib.axes._subplots.AxesSubplot at 0x1c2c876eb8>"
      ]
     },
     "execution_count": 51,
     "metadata": {},
     "output_type": "execute_result"
    },
    {
     "data": {
      "image/png": "[encoded data removed]",
      "text/plain": [
       "<Figure size 1440x720 with 2 Axes>"
      ]
     },
     "metadata": {
      "needs_background": "light"
     },
     "output_type": "display_data"
    }
   ],
   "source": [
    "# Plot to show distribution of age range\n",
    "plt.figure(figsize = (20 ,10))\n",
    "plt.subplot(1,2,1)\n",
    "sns.distplot(clean.Age, bins=16)\n",
    "\n",
    "plt.subplot(1,2,2)\n",
    "sns.boxplot(clean.Age)"
   ]
  },
  {
   "cell_type": "code",
   "execution_count": 74,
   "metadata": {},
   "outputs": [
    {
     "data": {
      "text/plain": [
       "<matplotlib.axes._subplots.AxesSubplot at 0x1c34199f28>"
      ]
     },
     "execution_count": 74,
     "metadata": {},
     "output_type": "execute_result"
    },
    {
     "data": {
      "image/png": "[encoded data removed]",
      "text/plain": [
       "<Figure size 1440x360 with 2 Axes>"
      ]
     },
     "metadata": {
      "needs_background": "light"
     },
     "output_type": "display_data"
    }
   ],
   "source": [
    "# Seeing the proportion of male to female respondents and whether respondents live in a village or city\n",
    "plt.figure(figsize = (20 ,5))\n",
    "plt.subplot(1,2,1)\n",
    "sns.countplot(clean['Village - town'], palette = \"Set1\")\n",
    "\n",
    "plt.subplot(1,2,2)\n",
    "sns.countplot(clean['Gender'], palette = \"Set1\")"
   ]
  },
  {
   "cell_type": "code",
   "execution_count": 79,
   "metadata": {},
   "outputs": [
    {
     "name": "stdout",
     "output_type": "stream",
     "text": [
      "66.35742574257426\n",
      "173.50396039603962\n"
     ]
    }
   ],
   "source": [
    "# Looking at weight and height of respondents\n",
    "print(clean['Weight'].mean())\n",
    "print(clean['Height'].mean())"
   ]
  },
  {
   "cell_type": "code",
   "execution_count": 80,
   "metadata": {
    "scrolled": false
   },
   "outputs": [
    {
     "data": {
      "text/plain": [
       "Text(0, 0.5, 'Height')"
      ]
     },
     "execution_count": 80,
     "metadata": {},
     "output_type": "execute_result"
    },
    {
     "data": {
      "image/png": "[encoded data removed]",
      "text/plain": [
       "<Figure size 432x288 with 1 Axes>"
      ]
     },
     "metadata": {
      "needs_background": "light"
     },
     "output_type": "display_data"
    }
   ],
   "source": [
    "# Using a z score of 3 to drop outliers\n",
    "df = pd.concat([clean['Weight'], clean['Height']],axis=1, sort=False)\n",
    "df = df[(np.abs(stats.zscore(df)) < 3).all(axis=1)]\n",
    "\n",
    "fig, ax = plt.subplots()\n",
    "ax.scatter(df['Weight'],df['Height'])\n",
    "ax.plot(np.unique(df[variable_1]),np.poly1d(np.polyfit(df['Weight'],df['Height'],1))(np.unique(df['Weight'])),'-r')\n",
    "ax.set_xlabel('Weight')\n",
    "ax.set_ylabel('Height')"
   ]
  },
  {
   "cell_type": "code",
   "execution_count": 49,
   "metadata": {
    "scrolled": false
   },
   "outputs": [
    {
     "name": "stdout",
     "output_type": "stream",
     "text": [
      "{'polynomial': [0.5567435870362722, 136.8744561782282], 'determination': 0.5598729167545843}\n",
      "\n",
      "R Val\n",
      "0.7482465614719418\n"
     ]
    }
   ],
   "source": [
    "# Using linear regression to get a measure of correlation coefficient r\n",
    "\n",
    "print(polyfit(df['Weight'],df['Weight'],1))\n",
    "slope, intercept, r_value, p_value, std_err = scipy.stats.linregress(df['Weight'],df['Height'])\n",
    "print('\\nR Val')\n",
    "print(r_value)"
   ]
  },
  {
   "cell_type": "markdown",
   "metadata": {},
   "source": [
    "Looking at the EDA, the respondents are mostly around 20 years old\n",
    "\n",
    "For machine learning we standardise variables and ensure regularisation to dataset"
   ]
  },
  {
   "cell_type": "code",
   "execution_count": 53,
   "metadata": {
    "scrolled": true
   },
   "outputs": [],
   "source": [
    "# Data categorised either by numeric or categorical values\n",
    "\n",
    "features_numeric = [col for col in data.columns if data[col].dtype != 'object']\n",
    "features_categories = [col for col in data.columns if data[col].dtype == 'object']"
   ]
  },
  {
   "cell_type": "code",
   "execution_count": 54,
   "metadata": {},
   "outputs": [
    {
     "name": "stdout",
     "output_type": "stream",
     "text": [
      "     Actual  Predicted\n",
      "762    24.0  21.017943\n",
      "181    23.0  21.396442\n",
      "835    19.0  20.195998\n",
      "872    20.0  20.519346\n",
      "768    26.0  22.234622\n",
      "\n",
      "\n",
      "     Actual  Predicted\n",
      "391    24.0  20.358650\n",
      "232    19.0  17.892050\n",
      "973    20.0  20.764532\n",
      "145    19.0  23.848306\n",
      "276    21.0  16.078404\n",
      "\n",
      "Male\n",
      "Mean Absolute Error: 1.8955574824292156\n",
      "Mean Squared Error: 5.787435352542096\n",
      "Root Mean Squared Error: 2.4057089085219965\n",
      "\n",
      "Female\n",
      "Mean Absolute Error: 2.052905656331096\n",
      "Mean Squared Error: 6.935883261589224\n",
      "Root Mean Squared Error: 2.633606512292454\n"
     ]
    }
   ],
   "source": [
    "# LINEAR REGRESSION FOR AGE\n",
    "# Divide dataset into male and female data and include only numeric feaures\n",
    "\n",
    "male_df = clean[clean[\"Gender\"] == \"male\"]\n",
    "female_df = clean[clean[\"Gender\"] == \"female\"]\n",
    "\n",
    "male_numeric = male_df[[\"Height\",\"Weight\",\"Age\"]]\n",
    "female_numeric = female_df[features_numeric]\n",
    "\n",
    "# Store HEIGHT in each dataframe and drop it from the main one\n",
    "male_height = male_numeric['Age']\n",
    "female_height = female_numeric['Age']\n",
    "\n",
    "male_numeric.drop(\"Age\", axis=1, inplace = True)\n",
    "female_numeric.drop(\"Age\", axis=1, inplace = True)\n",
    "\n",
    "# Do a test train split\n",
    "X_train_m , X_test_m, y_train_m, y_test_m = train_test_split(male_numeric, male_height, test_size=0.2, random_state=0)\n",
    "X_train_f , X_test_f, y_train_f, y_test_f = train_test_split(female_numeric, female_height, test_size=0.2, random_state=0)\n",
    "\n",
    "regressor_m = LinearRegression()\n",
    "regressor_f = LinearRegression()\n",
    "regressor_m.fit(X_train_m, y_train_m)\n",
    "regressor_f.fit(X_train_f, y_train_f)\n",
    "\n",
    "y_pred_m = regressor_m.predict(X_test_m)\n",
    "y_pred_f = regressor_f.predict(X_test_f)\n",
    "\n",
    "df_m = pd.DataFrame({'Actual': y_test_m, 'Predicted': y_pred_m})\n",
    "print(df_m.head())\n",
    "\n",
    "print(\"\\n\")\n",
    "df_f = pd.DataFrame({'Actual': y_test_f, 'Predicted': y_pred_f})\n",
    "print(df_f.head())\n",
    "\n",
    "\n",
    "print('\\nMale')\n",
    "print('Mean Absolute Error:', metrics.mean_absolute_error(y_test_m, y_pred_m))  \n",
    "print('Mean Squared Error:', metrics.mean_squared_error(y_test_m, y_pred_m))  \n",
    "print('Root Mean Squared Error:', np.sqrt(metrics.mean_squared_error(y_test_m, y_pred_m)))\n",
    "\n",
    "print('\\nFemale')\n",
    "print('Mean Absolute Error:', metrics.mean_absolute_error(y_test_f, y_pred_f))  \n",
    "print('Mean Squared Error:', metrics.mean_squared_error(y_test_f, y_pred_f))  \n",
    "print('Root Mean Squared Error:', np.sqrt(metrics.mean_squared_error(y_test_f, y_pred_f)))"
   ]
  },
  {
   "cell_type": "code",
   "execution_count": 55,
   "metadata": {
    "scrolled": true
   },
   "outputs": [
    {
     "data": {
      "text/html": [
       "<div>\n",
       "<style scoped>\n",
       "    .dataframe tbody tr th:only-of-type {\n",
       "        vertical-align: middle;\n",
       "    }\n",
       "\n",
       "    .dataframe tbody tr th {\n",
       "        vertical-align: top;\n",
       "    }\n",
       "\n",
       "    .dataframe thead th {\n",
       "        text-align: right;\n",
       "    }\n",
       "</style>\n",
       "<table border=\"1\" class=\"dataframe\">\n",
       "  <thead>\n",
       "    <tr style=\"text-align: right;\">\n",
       "      <th></th>\n",
       "      <th>Music</th>\n",
       "      <th>Slow songs or fast songs</th>\n",
       "      <th>Dance</th>\n",
       "      <th>Folk</th>\n",
       "      <th>Country</th>\n",
       "      <th>Classical music</th>\n",
       "      <th>Musical</th>\n",
       "      <th>Pop</th>\n",
       "      <th>Rock</th>\n",
       "      <th>Metal or Hardrock</th>\n",
       "      <th>...</th>\n",
       "      <th>Shopping centres</th>\n",
       "      <th>Branded clothing</th>\n",
       "      <th>Entertainment spending</th>\n",
       "      <th>Spending on looks</th>\n",
       "      <th>Spending on gadgets</th>\n",
       "      <th>Spending on healthy eating</th>\n",
       "      <th>Age</th>\n",
       "      <th>Height</th>\n",
       "      <th>Weight</th>\n",
       "      <th>Number of siblings</th>\n",
       "    </tr>\n",
       "  </thead>\n",
       "  <tbody>\n",
       "    <tr>\n",
       "      <td>count</td>\n",
       "      <td>1010.000000</td>\n",
       "      <td>1010.000000</td>\n",
       "      <td>1010.000000</td>\n",
       "      <td>1010.000000</td>\n",
       "      <td>1010.000000</td>\n",
       "      <td>1010.000000</td>\n",
       "      <td>1010.000000</td>\n",
       "      <td>1010.000000</td>\n",
       "      <td>1010.000000</td>\n",
       "      <td>1010.000000</td>\n",
       "      <td>...</td>\n",
       "      <td>1010.000000</td>\n",
       "      <td>1010.000000</td>\n",
       "      <td>1010.000000</td>\n",
       "      <td>1010.000000</td>\n",
       "      <td>1010.000000</td>\n",
       "      <td>1010.000000</td>\n",
       "      <td>1010.000000</td>\n",
       "      <td>1010.000000</td>\n",
       "      <td>1010.000000</td>\n",
       "      <td>1010.00000</td>\n",
       "    </tr>\n",
       "    <tr>\n",
       "      <td>mean</td>\n",
       "      <td>4.732673</td>\n",
       "      <td>3.327723</td>\n",
       "      <td>3.112871</td>\n",
       "      <td>2.287129</td>\n",
       "      <td>2.122772</td>\n",
       "      <td>2.956436</td>\n",
       "      <td>2.762376</td>\n",
       "      <td>3.473267</td>\n",
       "      <td>3.763366</td>\n",
       "      <td>2.360396</td>\n",
       "      <td>...</td>\n",
       "      <td>3.233663</td>\n",
       "      <td>3.050495</td>\n",
       "      <td>3.200990</td>\n",
       "      <td>3.105941</td>\n",
       "      <td>2.870297</td>\n",
       "      <td>3.558416</td>\n",
       "      <td>20.430693</td>\n",
       "      <td>173.503960</td>\n",
       "      <td>66.357426</td>\n",
       "      <td>1.29604</td>\n",
       "    </tr>\n",
       "    <tr>\n",
       "      <td>std</td>\n",
       "      <td>0.663222</td>\n",
       "      <td>0.833232</td>\n",
       "      <td>1.168268</td>\n",
       "      <td>1.136271</td>\n",
       "      <td>1.073501</td>\n",
       "      <td>1.248223</td>\n",
       "      <td>1.259639</td>\n",
       "      <td>1.160029</td>\n",
       "      <td>1.181474</td>\n",
       "      <td>1.371093</td>\n",
       "      <td>...</td>\n",
       "      <td>1.321791</td>\n",
       "      <td>1.305028</td>\n",
       "      <td>1.187229</td>\n",
       "      <td>1.203589</td>\n",
       "      <td>1.284970</td>\n",
       "      <td>1.092842</td>\n",
       "      <td>2.819240</td>\n",
       "      <td>9.924916</td>\n",
       "      <td>13.705814</td>\n",
       "      <td>1.01059</td>\n",
       "    </tr>\n",
       "    <tr>\n",
       "      <td>min</td>\n",
       "      <td>1.000000</td>\n",
       "      <td>1.000000</td>\n",
       "      <td>1.000000</td>\n",
       "      <td>1.000000</td>\n",
       "      <td>1.000000</td>\n",
       "      <td>1.000000</td>\n",
       "      <td>1.000000</td>\n",
       "      <td>1.000000</td>\n",
       "      <td>1.000000</td>\n",
       "      <td>1.000000</td>\n",
       "      <td>...</td>\n",
       "      <td>1.000000</td>\n",
       "      <td>1.000000</td>\n",
       "      <td>1.000000</td>\n",
       "      <td>1.000000</td>\n",
       "      <td>1.000000</td>\n",
       "      <td>1.000000</td>\n",
       "      <td>15.000000</td>\n",
       "      <td>62.000000</td>\n",
       "      <td>41.000000</td>\n",
       "      <td>0.00000</td>\n",
       "    </tr>\n",
       "    <tr>\n",
       "      <td>25%</td>\n",
       "      <td>5.000000</td>\n",
       "      <td>3.000000</td>\n",
       "      <td>2.000000</td>\n",
       "      <td>1.000000</td>\n",
       "      <td>1.000000</td>\n",
       "      <td>2.000000</td>\n",
       "      <td>2.000000</td>\n",
       "      <td>3.000000</td>\n",
       "      <td>3.000000</td>\n",
       "      <td>1.000000</td>\n",
       "      <td>...</td>\n",
       "      <td>2.000000</td>\n",
       "      <td>2.000000</td>\n",
       "      <td>2.000000</td>\n",
       "      <td>2.000000</td>\n",
       "      <td>2.000000</td>\n",
       "      <td>3.000000</td>\n",
       "      <td>19.000000</td>\n",
       "      <td>167.000000</td>\n",
       "      <td>56.000000</td>\n",
       "      <td>1.00000</td>\n",
       "    </tr>\n",
       "    <tr>\n",
       "      <td>50%</td>\n",
       "      <td>5.000000</td>\n",
       "      <td>3.000000</td>\n",
       "      <td>3.000000</td>\n",
       "      <td>2.000000</td>\n",
       "      <td>2.000000</td>\n",
       "      <td>3.000000</td>\n",
       "      <td>3.000000</td>\n",
       "      <td>4.000000</td>\n",
       "      <td>4.000000</td>\n",
       "      <td>2.000000</td>\n",
       "      <td>...</td>\n",
       "      <td>3.000000</td>\n",
       "      <td>3.000000</td>\n",
       "      <td>3.000000</td>\n",
       "      <td>3.000000</td>\n",
       "      <td>3.000000</td>\n",
       "      <td>4.000000</td>\n",
       "      <td>20.000000</td>\n",
       "      <td>173.000000</td>\n",
       "      <td>64.000000</td>\n",
       "      <td>1.00000</td>\n",
       "    </tr>\n",
       "    <tr>\n",
       "      <td>75%</td>\n",
       "      <td>5.000000</td>\n",
       "      <td>4.000000</td>\n",
       "      <td>4.000000</td>\n",
       "      <td>3.000000</td>\n",
       "      <td>3.000000</td>\n",
       "      <td>4.000000</td>\n",
       "      <td>4.000000</td>\n",
       "      <td>4.000000</td>\n",
       "      <td>5.000000</td>\n",
       "      <td>3.000000</td>\n",
       "      <td>...</td>\n",
       "      <td>4.000000</td>\n",
       "      <td>4.000000</td>\n",
       "      <td>4.000000</td>\n",
       "      <td>4.000000</td>\n",
       "      <td>4.000000</td>\n",
       "      <td>4.000000</td>\n",
       "      <td>22.000000</td>\n",
       "      <td>180.000000</td>\n",
       "      <td>75.000000</td>\n",
       "      <td>2.00000</td>\n",
       "    </tr>\n",
       "    <tr>\n",
       "      <td>max</td>\n",
       "      <td>5.000000</td>\n",
       "      <td>5.000000</td>\n",
       "      <td>5.000000</td>\n",
       "      <td>5.000000</td>\n",
       "      <td>5.000000</td>\n",
       "      <td>5.000000</td>\n",
       "      <td>5.000000</td>\n",
       "      <td>5.000000</td>\n",
       "      <td>5.000000</td>\n",
       "      <td>5.000000</td>\n",
       "      <td>...</td>\n",
       "      <td>5.000000</td>\n",
       "      <td>5.000000</td>\n",
       "      <td>5.000000</td>\n",
       "      <td>5.000000</td>\n",
       "      <td>5.000000</td>\n",
       "      <td>5.000000</td>\n",
       "      <td>30.000000</td>\n",
       "      <td>203.000000</td>\n",
       "      <td>165.000000</td>\n",
       "      <td>10.00000</td>\n",
       "    </tr>\n",
       "  </tbody>\n",
       "</table>\n",
       "<p>8 rows × 139 columns</p>\n",
       "</div>"
      ],
      "text/plain": [
       "             Music  Slow songs or fast songs        Dance         Folk  \\\n",
       "count  1010.000000               1010.000000  1010.000000  1010.000000   \n",
       "mean      4.732673                  3.327723     3.112871     2.287129   \n",
       "std       0.663222                  0.833232     1.168268     1.136271   \n",
       "min       1.000000                  1.000000     1.000000     1.000000   \n",
       "25%       5.000000                  3.000000     2.000000     1.000000   \n",
       "50%       5.000000                  3.000000     3.000000     2.000000   \n",
       "75%       5.000000                  4.000000     4.000000     3.000000   \n",
       "max       5.000000                  5.000000     5.000000     5.000000   \n",
       "\n",
       "           Country  Classical music      Musical          Pop         Rock  \\\n",
       "count  1010.000000      1010.000000  1010.000000  1010.000000  1010.000000   \n",
       "mean      2.122772         2.956436     2.762376     3.473267     3.763366   \n",
       "std       1.073501         1.248223     1.259639     1.160029     1.181474   \n",
       "min       1.000000         1.000000     1.000000     1.000000     1.000000   \n",
       "25%       1.000000         2.000000     2.000000     3.000000     3.000000   \n",
       "50%       2.000000         3.000000     3.000000     4.000000     4.000000   \n",
       "75%       3.000000         4.000000     4.000000     4.000000     5.000000   \n",
       "max       5.000000         5.000000     5.000000     5.000000     5.000000   \n",
       "\n",
       "       Metal or Hardrock  ...  Shopping centres  Branded clothing  \\\n",
       "count        1010.000000  ...       1010.000000       1010.000000   \n",
       "mean            2.360396  ...          3.233663          3.050495   \n",
       "std             1.371093  ...          1.321791          1.305028   \n",
       "min             1.000000  ...          1.000000          1.000000   \n",
       "25%             1.000000  ...          2.000000          2.000000   \n",
       "50%             2.000000  ...          3.000000          3.000000   \n",
       "75%             3.000000  ...          4.000000          4.000000   \n",
       "max             5.000000  ...          5.000000          5.000000   \n",
       "\n",
       "       Entertainment spending  Spending on looks  Spending on gadgets  \\\n",
       "count             1010.000000        1010.000000          1010.000000   \n",
       "mean                 3.200990           3.105941             2.870297   \n",
       "std                  1.187229           1.203589             1.284970   \n",
       "min                  1.000000           1.000000             1.000000   \n",
       "25%                  2.000000           2.000000             2.000000   \n",
       "50%                  3.000000           3.000000             3.000000   \n",
       "75%                  4.000000           4.000000             4.000000   \n",
       "max                  5.000000           5.000000             5.000000   \n",
       "\n",
       "       Spending on healthy eating          Age       Height       Weight  \\\n",
       "count                 1010.000000  1010.000000  1010.000000  1010.000000   \n",
       "mean                     3.558416    20.430693   173.503960    66.357426   \n",
       "std                      1.092842     2.819240     9.924916    13.705814   \n",
       "min                      1.000000    15.000000    62.000000    41.000000   \n",
       "25%                      3.000000    19.000000   167.000000    56.000000   \n",
       "50%                      4.000000    20.000000   173.000000    64.000000   \n",
       "75%                      4.000000    22.000000   180.000000    75.000000   \n",
       "max                      5.000000    30.000000   203.000000   165.000000   \n",
       "\n",
       "       Number of siblings  \n",
       "count          1010.00000  \n",
       "mean              1.29604  \n",
       "std               1.01059  \n",
       "min               0.00000  \n",
       "25%               1.00000  \n",
       "50%               1.00000  \n",
       "75%               2.00000  \n",
       "max              10.00000  \n",
       "\n",
       "[8 rows x 139 columns]"
      ]
     },
     "execution_count": 55,
     "metadata": {},
     "output_type": "execute_result"
    }
   ],
   "source": [
    "clean.describe(include = np.number)"
   ]
  },
  {
   "cell_type": "code",
   "execution_count": 56,
   "metadata": {},
   "outputs": [
    {
     "data": {
      "text/html": [
       "<div>\n",
       "<style scoped>\n",
       "    .dataframe tbody tr th:only-of-type {\n",
       "        vertical-align: middle;\n",
       "    }\n",
       "\n",
       "    .dataframe tbody tr th {\n",
       "        vertical-align: top;\n",
       "    }\n",
       "\n",
       "    .dataframe thead th {\n",
       "        text-align: right;\n",
       "    }\n",
       "</style>\n",
       "<table border=\"1\" class=\"dataframe\">\n",
       "  <thead>\n",
       "    <tr style=\"text-align: right;\">\n",
       "      <th></th>\n",
       "      <th>Smoking</th>\n",
       "      <th>Alcohol</th>\n",
       "      <th>Punctuality</th>\n",
       "      <th>Lying</th>\n",
       "      <th>Internet usage</th>\n",
       "      <th>Gender</th>\n",
       "      <th>Left - right handed</th>\n",
       "      <th>Education</th>\n",
       "      <th>Only child</th>\n",
       "      <th>Village - town</th>\n",
       "      <th>House - block of flats</th>\n",
       "    </tr>\n",
       "  </thead>\n",
       "  <tbody>\n",
       "    <tr>\n",
       "      <td>count</td>\n",
       "      <td>1002</td>\n",
       "      <td>1005</td>\n",
       "      <td>1008</td>\n",
       "      <td>1008</td>\n",
       "      <td>1010</td>\n",
       "      <td>1004</td>\n",
       "      <td>1007</td>\n",
       "      <td>1009</td>\n",
       "      <td>1008</td>\n",
       "      <td>1006</td>\n",
       "      <td>1006</td>\n",
       "    </tr>\n",
       "    <tr>\n",
       "      <td>unique</td>\n",
       "      <td>4</td>\n",
       "      <td>3</td>\n",
       "      <td>3</td>\n",
       "      <td>4</td>\n",
       "      <td>4</td>\n",
       "      <td>2</td>\n",
       "      <td>2</td>\n",
       "      <td>6</td>\n",
       "      <td>2</td>\n",
       "      <td>2</td>\n",
       "      <td>2</td>\n",
       "    </tr>\n",
       "    <tr>\n",
       "      <td>top</td>\n",
       "      <td>tried smoking</td>\n",
       "      <td>social drinker</td>\n",
       "      <td>i am always on time</td>\n",
       "      <td>sometimes</td>\n",
       "      <td>few hours a day</td>\n",
       "      <td>female</td>\n",
       "      <td>right handed</td>\n",
       "      <td>secondary school</td>\n",
       "      <td>no</td>\n",
       "      <td>city</td>\n",
       "      <td>block of flats</td>\n",
       "    </tr>\n",
       "    <tr>\n",
       "      <td>freq</td>\n",
       "      <td>430</td>\n",
       "      <td>659</td>\n",
       "      <td>399</td>\n",
       "      <td>549</td>\n",
       "      <td>744</td>\n",
       "      <td>593</td>\n",
       "      <td>906</td>\n",
       "      <td>621</td>\n",
       "      <td>754</td>\n",
       "      <td>707</td>\n",
       "      <td>595</td>\n",
       "    </tr>\n",
       "  </tbody>\n",
       "</table>\n",
       "</div>"
      ],
      "text/plain": [
       "              Smoking         Alcohol          Punctuality      Lying  \\\n",
       "count            1002            1005                 1008       1008   \n",
       "unique              4               3                    3          4   \n",
       "top     tried smoking  social drinker  i am always on time  sometimes   \n",
       "freq              430             659                  399        549   \n",
       "\n",
       "         Internet usage  Gender Left - right handed         Education  \\\n",
       "count              1010    1004                1007              1009   \n",
       "unique                4       2                   2                 6   \n",
       "top     few hours a day  female        right handed  secondary school   \n",
       "freq                744     593                 906               621   \n",
       "\n",
       "       Only child Village - town House - block of flats  \n",
       "count        1008           1006                   1006  \n",
       "unique          2              2                      2  \n",
       "top            no           city         block of flats  \n",
       "freq          754            707                    595  "
      ]
     },
     "execution_count": 56,
     "metadata": {},
     "output_type": "execute_result"
    }
   ],
   "source": [
    "# Looking at the non numerical data in the dataframe\n",
    "clean.describe(include = ['O'])"
   ]
  },
  {
   "cell_type": "markdown",
   "metadata": {},
   "source": [
    "Drop outliers for height by using a Z score measure of more than 3 Std. deviations from the mean of the data"
   ]
  },
  {
   "cell_type": "code",
   "execution_count": 57,
   "metadata": {},
   "outputs": [
    {
     "data": {
      "image/png": "[encoded data removed]",
      "text/plain": [
       "<Figure size 432x288 with 1 Axes>"
      ]
     },
     "metadata": {
      "needs_background": "light"
     },
     "output_type": "display_data"
    }
   ],
   "source": [
    "z = np.abs(stats.zscore(clean[features_numeric]))\n",
    "height_df = clean[(z < 3).all(axis=1)]\n",
    "plot_corr(height_df.Weight,height_df.Height,'Weight','Height')"
   ]
  },
  {
   "cell_type": "code",
   "execution_count": 58,
   "metadata": {
    "scrolled": true
   },
   "outputs": [
    {
     "data": {
      "image/png": "[encoded data removed]",
      "text/plain": [
       "<Figure size 432x288 with 1 Axes>"
      ]
     },
     "metadata": {
      "needs_background": "light"
     },
     "output_type": "display_data"
    }
   ],
   "source": [
    "var_x = 'Hiphop, Rap'\n",
    "var_y = 'Classical music'\n",
    "plot_corr_avg(clean[var_x],clean[var_y],var_x,var_y)\n"
   ]
  },
  {
   "cell_type": "markdown",
   "metadata": {},
   "source": [
    "Making inferences using the correllation plot something against age"
   ]
  },
  {
   "cell_type": "code",
   "execution_count": 59,
   "metadata": {
    "scrolled": true
   },
   "outputs": [
    {
     "data": {
      "image/png": "[encoded data removed]",
      "text/plain": [
       "<Figure size 432x288 with 1 Axes>"
      ]
     },
     "metadata": {
      "needs_background": "light"
     },
     "output_type": "display_data"
    }
   ],
   "source": [
    "var_x = 'Opera'\n",
    "var_y = 'Classical music'\n",
    "plot_corr_avg(clean[var_x],clean[var_y],var_x,var_y)"
   ]
  },
  {
   "cell_type": "code",
   "execution_count": 60,
   "metadata": {
    "scrolled": true
   },
   "outputs": [
    {
     "data": {
      "image/png": "[encoded data removed]",
      "text/plain": [
       "<Figure size 432x288 with 1 Axes>"
      ]
     },
     "metadata": {
      "needs_background": "light"
     },
     "output_type": "display_data"
    }
   ],
   "source": [
    "var_x = 'Age'\n",
    "var_y = 'Elections'\n",
    "plot_corr_avg(clean[var_x],clean[var_y],var_x,var_y)"
   ]
  },
  {
   "cell_type": "code",
   "execution_count": 61,
   "metadata": {
    "scrolled": true
   },
   "outputs": [
    {
     "data": {
      "image/png": "[encoded data removed]",
      "text/plain": [
       "<Figure size 432x288 with 1 Axes>"
      ]
     },
     "metadata": {
      "needs_background": "light"
     },
     "output_type": "display_data"
    }
   ],
   "source": [
    "var_x = 'Age'\n",
    "var_y = 'Changing the past'\n",
    "plot_corr_avg(clean[var_x],clean[var_y],var_x,var_y)"
   ]
  },
  {
   "cell_type": "markdown",
   "metadata": {},
   "source": [
    "# Logistic regression to classify gender"
   ]
  },
  {
   "cell_type": "markdown",
   "metadata": {},
   "source": [
    "Now we perform analysis to see what we can infer from the survey using machine learning models\n",
    "\n",
    "From the responses of the survey we predict gender from Binary logistic regression and tune parameters to get the highest accuracy using gridsearch CV.\n",
    "\n",
    "Then the same analysis is carried out using SVM again with gridsearch CV."
   ]
  },
  {
   "cell_type": "code",
   "execution_count": 62,
   "metadata": {},
   "outputs": [],
   "source": [
    "# Prepare data for gender classification\n",
    "# Assign a variable for binary classification\n",
    "y_variable = \"Gender\"\n",
    "\n",
    "category_map = {y_variable:{'male': 0, 'female': 1}}\n",
    "# category_map = {y_variable:{'city': 0,'village':1}}\n",
    "\n",
    "ml_inputs = clean.dropna()\n",
    "ml_y = ml_inputs[y_variable]\n",
    "\n",
    "ml_inputs.drop(columns=y_variable, inplace = True)\n",
    "ml_x = ml_inputs[features_numeric] # X logisitc and using numeric feature data\n",
    "\n",
    "# FIGURE OUT HOW TO INCLUDE CATEGORICAL DATA\n",
    "for key,val in category_map[y_variable].items():\n",
    "    ml_y.replace(key, val, inplace = True)"
   ]
  },
  {
   "cell_type": "code",
   "execution_count": 63,
   "metadata": {
    "scrolled": false
   },
   "outputs": [
    {
     "name": "stdout",
     "output_type": "stream",
     "text": [
      "{'C': 0.01}\n"
     ]
    }
   ],
   "source": [
    "# LOGISTIC REGRESSION FOR BINARY CLASSIFICATION OF GENDER\n",
    "# Initially using a split of 80-20% training-test data try with (clean)\n",
    "log_x_train, log_x_test, log_y_train, log_y_test = train_test_split(ml_x, ml_y, test_size=0.2)\n",
    "\n",
    "# Feature normalisation\n",
    "scaler = StandardScaler()\n",
    "scaler.fit(log_x_train)\n",
    "log_x_train = scaler.transform(log_x_train)\n",
    "log_x_test = scaler.transform(log_x_test)\n",
    "\n",
    "# LOGISTIC REGRESSION\n",
    "logistic_regression = LogisticRegression()\n",
    "logistic_regression.fit(log_x_train,log_y_train)\n",
    "\n",
    "# IMPLEMENT KFOLD CROSS VALIDATION\n",
    "# Using KFold cross validation with gridserachcv\n",
    "Kfolds = KFold(n_splits = 10)\n",
    "parameter_grid = {'C':[.001, 0.01, .03, .1, 0.3, 1, 3, 10]}\n",
    "log_grsearch = GridSearchCV(logistic_regression, param_grid=parameter_grid, cv=Kfolds, scoring='f1')\n",
    "log_grsearch.fit(log_x_train, log_y_train)\n",
    "\n",
    "print(log_grsearch.best_params_)\n",
    "log_y_score = log_grsearch.predict(log_x_test)"
   ]
  },
  {
   "cell_type": "markdown",
   "metadata": {},
   "source": [
    "# Using SVM to classify gender\n",
    "\n",
    "This is for a comparison to Logistic regression for accuracy\n"
   ]
  },
  {
   "cell_type": "code",
   "execution_count": 64,
   "metadata": {
    "scrolled": false
   },
   "outputs": [
    {
     "name": "stdout",
     "output_type": "stream",
     "text": [
      "{'C': 10}\n"
     ]
    }
   ],
   "source": [
    "# Using the support vector machine algorithm for classification\n",
    "# svc = svm.SVC(kernel = 'linear',probability=True)\n",
    "svc = svm.SVC(gamma = 'scale', decision_function_shape='ovo',probability=True)\n",
    "\n",
    "# Initially using a split of 80-20% training-test data try with (clean)\n",
    "svm_x_train, svm_x_test, svm_y_train, svm_y_test = train_test_split(ml_x, ml_y, test_size=0.2)\n",
    "\n",
    "# Feature normalisation\n",
    "scaler_svm = StandardScaler()\n",
    "scaler_svm.fit(svm_x_train)\n",
    "svm_x_train = scaler_svm.transform(svm_x_train)\n",
    "svm_x_test = scaler_svm.transform(svm_x_test)\n",
    "\n",
    "# Using KFold cross validation with SVM\n",
    "Kfolds = KFold(n_splits=10)\n",
    "parameter_grid = {'C':[.001,0.01,.03,.1,0.3,1,3,10]}\n",
    "svm_grsearch = GridSearchCV(svc, param_grid=parameter_grid, cv=Kfolds, scoring = 'f1')\n",
    "svm_grsearch.fit(svm_x_train, svm_y_train)\n",
    "\n",
    "print(svm_grsearch.best_params_)\n",
    "svm_y_score = svm_grsearch.predict(svm_x_test)"
   ]
  },
  {
   "cell_type": "markdown",
   "metadata": {},
   "source": [
    "Show results of logistic regression and SVM"
   ]
  },
  {
   "cell_type": "code",
   "execution_count": 65,
   "metadata": {
    "scrolled": false
   },
   "outputs": [
    {
     "name": "stdout",
     "output_type": "stream",
     "text": [
      "Logistic regression accuracy: 0.9694323144104804\n",
      "Average precision-recall score: 0.97\n",
      "[[ 78   1]\n",
      " [  6 111]]\n",
      "              precision    recall  f1-score   support\n",
      "\n",
      "           0       0.93      0.99      0.96        79\n",
      "           1       0.99      0.95      0.97       117\n",
      "\n",
      "    accuracy                           0.96       196\n",
      "   macro avg       0.96      0.97      0.96       196\n",
      "weighted avg       0.97      0.96      0.96       196\n",
      "\n",
      "\n",
      "SVM accuracy: 0.9610389610389611\n",
      "Average precision-recall score: 0.94\n",
      "[[ 76   6]\n",
      " [  3 111]]\n",
      "              precision    recall  f1-score   support\n",
      "\n",
      "           0       0.96      0.93      0.94        82\n",
      "           1       0.95      0.97      0.96       114\n",
      "\n",
      "    accuracy                           0.95       196\n",
      "   macro avg       0.96      0.95      0.95       196\n",
      "weighted avg       0.95      0.95      0.95       196\n",
      "\n"
     ]
    },
    {
     "data": {
      "image/png": "[encoded data removed]",
      "text/plain": [
       "<Figure size 1080x360 with 2 Axes>"
      ]
     },
     "metadata": {
      "needs_background": "light"
     },
     "output_type": "display_data"
    }
   ],
   "source": [
    "# INTERPERET RESULTS and apply function for ROC curve\n",
    "\n",
    "fig, (ax1, ax2) = plt.subplots(1,2, figsize = (15,5))\n",
    "\n",
    "ax1.set_xlim([-0.05, 1.0])\n",
    "ax2.set_xlim([-0.05, 1.0])\n",
    "ax1.set_ylim([0.0, 1.05])\n",
    "ax2.set_ylim([0.0, 1.05])\n",
    "ax1.set_xlabel('False Positive Rate')\n",
    "ax2.set_xlabel('False Positive Rate')\n",
    "ax1.set_ylabel('True Positive Rate')\n",
    "ax2.set_ylabel('True Positive Rate')\n",
    "fig.suptitle('Receiver operating characteristic')\n",
    "\n",
    "plt.savefig('Log_ROC')\n",
    "\n",
    "plot_roc(log_x_test, log_y_test, log_grsearch, 'Logistic Regression', ax1)\n",
    "plot_roc(svm_x_test, svm_y_test, svm_grsearch, 'SVM', ax2)\n",
    "\n",
    "ax.set_title('Comparing ROC curves for Logisitic regression and SVM')\n",
    "ax1.set_title('Logistic Regression')\n",
    "ax2.set_title('SVM')\n",
    "\n",
    "print(\"Logistic regression accuracy:\", log_grsearch.score(log_x_test, log_y_test))\n",
    "\n",
    "average_precision = average_precision_score(log_y_test, log_y_score)\n",
    "print('Average precision-recall score: {0:0.2f}'.format(average_precision))\n",
    "\n",
    "conf_matrix = confusion_matrix(log_y_test, log_y_score)\n",
    "print(conf_matrix)\n",
    "print(classification_report(log_y_test, log_y_score))\n",
    "\n",
    "# Metrics\n",
    "print(\"\\nSVM accuracy:\", svm_grsearch.score(svm_x_test, svm_y_test))\n",
    "\n",
    "average_precision = average_precision_score(svm_y_test, svm_y_score)\n",
    "print('Average precision-recall score: {0:0.2f}'.format(average_precision))\n",
    "\n",
    "conf_matrix = confusion_matrix(svm_y_test, svm_y_score)\n",
    "print(conf_matrix)\n",
    "print(classification_report(svm_y_test, svm_y_score))\n",
    "\n",
    "plt.show()"
   ]
  },
  {
   "cell_type": "markdown",
   "metadata": {},
   "source": [
    "We see that both Logistic Regression and SVM are accurate ways to classify gender from the survey responses. The ~96% accurate for logistic regression is comparable to that of SVM both using gridsearchcv sklearn method.\n",
    "\n",
    "Analysing the ROC curves: They both hug the y-axis and have a flat top, showing that the prediction of gender is accurate from the responses of the survey"
   ]
  },
  {
   "cell_type": "markdown",
   "metadata": {},
   "source": [
    "# Multiclass Logistic Regression"
   ]
  },
  {
   "cell_type": "markdown",
   "metadata": {},
   "source": [
    "Using \"Internet usage\" as the multiclass logistic regression classification variable. This is grouped into categoires: \"few hours a day\", \"most of the day\", \"less than an hour a day\""
   ]
  },
  {
   "cell_type": "code",
   "execution_count": 66,
   "metadata": {
    "scrolled": false
   },
   "outputs": [
    {
     "name": "stdout",
     "output_type": "stream",
     "text": [
      "Logistic regression accuracy : 0.6785714285714286\n"
     ]
    }
   ],
   "source": [
    "# Two variables, one for logistic regression\n",
    "# y_logistic = \"Alcohol\"\n",
    "y_logistic = \"Internet usage\"\n",
    "\n",
    "ml_inputs = clean.dropna()\n",
    "ml_y = ml_inputs[y_logistic]\n",
    "\n",
    "ml_inputs.drop(columns=y_logistic, inplace = True)\n",
    "ml_x = ml_inputs\n",
    "# ml_x = ml_inputs[features_numeric] # X logisitc and using numeric feature data\n",
    "\n",
    "# # FIGURE OUT HOW TO INCLUDE CATEGORICAL DATA\n",
    "from sklearn.preprocessing import OneHotEncoder\n",
    "encoder = OneHotEncoder(handle_unknown = 'ignore')\n",
    "\n",
    "# Initially using a split of 80-20% training-test data try with (clean)\n",
    "x_train, x_test, y_train, y_test = train_test_split(ml_x, ml_y, test_size=0.2)\n",
    "\n",
    "encoder.fit(x_train)\n",
    "x_train = encoder.transform(x_train)\n",
    "x_test = encoder.transform(x_test)\n",
    "\n",
    "logistic_regression_multi = LogisticRegression(solver='lbfgs',multi_class = 'multinomial') # Multiclass\n",
    "logistic_regression_multi.fit(x_train,y_train)\n",
    "\n",
    "y_score_multi = logistic_regression_multi.predict(x_test)\n",
    "\n",
    "# Using KFold cross validation\n",
    "# Kfolds = KFold(n_splits=10)\n",
    "\n",
    "# print(\"Logistic regression accuracy :\", logm_grsearch.score(x_test, y_test))\n",
    "print(\"Logistic regression accuracy :\", logistic_regression_multi.score(x_test, y_test))\n",
    "\n",
    "# print(y_score_multi, y_test)"
   ]
  },
  {
   "cell_type": "code",
   "execution_count": 67,
   "metadata": {
    "scrolled": false
   },
   "outputs": [
    {
     "name": "stdout",
     "output_type": "stream",
     "text": [
      "                         Internet usage\n",
      "few hours a day                     147\n",
      "most of the day                      24\n",
      "less than an hour a day              24\n",
      "no time at all                        1\n",
      "few hours a day            160\n",
      "less than an hour a day     21\n",
      "most of the day             15\n",
      "dtype: int64\n"
     ]
    }
   ],
   "source": [
    "y_score_df = pd.Series(y_score_multi)\n",
    "\n",
    "y_1 = y_test.value_counts().to_frame()\n",
    "print(y_1)\n",
    "print(y_score_df.value_counts())"
   ]
  },
  {
   "cell_type": "code",
   "execution_count": 68,
   "metadata": {
    "scrolled": false
   },
   "outputs": [
    {
     "ename": "ValueError",
     "evalue": "shape mismatch: objects cannot be broadcast to a single shape",
     "output_type": "error",
     "traceback": [
      "\u001b[0;31m---------------------------------------------------------------------------\u001b[0m",
      "\u001b[0;31mValueError\u001b[0m                                Traceback (most recent call last)",
      "\u001b[0;32m<ipython-input-68-57d485e8c89e>\u001b[0m in \u001b[0;36m<module>\u001b[0;34m\u001b[0m\n\u001b[1;32m     12\u001b[0m \u001b[0;31m# prediction = ax.bar(y_score_vals.index, y_score_vals[\"Internet usage\"], width, label = \"Prediction\")\u001b[0m\u001b[0;34m\u001b[0m\u001b[0;34m\u001b[0m\u001b[0;34m\u001b[0m\u001b[0m\n\u001b[1;32m     13\u001b[0m \u001b[0mprediction\u001b[0m \u001b[0;34m=\u001b[0m \u001b[0max\u001b[0m\u001b[0;34m.\u001b[0m\u001b[0mbar\u001b[0m\u001b[0;34m(\u001b[0m\u001b[0mx\u001b[0m \u001b[0;34m-\u001b[0m \u001b[0;36m0.5\u001b[0m \u001b[0;34m*\u001b[0m\u001b[0mwidth\u001b[0m\u001b[0;34m,\u001b[0m \u001b[0my_score_vals\u001b[0m\u001b[0;34m[\u001b[0m\u001b[0;34m\"Internet usage\"\u001b[0m\u001b[0;34m]\u001b[0m\u001b[0;34m,\u001b[0m \u001b[0mwidth\u001b[0m\u001b[0;34m,\u001b[0m \u001b[0mlabel\u001b[0m \u001b[0;34m=\u001b[0m \u001b[0;34m\"Prediction\"\u001b[0m\u001b[0;34m,\u001b[0m \u001b[0malign\u001b[0m \u001b[0;34m=\u001b[0m \u001b[0;34m\"center\"\u001b[0m\u001b[0;34m)\u001b[0m\u001b[0;34m\u001b[0m\u001b[0;34m\u001b[0m\u001b[0m\n\u001b[0;32m---> 14\u001b[0;31m \u001b[0mtest\u001b[0m \u001b[0;34m=\u001b[0m \u001b[0max\u001b[0m\u001b[0;34m.\u001b[0m\u001b[0mbar\u001b[0m\u001b[0;34m(\u001b[0m\u001b[0mx\u001b[0m \u001b[0;34m+\u001b[0m \u001b[0;36m0.5\u001b[0m\u001b[0;34m*\u001b[0m \u001b[0mwidth\u001b[0m\u001b[0;34m,\u001b[0m \u001b[0my_test_vals\u001b[0m\u001b[0;34m[\u001b[0m\u001b[0;34m\"Internet usage\"\u001b[0m\u001b[0;34m]\u001b[0m\u001b[0;34m,\u001b[0m \u001b[0mwidth\u001b[0m\u001b[0;34m,\u001b[0m \u001b[0mlabel\u001b[0m \u001b[0;34m=\u001b[0m \u001b[0;34m\"Test\"\u001b[0m\u001b[0;34m,\u001b[0m \u001b[0malign\u001b[0m \u001b[0;34m=\u001b[0m \u001b[0;34m\"center\"\u001b[0m\u001b[0;34m)\u001b[0m\u001b[0;34m\u001b[0m\u001b[0;34m\u001b[0m\u001b[0m\n\u001b[0m\u001b[1;32m     15\u001b[0m \u001b[0;34m\u001b[0m\u001b[0m\n\u001b[1;32m     16\u001b[0m \u001b[0max\u001b[0m\u001b[0;34m.\u001b[0m\u001b[0mset_xticks\u001b[0m\u001b[0;34m(\u001b[0m\u001b[0mx\u001b[0m\u001b[0;34m)\u001b[0m\u001b[0;34m\u001b[0m\u001b[0;34m\u001b[0m\u001b[0m\n",
      "\u001b[0;32m~/miniconda3/envs/kaggle_env/lib/python3.6/site-packages/matplotlib/__init__.py\u001b[0m in \u001b[0;36minner\u001b[0;34m(ax, data, *args, **kwargs)\u001b[0m\n\u001b[1;32m   1599\u001b[0m     \u001b[0;32mdef\u001b[0m \u001b[0minner\u001b[0m\u001b[0;34m(\u001b[0m\u001b[0max\u001b[0m\u001b[0;34m,\u001b[0m \u001b[0;34m*\u001b[0m\u001b[0margs\u001b[0m\u001b[0;34m,\u001b[0m \u001b[0mdata\u001b[0m\u001b[0;34m=\u001b[0m\u001b[0;32mNone\u001b[0m\u001b[0;34m,\u001b[0m \u001b[0;34m**\u001b[0m\u001b[0mkwargs\u001b[0m\u001b[0;34m)\u001b[0m\u001b[0;34m:\u001b[0m\u001b[0;34m\u001b[0m\u001b[0;34m\u001b[0m\u001b[0m\n\u001b[1;32m   1600\u001b[0m         \u001b[0;32mif\u001b[0m \u001b[0mdata\u001b[0m \u001b[0;32mis\u001b[0m \u001b[0;32mNone\u001b[0m\u001b[0;34m:\u001b[0m\u001b[0;34m\u001b[0m\u001b[0;34m\u001b[0m\u001b[0m\n\u001b[0;32m-> 1601\u001b[0;31m             \u001b[0;32mreturn\u001b[0m \u001b[0mfunc\u001b[0m\u001b[0;34m(\u001b[0m\u001b[0max\u001b[0m\u001b[0;34m,\u001b[0m \u001b[0;34m*\u001b[0m\u001b[0mmap\u001b[0m\u001b[0;34m(\u001b[0m\u001b[0msanitize_sequence\u001b[0m\u001b[0;34m,\u001b[0m \u001b[0margs\u001b[0m\u001b[0;34m)\u001b[0m\u001b[0;34m,\u001b[0m \u001b[0;34m**\u001b[0m\u001b[0mkwargs\u001b[0m\u001b[0;34m)\u001b[0m\u001b[0;34m\u001b[0m\u001b[0;34m\u001b[0m\u001b[0m\n\u001b[0m\u001b[1;32m   1602\u001b[0m \u001b[0;34m\u001b[0m\u001b[0m\n\u001b[1;32m   1603\u001b[0m         \u001b[0mbound\u001b[0m \u001b[0;34m=\u001b[0m \u001b[0mnew_sig\u001b[0m\u001b[0;34m.\u001b[0m\u001b[0mbind\u001b[0m\u001b[0;34m(\u001b[0m\u001b[0max\u001b[0m\u001b[0;34m,\u001b[0m \u001b[0;34m*\u001b[0m\u001b[0margs\u001b[0m\u001b[0;34m,\u001b[0m \u001b[0;34m**\u001b[0m\u001b[0mkwargs\u001b[0m\u001b[0;34m)\u001b[0m\u001b[0;34m\u001b[0m\u001b[0;34m\u001b[0m\u001b[0m\n",
      "\u001b[0;32m~/miniconda3/envs/kaggle_env/lib/python3.6/site-packages/matplotlib/axes/_axes.py\u001b[0m in \u001b[0;36mbar\u001b[0;34m(self, x, height, width, bottom, align, **kwargs)\u001b[0m\n\u001b[1;32m   2373\u001b[0m         x, height, width, y, linewidth = np.broadcast_arrays(\n\u001b[1;32m   2374\u001b[0m             \u001b[0;31m# Make args iterable too.\u001b[0m\u001b[0;34m\u001b[0m\u001b[0;34m\u001b[0m\u001b[0;34m\u001b[0m\u001b[0m\n\u001b[0;32m-> 2375\u001b[0;31m             np.atleast_1d(x), height, width, y, linewidth)\n\u001b[0m\u001b[1;32m   2376\u001b[0m \u001b[0;34m\u001b[0m\u001b[0m\n\u001b[1;32m   2377\u001b[0m         \u001b[0;31m# Now that units have been converted, set the tick locations.\u001b[0m\u001b[0;34m\u001b[0m\u001b[0;34m\u001b[0m\u001b[0;34m\u001b[0m\u001b[0m\n",
      "\u001b[0;32m~/.local/lib/python3.6/site-packages/numpy/lib/stride_tricks.py\u001b[0m in \u001b[0;36mbroadcast_arrays\u001b[0;34m(*args, **kwargs)\u001b[0m\n\u001b[1;32m    257\u001b[0m     \u001b[0margs\u001b[0m \u001b[0;34m=\u001b[0m \u001b[0;34m[\u001b[0m\u001b[0mnp\u001b[0m\u001b[0;34m.\u001b[0m\u001b[0marray\u001b[0m\u001b[0;34m(\u001b[0m\u001b[0m_m\u001b[0m\u001b[0;34m,\u001b[0m \u001b[0mcopy\u001b[0m\u001b[0;34m=\u001b[0m\u001b[0;32mFalse\u001b[0m\u001b[0;34m,\u001b[0m \u001b[0msubok\u001b[0m\u001b[0;34m=\u001b[0m\u001b[0msubok\u001b[0m\u001b[0;34m)\u001b[0m \u001b[0;32mfor\u001b[0m \u001b[0m_m\u001b[0m \u001b[0;32min\u001b[0m \u001b[0margs\u001b[0m\u001b[0;34m]\u001b[0m\u001b[0;34m\u001b[0m\u001b[0;34m\u001b[0m\u001b[0m\n\u001b[1;32m    258\u001b[0m \u001b[0;34m\u001b[0m\u001b[0m\n\u001b[0;32m--> 259\u001b[0;31m     \u001b[0mshape\u001b[0m \u001b[0;34m=\u001b[0m \u001b[0m_broadcast_shape\u001b[0m\u001b[0;34m(\u001b[0m\u001b[0;34m*\u001b[0m\u001b[0margs\u001b[0m\u001b[0;34m)\u001b[0m\u001b[0;34m\u001b[0m\u001b[0;34m\u001b[0m\u001b[0m\n\u001b[0m\u001b[1;32m    260\u001b[0m \u001b[0;34m\u001b[0m\u001b[0m\n\u001b[1;32m    261\u001b[0m     \u001b[0;32mif\u001b[0m \u001b[0mall\u001b[0m\u001b[0;34m(\u001b[0m\u001b[0marray\u001b[0m\u001b[0;34m.\u001b[0m\u001b[0mshape\u001b[0m \u001b[0;34m==\u001b[0m \u001b[0mshape\u001b[0m \u001b[0;32mfor\u001b[0m \u001b[0marray\u001b[0m \u001b[0;32min\u001b[0m \u001b[0margs\u001b[0m\u001b[0;34m)\u001b[0m\u001b[0;34m:\u001b[0m\u001b[0;34m\u001b[0m\u001b[0;34m\u001b[0m\u001b[0m\n",
      "\u001b[0;32m~/.local/lib/python3.6/site-packages/numpy/lib/stride_tricks.py\u001b[0m in \u001b[0;36m_broadcast_shape\u001b[0;34m(*args)\u001b[0m\n\u001b[1;32m    191\u001b[0m     \u001b[0;31m# use the old-iterator because np.nditer does not handle size 0 arrays\u001b[0m\u001b[0;34m\u001b[0m\u001b[0;34m\u001b[0m\u001b[0;34m\u001b[0m\u001b[0m\n\u001b[1;32m    192\u001b[0m     \u001b[0;31m# consistently\u001b[0m\u001b[0;34m\u001b[0m\u001b[0;34m\u001b[0m\u001b[0;34m\u001b[0m\u001b[0m\n\u001b[0;32m--> 193\u001b[0;31m     \u001b[0mb\u001b[0m \u001b[0;34m=\u001b[0m \u001b[0mnp\u001b[0m\u001b[0;34m.\u001b[0m\u001b[0mbroadcast\u001b[0m\u001b[0;34m(\u001b[0m\u001b[0;34m*\u001b[0m\u001b[0margs\u001b[0m\u001b[0;34m[\u001b[0m\u001b[0;34m:\u001b[0m\u001b[0;36m32\u001b[0m\u001b[0;34m]\u001b[0m\u001b[0;34m)\u001b[0m\u001b[0;34m\u001b[0m\u001b[0;34m\u001b[0m\u001b[0m\n\u001b[0m\u001b[1;32m    194\u001b[0m     \u001b[0;31m# unfortunately, it cannot handle 32 or more arguments directly\u001b[0m\u001b[0;34m\u001b[0m\u001b[0;34m\u001b[0m\u001b[0;34m\u001b[0m\u001b[0m\n\u001b[1;32m    195\u001b[0m     \u001b[0;32mfor\u001b[0m \u001b[0mpos\u001b[0m \u001b[0;32min\u001b[0m \u001b[0mrange\u001b[0m\u001b[0;34m(\u001b[0m\u001b[0;36m32\u001b[0m\u001b[0;34m,\u001b[0m \u001b[0mlen\u001b[0m\u001b[0;34m(\u001b[0m\u001b[0margs\u001b[0m\u001b[0;34m)\u001b[0m\u001b[0;34m,\u001b[0m \u001b[0;36m31\u001b[0m\u001b[0;34m)\u001b[0m\u001b[0;34m:\u001b[0m\u001b[0;34m\u001b[0m\u001b[0;34m\u001b[0m\u001b[0m\n",
      "\u001b[0;31mValueError\u001b[0m: shape mismatch: objects cannot be broadcast to a single shape"
     ]
    },
    {
     "data": {
      "image/png": "[encoded data removed]",
      "text/plain": [
       "<Figure size 432x288 with 1 Axes>"
      ]
     },
     "metadata": {
      "needs_background": "light"
     },
     "output_type": "display_data"
    }
   ],
   "source": [
    "# fig, axes = plt.subplots(1, 2, figsize = (10,10)) https://matplotlib.org/3.1.1/gallery/lines_bars_and_markers/barchart.html#sphx-glr-gallery-lines-bars-and-markers-barchart-py\n",
    "fig, ax = plt.subplots()\n",
    "\n",
    "labels = ['no time at all', 'less than an hour a day', 'few hours a day', 'most of the day']\n",
    "x = np.arange(len(labels)-1)\n",
    "width = 0.35\n",
    "\n",
    "y_score_vals = y_score_df.value_counts().to_frame()\n",
    "y_score_vals.columns = [\"Internet usage\"]\n",
    "y_test_vals = y_test.value_counts().to_frame()\n",
    "\n",
    "# prediction = ax.bar(y_score_vals.index, y_score_vals[\"Internet usage\"], width, label = \"Prediction\")\n",
    "prediction = ax.bar(x - 0.5 *width, y_score_vals[\"Internet usage\"], width, label = \"Prediction\", align = \"center\")\n",
    "test = ax.bar(x + 0.5* width, y_test_vals[\"Internet usage\"], width, label = \"Test\", align = \"center\")\n",
    "\n",
    "ax.set_xticks(x)\n",
    "ax.set_xticklabels(labels[:3])\n",
    "\n",
    "print(y_score_vals)\n",
    "print(y_test_vals)\n",
    "\n",
    "plt.show()"
   ]
  },
  {
   "cell_type": "markdown",
   "metadata": {},
   "source": [
    "Applying logistic regression for multiclass classification for how much a person uses internet per day reasonably accurate, 60-70% of the time predicting correctly"
   ]
  }
 ],
 "metadata": {
  "kernelspec": {
   "display_name": "kaggle_env",
   "language": "python",
   "name": "kaggle_env"
  },
  "language_info": {
   "codemirror_mode": {
    "name": "ipython",
    "version": 3
   },
   "file_extension": ".py",
   "mimetype": "text/x-python",
   "name": "python",
   "nbconvert_exporter": "python",
   "pygments_lexer": "ipython3",
   "version": "3.6.9"
  }
 },
 "nbformat": 4,
 "nbformat_minor": 2
}
