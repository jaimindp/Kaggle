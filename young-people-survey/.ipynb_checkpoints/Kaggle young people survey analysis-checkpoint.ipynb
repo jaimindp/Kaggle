{
 "cells": [
  {
   "cell_type": "raw",
   "metadata": {},
   "source": [
    "MLMLMLMLMLMLMLMLMLMLMLMLMLMLMLMLMLMLMLMLMLMLMLMLMLMLMLMLMLMLMLMLMLMLMLMLMLMLMLMLMLMLMLMLMLMLMLMLMLMLMLMLMLMLMLMLMLMLMLMLMLMLMLMLMLMLMLMLMLMLMLMLMLMLMLMLMLMLMLMLMLMLMLMLMLMLMLMLMLMLMLMLMLMLMLMLMLMLMLMLMLMLMLMLMLMLMLMLMLMLMLMLMLMLMLMLMLMLMLMLMLMLMLMLMLM:)LMLMLMLMLMLMLMLMLMLMLMLMLMLMLMLMLMLMLMLMLMLMLMLMLMLMLMLMLMLMLMLMLMLMLMLMLMLMLMLMLMLMLMLMLMLMLMLMLMLMLMLMLMLMLMLMLMLMLMLMLMLMLMLMLMLMLMLMLMLMLMLMLMLMLMLMLMLMLMLMLMLMLMLMLMLMLMLMLMLMLMLMLMLMLMLMLMLMLMLMLMLMLMLMLMLMLMLMLMLMLMLMLMLMLMLMLMLMLMLMLMLMLMLMLMLMLMLML\n",
    "\n",
    "Script to analyse and make interepretions from the Kaggle data set 'Young people survey' downloaded from: https://www.kaggle.com/miroslavsabo/young-people-survey\n",
    "\n",
    "Written by: Jaimin Patel\n",
    "\n",
    "1. Linear regression to predict age\n",
    "2. Binary logistic regression to predict gender\n",
    "3. Categorical logisitic regression to predict smoking/music/fears/Lie detector/ - anything\n",
    "4. Unsupervised clustering (K means on Musical Preferences)\n",
    "5. Support vector machine\n",
    "6. Dimensionality reduction using principal component analysis"
   ]
  },
  {
   "cell_type": "code",
   "execution_count": 494,
   "metadata": {
    "scrolled": true
   },
   "outputs": [],
   "source": [
    "# Kaggle survey data science analysis\n",
    "import numpy as np\n",
    "import pandas as pd\n",
    "import matplotlib.pyplot as plt\n",
    "import seaborn as sns\n",
    "import statsmodels.api as sm\n",
    "from sklearn import metrics\n",
    "from sklearn.linear_model import LogisticRegression,LinearRegression\n",
    "from sklearn.preprocessing import StandardScaler\n",
    "from sklearn.pipeline import make_pipeline\n",
    "from sklearn.decomposition import PCA\n",
    "from sklearn.ensemble import RandomForestRegressor, GradientBoostingRegressor\n",
    "from sklearn.cluster import KMeans\n",
    "from sklearn import svm\n",
    "from sklearn.model_selection import GridSearchCV, KFold, train_test_split, cross_val_score\n",
    "import scipy\n",
    "import scipy.stats as stats\n",
    "\n",
    "import warnings\n",
    "warnings.filterwarnings(\"ignore\")\n",
    "\n",
    "%matplotlib inline"
   ]
  },
  {
   "cell_type": "code",
   "execution_count": 115,
   "metadata": {
    "scrolled": true
   },
   "outputs": [],
   "source": [
    "from IPython.display import display"
   ]
  },
  {
   "cell_type": "code",
   "execution_count": 116,
   "metadata": {},
   "outputs": [],
   "source": [
    "def one_hot_encode(df,cat_vars = None, num_vars = None):\n",
    "    cat_df = pd.get_dummies(df[cat_vars])\n",
    "    num_df = df.num_vars.apply(pd.to_numeric)\n",
    "    return pd.concat([cat_df, num_df], axis=1)"
   ]
  },
  {
   "cell_type": "code",
   "execution_count": 117,
   "metadata": {},
   "outputs": [],
   "source": [
    "def get_target(df, target):\n",
    "    return df[target]"
   ]
  },
  {
   "cell_type": "code",
   "execution_count": 118,
   "metadata": {},
   "outputs": [],
   "source": [
    "def train_model(model, feature_df, target_df, num_procs, mean_mse, cv_std):\n",
    "    neg_mse = cross_val_score(df, feature_df, target_df, n_jobs = num_procs, scoring = 'neg_mean_square_error')\n",
    "    mean_mse[model] = 1.0 - np.mean(neg_mse)\n",
    "    cv_std[model] = np.std(neg_mse)"
   ]
  },
  {
   "cell_type": "code",
   "execution_count": 119,
   "metadata": {},
   "outputs": [],
   "source": [
    "def summary(model, mean_mse, cv_std):\n",
    "    print('\\nModel:\\n', model)\n",
    "    print('Average MSE:\\n', mean_mse[model])\n",
    "    print('Standard deviation during CV:\\n', cv_std[model])"
   ]
  },
  {
   "cell_type": "code",
   "execution_count": 120,
   "metadata": {
    "scrolled": true
   },
   "outputs": [],
   "source": [
    "data = pd.read_csv(r'/Users/jaimin/Documents/Kaggle/young-people-survey/responses.csv')"
   ]
  },
  {
   "cell_type": "code",
   "execution_count": 121,
   "metadata": {
    "scrolled": true
   },
   "outputs": [
    {
     "data": {
      "text/html": [
       "<div>\n",
       "<style scoped>\n",
       "    .dataframe tbody tr th:only-of-type {\n",
       "        vertical-align: middle;\n",
       "    }\n",
       "\n",
       "    .dataframe tbody tr th {\n",
       "        vertical-align: top;\n",
       "    }\n",
       "\n",
       "    .dataframe thead th {\n",
       "        text-align: right;\n",
       "    }\n",
       "</style>\n",
       "<table border=\"1\" class=\"dataframe\">\n",
       "  <thead>\n",
       "    <tr style=\"text-align: right;\">\n",
       "      <th></th>\n",
       "      <th>Music</th>\n",
       "      <th>Slow songs or fast songs</th>\n",
       "      <th>Dance</th>\n",
       "      <th>Folk</th>\n",
       "      <th>Country</th>\n",
       "      <th>Classical music</th>\n",
       "      <th>Musical</th>\n",
       "      <th>Pop</th>\n",
       "      <th>Rock</th>\n",
       "      <th>Metal or Hardrock</th>\n",
       "      <th>...</th>\n",
       "      <th>Age</th>\n",
       "      <th>Height</th>\n",
       "      <th>Weight</th>\n",
       "      <th>Number of siblings</th>\n",
       "      <th>Gender</th>\n",
       "      <th>Left - right handed</th>\n",
       "      <th>Education</th>\n",
       "      <th>Only child</th>\n",
       "      <th>Village - town</th>\n",
       "      <th>House - block of flats</th>\n",
       "    </tr>\n",
       "  </thead>\n",
       "  <tbody>\n",
       "    <tr>\n",
       "      <th>0</th>\n",
       "      <td>5.0</td>\n",
       "      <td>3.0</td>\n",
       "      <td>2.0</td>\n",
       "      <td>1.0</td>\n",
       "      <td>2.0</td>\n",
       "      <td>2.0</td>\n",
       "      <td>1.0</td>\n",
       "      <td>5.0</td>\n",
       "      <td>5.0</td>\n",
       "      <td>1.0</td>\n",
       "      <td>...</td>\n",
       "      <td>20.0</td>\n",
       "      <td>163.0</td>\n",
       "      <td>48.0</td>\n",
       "      <td>1.0</td>\n",
       "      <td>female</td>\n",
       "      <td>right handed</td>\n",
       "      <td>college/bachelor degree</td>\n",
       "      <td>no</td>\n",
       "      <td>village</td>\n",
       "      <td>block of flats</td>\n",
       "    </tr>\n",
       "    <tr>\n",
       "      <th>1</th>\n",
       "      <td>4.0</td>\n",
       "      <td>4.0</td>\n",
       "      <td>2.0</td>\n",
       "      <td>1.0</td>\n",
       "      <td>1.0</td>\n",
       "      <td>1.0</td>\n",
       "      <td>2.0</td>\n",
       "      <td>3.0</td>\n",
       "      <td>5.0</td>\n",
       "      <td>4.0</td>\n",
       "      <td>...</td>\n",
       "      <td>19.0</td>\n",
       "      <td>163.0</td>\n",
       "      <td>58.0</td>\n",
       "      <td>2.0</td>\n",
       "      <td>female</td>\n",
       "      <td>right handed</td>\n",
       "      <td>college/bachelor degree</td>\n",
       "      <td>no</td>\n",
       "      <td>city</td>\n",
       "      <td>block of flats</td>\n",
       "    </tr>\n",
       "    <tr>\n",
       "      <th>2</th>\n",
       "      <td>5.0</td>\n",
       "      <td>5.0</td>\n",
       "      <td>2.0</td>\n",
       "      <td>2.0</td>\n",
       "      <td>3.0</td>\n",
       "      <td>4.0</td>\n",
       "      <td>5.0</td>\n",
       "      <td>3.0</td>\n",
       "      <td>5.0</td>\n",
       "      <td>3.0</td>\n",
       "      <td>...</td>\n",
       "      <td>20.0</td>\n",
       "      <td>176.0</td>\n",
       "      <td>67.0</td>\n",
       "      <td>2.0</td>\n",
       "      <td>female</td>\n",
       "      <td>right handed</td>\n",
       "      <td>secondary school</td>\n",
       "      <td>no</td>\n",
       "      <td>city</td>\n",
       "      <td>block of flats</td>\n",
       "    </tr>\n",
       "    <tr>\n",
       "      <th>3</th>\n",
       "      <td>5.0</td>\n",
       "      <td>3.0</td>\n",
       "      <td>2.0</td>\n",
       "      <td>1.0</td>\n",
       "      <td>1.0</td>\n",
       "      <td>1.0</td>\n",
       "      <td>1.0</td>\n",
       "      <td>2.0</td>\n",
       "      <td>2.0</td>\n",
       "      <td>1.0</td>\n",
       "      <td>...</td>\n",
       "      <td>22.0</td>\n",
       "      <td>172.0</td>\n",
       "      <td>59.0</td>\n",
       "      <td>1.0</td>\n",
       "      <td>female</td>\n",
       "      <td>right handed</td>\n",
       "      <td>college/bachelor degree</td>\n",
       "      <td>yes</td>\n",
       "      <td>city</td>\n",
       "      <td>house/bungalow</td>\n",
       "    </tr>\n",
       "  </tbody>\n",
       "</table>\n",
       "<p>4 rows × 150 columns</p>\n",
       "</div>"
      ],
      "text/plain": [
       "   Music  Slow songs or fast songs  Dance  Folk  Country  Classical music  \\\n",
       "0    5.0                       3.0    2.0   1.0      2.0              2.0   \n",
       "1    4.0                       4.0    2.0   1.0      1.0              1.0   \n",
       "2    5.0                       5.0    2.0   2.0      3.0              4.0   \n",
       "3    5.0                       3.0    2.0   1.0      1.0              1.0   \n",
       "\n",
       "   Musical  Pop  Rock  Metal or Hardrock  ...   Age  Height  Weight  \\\n",
       "0      1.0  5.0   5.0                1.0  ...  20.0   163.0    48.0   \n",
       "1      2.0  3.0   5.0                4.0  ...  19.0   163.0    58.0   \n",
       "2      5.0  3.0   5.0                3.0  ...  20.0   176.0    67.0   \n",
       "3      1.0  2.0   2.0                1.0  ...  22.0   172.0    59.0   \n",
       "\n",
       "   Number of siblings  Gender  Left - right handed                Education  \\\n",
       "0                 1.0  female         right handed  college/bachelor degree   \n",
       "1                 2.0  female         right handed  college/bachelor degree   \n",
       "2                 2.0  female         right handed         secondary school   \n",
       "3                 1.0  female         right handed  college/bachelor degree   \n",
       "\n",
       "   Only child  Village - town  House - block of flats  \n",
       "0          no         village          block of flats  \n",
       "1          no            city          block of flats  \n",
       "2          no            city          block of flats  \n",
       "3         yes            city          house/bungalow  \n",
       "\n",
       "[4 rows x 150 columns]"
      ]
     },
     "execution_count": 121,
     "metadata": {},
     "output_type": "execute_result"
    }
   ],
   "source": [
    "data.head(4)"
   ]
  },
  {
   "cell_type": "code",
   "execution_count": 122,
   "metadata": {},
   "outputs": [],
   "source": [
    "# Polynomial Regression for R Squared calculation\n",
    "def polyfit(x, y, degree):\n",
    "    results = {}\n",
    "    coeffs = np.polyfit(x, y, degree)\n",
    "\n",
    "     # Polynomial Coefficients\n",
    "    results['polynomial'] = coeffs.tolist()\n",
    "\n",
    "    # r-squared\n",
    "    p = np.poly1d(coeffs)\n",
    "    # fit values, and mean\n",
    "    yhat = p(x)                         # or [p(z) for z in x]\n",
    "    ybar = np.sum(y)/len(y)          # or sum(y)/len(y)\n",
    "    ssreg = np.sum((yhat-ybar)**2)   # or sum([ (yihat - ybar)**2 for yihat in yhat])\n",
    "    sstot = np.sum((y - ybar)**2)    # or sum([ (yi - ybar)**2 for yi in y])\n",
    "    results['determination'] = ssreg / sstot\n",
    "\n",
    "    return results"
   ]
  },
  {
   "cell_type": "code",
   "execution_count": 123,
   "metadata": {
    "scrolled": true
   },
   "outputs": [],
   "source": [
    "variable_1 = 'Weight'\n",
    "age_var = 'Age'\n",
    "variable_2 = 'Height'\n",
    "varriable_categorical = 'Gender'"
   ]
  },
  {
   "cell_type": "code",
   "execution_count": 124,
   "metadata": {
    "scrolled": true
   },
   "outputs": [],
   "source": [
    "# Clean data for machine learning models by getting an average result for each category\n",
    "\n",
    "clean = data.dropna(subset=[variable_2])\n",
    "clean = data.fillna(data.median())\n",
    "# clean.to_csv('/Users/jaimin/Documents/Kaggle/young-people-survey/clean.csv')"
   ]
  },
  {
   "cell_type": "code",
   "execution_count": 125,
   "metadata": {},
   "outputs": [],
   "source": [
    "weight = clean[variable_1]\n",
    "height = clean[variable_2]"
   ]
  },
  {
   "cell_type": "code",
   "execution_count": 126,
   "metadata": {
    "scrolled": false
   },
   "outputs": [
    {
     "data": {
      "text/plain": [
       "Text(0, 0.5, 'Height')"
      ]
     },
     "execution_count": 126,
     "metadata": {},
     "output_type": "execute_result"
    },
    {
     "data": {
      "image/png": "[encoded data removed]",
      "text/plain": [
       "<Figure size 432x288 with 1 Axes>"
      ]
     },
     "metadata": {
      "needs_background": "light"
     },
     "output_type": "display_data"
    }
   ],
   "source": [
    "df = pd.concat([weight, height], axis=1, sort=False)\n",
    "df = df[(np.abs(stats.zscore(df)) < 3).all(axis=1)]\n",
    "\n",
    "fig, ax = plt.subplots()\n",
    "ax.scatter(df[variable_1],df[variable_2])\n",
    "ax.plot(np.unique(df[variable_1]),np.poly1d(np.polyfit(df[variable_1],df[variable_2],1))(np.unique(df[variable_1])),'-r')\n",
    "ax.set_xlabel(variable_1)\n",
    "ax.set_ylabel(variable_2)\n"
   ]
  },
  {
   "cell_type": "code",
   "execution_count": 127,
   "metadata": {},
   "outputs": [
    {
     "name": "stdout",
     "output_type": "stream",
     "text": [
      "{'polynomial': [0.556743587036272, 136.87445617822814], 'determination': 0.5598729167545833}\n",
      "\n",
      "R Val\n",
      "0.7482465614719418\n"
     ]
    }
   ],
   "source": [
    "print(polyfit(df[variable_1],df[variable_2],1))\n",
    "\n",
    "slope, intercept, r_value, p_value, std_err = scipy.stats.linregress(df[variable_1],df[variable_2])\n",
    "print('\\nR Val')\n",
    "print(r_value)"
   ]
  },
  {
   "cell_type": "code",
   "execution_count": 128,
   "metadata": {},
   "outputs": [],
   "source": [
    "# model = sm.OLS(df[x_var],df[y_var]).fit()\n",
    "# predictions = model.predict(df[x_var])\n",
    "# model.summary()"
   ]
  },
  {
   "cell_type": "markdown",
   "metadata": {},
   "source": [
    "For machine learning we standardise variables and ensure regularisation to dataset"
   ]
  },
  {
   "cell_type": "code",
   "execution_count": 129,
   "metadata": {
    "scrolled": true
   },
   "outputs": [],
   "source": [
    "# Data categorised either by numeric or categorical values\n",
    "features_numeric = [col for col in data.columns if data[col].dtype != 'object']\n",
    "features_categories = [col for col in data.columns if data[col].dtype == 'object']\n"
   ]
  },
  {
   "cell_type": "code",
   "execution_count": 130,
   "metadata": {},
   "outputs": [
    {
     "data": {
      "text/plain": [
       "<matplotlib.axes._subplots.AxesSubplot at 0x1c25a7b470>"
      ]
     },
     "execution_count": 130,
     "metadata": {},
     "output_type": "execute_result"
    },
    {
     "data": {
      "image/png": "[encoded data removed]",
      "text/plain": [
       "<Figure size 432x288 with 1 Axes>"
      ]
     },
     "metadata": {
      "needs_background": "light"
     },
     "output_type": "display_data"
    }
   ],
   "source": [
    "sns.countplot(clean[age_var])"
   ]
  },
  {
   "cell_type": "markdown",
   "metadata": {},
   "source": [
    "Plot ages to see how the ages are distributed"
   ]
  },
  {
   "cell_type": "code",
   "execution_count": 131,
   "metadata": {},
   "outputs": [
    {
     "data": {
      "text/plain": [
       "<matplotlib.axes._subplots.AxesSubplot at 0x1c259e6a58>"
      ]
     },
     "execution_count": 131,
     "metadata": {},
     "output_type": "execute_result"
    },
    {
     "data": {
      "image/png": "[encoded data removed]",
      "text/plain": [
       "<Figure size 1440x720 with 2 Axes>"
      ]
     },
     "metadata": {
      "needs_background": "light"
     },
     "output_type": "display_data"
    }
   ],
   "source": [
    "plt.figure(figsize = (20 ,10))\n",
    "plt.subplot(1,2,1)\n",
    "sns.boxplot(clean.Age)\n",
    "\n",
    "plt.subplot(1,2,2)\n",
    "sns.distplot(clean.Age, bins=16)\n"
   ]
  },
  {
   "cell_type": "code",
   "execution_count": 132,
   "metadata": {},
   "outputs": [
    {
     "data": {
      "text/html": [
       "<div>\n",
       "<style scoped>\n",
       "    .dataframe tbody tr th:only-of-type {\n",
       "        vertical-align: middle;\n",
       "    }\n",
       "\n",
       "    .dataframe tbody tr th {\n",
       "        vertical-align: top;\n",
       "    }\n",
       "\n",
       "    .dataframe thead th {\n",
       "        text-align: right;\n",
       "    }\n",
       "</style>\n",
       "<table border=\"1\" class=\"dataframe\">\n",
       "  <thead>\n",
       "    <tr style=\"text-align: right;\">\n",
       "      <th></th>\n",
       "      <th>Music</th>\n",
       "      <th>Slow songs or fast songs</th>\n",
       "      <th>Dance</th>\n",
       "      <th>Folk</th>\n",
       "      <th>Country</th>\n",
       "      <th>Classical music</th>\n",
       "      <th>Musical</th>\n",
       "      <th>Pop</th>\n",
       "      <th>Rock</th>\n",
       "      <th>Metal or Hardrock</th>\n",
       "      <th>...</th>\n",
       "      <th>Shopping centres</th>\n",
       "      <th>Branded clothing</th>\n",
       "      <th>Entertainment spending</th>\n",
       "      <th>Spending on looks</th>\n",
       "      <th>Spending on gadgets</th>\n",
       "      <th>Spending on healthy eating</th>\n",
       "      <th>Age</th>\n",
       "      <th>Height</th>\n",
       "      <th>Weight</th>\n",
       "      <th>Number of siblings</th>\n",
       "    </tr>\n",
       "  </thead>\n",
       "  <tbody>\n",
       "    <tr>\n",
       "      <th>count</th>\n",
       "      <td>1010.000000</td>\n",
       "      <td>1010.000000</td>\n",
       "      <td>1010.000000</td>\n",
       "      <td>1010.000000</td>\n",
       "      <td>1010.000000</td>\n",
       "      <td>1010.000000</td>\n",
       "      <td>1010.000000</td>\n",
       "      <td>1010.000000</td>\n",
       "      <td>1010.000000</td>\n",
       "      <td>1010.000000</td>\n",
       "      <td>...</td>\n",
       "      <td>1010.000000</td>\n",
       "      <td>1010.000000</td>\n",
       "      <td>1010.000000</td>\n",
       "      <td>1010.000000</td>\n",
       "      <td>1010.000000</td>\n",
       "      <td>1010.000000</td>\n",
       "      <td>1010.000000</td>\n",
       "      <td>1010.000000</td>\n",
       "      <td>1010.000000</td>\n",
       "      <td>1010.00000</td>\n",
       "    </tr>\n",
       "    <tr>\n",
       "      <th>mean</th>\n",
       "      <td>4.732673</td>\n",
       "      <td>3.327723</td>\n",
       "      <td>3.112871</td>\n",
       "      <td>2.287129</td>\n",
       "      <td>2.122772</td>\n",
       "      <td>2.956436</td>\n",
       "      <td>2.762376</td>\n",
       "      <td>3.473267</td>\n",
       "      <td>3.763366</td>\n",
       "      <td>2.360396</td>\n",
       "      <td>...</td>\n",
       "      <td>3.233663</td>\n",
       "      <td>3.050495</td>\n",
       "      <td>3.200990</td>\n",
       "      <td>3.105941</td>\n",
       "      <td>2.870297</td>\n",
       "      <td>3.558416</td>\n",
       "      <td>20.430693</td>\n",
       "      <td>173.503960</td>\n",
       "      <td>66.357426</td>\n",
       "      <td>1.29604</td>\n",
       "    </tr>\n",
       "    <tr>\n",
       "      <th>std</th>\n",
       "      <td>0.663222</td>\n",
       "      <td>0.833232</td>\n",
       "      <td>1.168268</td>\n",
       "      <td>1.136271</td>\n",
       "      <td>1.073501</td>\n",
       "      <td>1.248223</td>\n",
       "      <td>1.259639</td>\n",
       "      <td>1.160029</td>\n",
       "      <td>1.181474</td>\n",
       "      <td>1.371093</td>\n",
       "      <td>...</td>\n",
       "      <td>1.321791</td>\n",
       "      <td>1.305028</td>\n",
       "      <td>1.187229</td>\n",
       "      <td>1.203589</td>\n",
       "      <td>1.284970</td>\n",
       "      <td>1.092842</td>\n",
       "      <td>2.819240</td>\n",
       "      <td>9.924916</td>\n",
       "      <td>13.705814</td>\n",
       "      <td>1.01059</td>\n",
       "    </tr>\n",
       "    <tr>\n",
       "      <th>min</th>\n",
       "      <td>1.000000</td>\n",
       "      <td>1.000000</td>\n",
       "      <td>1.000000</td>\n",
       "      <td>1.000000</td>\n",
       "      <td>1.000000</td>\n",
       "      <td>1.000000</td>\n",
       "      <td>1.000000</td>\n",
       "      <td>1.000000</td>\n",
       "      <td>1.000000</td>\n",
       "      <td>1.000000</td>\n",
       "      <td>...</td>\n",
       "      <td>1.000000</td>\n",
       "      <td>1.000000</td>\n",
       "      <td>1.000000</td>\n",
       "      <td>1.000000</td>\n",
       "      <td>1.000000</td>\n",
       "      <td>1.000000</td>\n",
       "      <td>15.000000</td>\n",
       "      <td>62.000000</td>\n",
       "      <td>41.000000</td>\n",
       "      <td>0.00000</td>\n",
       "    </tr>\n",
       "    <tr>\n",
       "      <th>25%</th>\n",
       "      <td>5.000000</td>\n",
       "      <td>3.000000</td>\n",
       "      <td>2.000000</td>\n",
       "      <td>1.000000</td>\n",
       "      <td>1.000000</td>\n",
       "      <td>2.000000</td>\n",
       "      <td>2.000000</td>\n",
       "      <td>3.000000</td>\n",
       "      <td>3.000000</td>\n",
       "      <td>1.000000</td>\n",
       "      <td>...</td>\n",
       "      <td>2.000000</td>\n",
       "      <td>2.000000</td>\n",
       "      <td>2.000000</td>\n",
       "      <td>2.000000</td>\n",
       "      <td>2.000000</td>\n",
       "      <td>3.000000</td>\n",
       "      <td>19.000000</td>\n",
       "      <td>167.000000</td>\n",
       "      <td>56.000000</td>\n",
       "      <td>1.00000</td>\n",
       "    </tr>\n",
       "    <tr>\n",
       "      <th>50%</th>\n",
       "      <td>5.000000</td>\n",
       "      <td>3.000000</td>\n",
       "      <td>3.000000</td>\n",
       "      <td>2.000000</td>\n",
       "      <td>2.000000</td>\n",
       "      <td>3.000000</td>\n",
       "      <td>3.000000</td>\n",
       "      <td>4.000000</td>\n",
       "      <td>4.000000</td>\n",
       "      <td>2.000000</td>\n",
       "      <td>...</td>\n",
       "      <td>3.000000</td>\n",
       "      <td>3.000000</td>\n",
       "      <td>3.000000</td>\n",
       "      <td>3.000000</td>\n",
       "      <td>3.000000</td>\n",
       "      <td>4.000000</td>\n",
       "      <td>20.000000</td>\n",
       "      <td>173.000000</td>\n",
       "      <td>64.000000</td>\n",
       "      <td>1.00000</td>\n",
       "    </tr>\n",
       "    <tr>\n",
       "      <th>75%</th>\n",
       "      <td>5.000000</td>\n",
       "      <td>4.000000</td>\n",
       "      <td>4.000000</td>\n",
       "      <td>3.000000</td>\n",
       "      <td>3.000000</td>\n",
       "      <td>4.000000</td>\n",
       "      <td>4.000000</td>\n",
       "      <td>4.000000</td>\n",
       "      <td>5.000000</td>\n",
       "      <td>3.000000</td>\n",
       "      <td>...</td>\n",
       "      <td>4.000000</td>\n",
       "      <td>4.000000</td>\n",
       "      <td>4.000000</td>\n",
       "      <td>4.000000</td>\n",
       "      <td>4.000000</td>\n",
       "      <td>4.000000</td>\n",
       "      <td>22.000000</td>\n",
       "      <td>180.000000</td>\n",
       "      <td>75.000000</td>\n",
       "      <td>2.00000</td>\n",
       "    </tr>\n",
       "    <tr>\n",
       "      <th>max</th>\n",
       "      <td>5.000000</td>\n",
       "      <td>5.000000</td>\n",
       "      <td>5.000000</td>\n",
       "      <td>5.000000</td>\n",
       "      <td>5.000000</td>\n",
       "      <td>5.000000</td>\n",
       "      <td>5.000000</td>\n",
       "      <td>5.000000</td>\n",
       "      <td>5.000000</td>\n",
       "      <td>5.000000</td>\n",
       "      <td>...</td>\n",
       "      <td>5.000000</td>\n",
       "      <td>5.000000</td>\n",
       "      <td>5.000000</td>\n",
       "      <td>5.000000</td>\n",
       "      <td>5.000000</td>\n",
       "      <td>5.000000</td>\n",
       "      <td>30.000000</td>\n",
       "      <td>203.000000</td>\n",
       "      <td>165.000000</td>\n",
       "      <td>10.00000</td>\n",
       "    </tr>\n",
       "  </tbody>\n",
       "</table>\n",
       "<p>8 rows × 139 columns</p>\n",
       "</div>"
      ],
      "text/plain": [
       "             Music  Slow songs or fast songs        Dance         Folk  \\\n",
       "count  1010.000000               1010.000000  1010.000000  1010.000000   \n",
       "mean      4.732673                  3.327723     3.112871     2.287129   \n",
       "std       0.663222                  0.833232     1.168268     1.136271   \n",
       "min       1.000000                  1.000000     1.000000     1.000000   \n",
       "25%       5.000000                  3.000000     2.000000     1.000000   \n",
       "50%       5.000000                  3.000000     3.000000     2.000000   \n",
       "75%       5.000000                  4.000000     4.000000     3.000000   \n",
       "max       5.000000                  5.000000     5.000000     5.000000   \n",
       "\n",
       "           Country  Classical music      Musical          Pop         Rock  \\\n",
       "count  1010.000000      1010.000000  1010.000000  1010.000000  1010.000000   \n",
       "mean      2.122772         2.956436     2.762376     3.473267     3.763366   \n",
       "std       1.073501         1.248223     1.259639     1.160029     1.181474   \n",
       "min       1.000000         1.000000     1.000000     1.000000     1.000000   \n",
       "25%       1.000000         2.000000     2.000000     3.000000     3.000000   \n",
       "50%       2.000000         3.000000     3.000000     4.000000     4.000000   \n",
       "75%       3.000000         4.000000     4.000000     4.000000     5.000000   \n",
       "max       5.000000         5.000000     5.000000     5.000000     5.000000   \n",
       "\n",
       "       Metal or Hardrock  ...  Shopping centres  Branded clothing  \\\n",
       "count        1010.000000  ...       1010.000000       1010.000000   \n",
       "mean            2.360396  ...          3.233663          3.050495   \n",
       "std             1.371093  ...          1.321791          1.305028   \n",
       "min             1.000000  ...          1.000000          1.000000   \n",
       "25%             1.000000  ...          2.000000          2.000000   \n",
       "50%             2.000000  ...          3.000000          3.000000   \n",
       "75%             3.000000  ...          4.000000          4.000000   \n",
       "max             5.000000  ...          5.000000          5.000000   \n",
       "\n",
       "       Entertainment spending  Spending on looks  Spending on gadgets  \\\n",
       "count             1010.000000        1010.000000          1010.000000   \n",
       "mean                 3.200990           3.105941             2.870297   \n",
       "std                  1.187229           1.203589             1.284970   \n",
       "min                  1.000000           1.000000             1.000000   \n",
       "25%                  2.000000           2.000000             2.000000   \n",
       "50%                  3.000000           3.000000             3.000000   \n",
       "75%                  4.000000           4.000000             4.000000   \n",
       "max                  5.000000           5.000000             5.000000   \n",
       "\n",
       "       Spending on healthy eating          Age       Height       Weight  \\\n",
       "count                 1010.000000  1010.000000  1010.000000  1010.000000   \n",
       "mean                     3.558416    20.430693   173.503960    66.357426   \n",
       "std                      1.092842     2.819240     9.924916    13.705814   \n",
       "min                      1.000000    15.000000    62.000000    41.000000   \n",
       "25%                      3.000000    19.000000   167.000000    56.000000   \n",
       "50%                      4.000000    20.000000   173.000000    64.000000   \n",
       "75%                      4.000000    22.000000   180.000000    75.000000   \n",
       "max                      5.000000    30.000000   203.000000   165.000000   \n",
       "\n",
       "       Number of siblings  \n",
       "count          1010.00000  \n",
       "mean              1.29604  \n",
       "std               1.01059  \n",
       "min               0.00000  \n",
       "25%               1.00000  \n",
       "50%               1.00000  \n",
       "75%               2.00000  \n",
       "max              10.00000  \n",
       "\n",
       "[8 rows x 139 columns]"
      ]
     },
     "execution_count": 132,
     "metadata": {},
     "output_type": "execute_result"
    }
   ],
   "source": [
    "clean.describe(include =np.number)"
   ]
  },
  {
   "cell_type": "code",
   "execution_count": 133,
   "metadata": {},
   "outputs": [
    {
     "data": {
      "text/html": [
       "<div>\n",
       "<style scoped>\n",
       "    .dataframe tbody tr th:only-of-type {\n",
       "        vertical-align: middle;\n",
       "    }\n",
       "\n",
       "    .dataframe tbody tr th {\n",
       "        vertical-align: top;\n",
       "    }\n",
       "\n",
       "    .dataframe thead th {\n",
       "        text-align: right;\n",
       "    }\n",
       "</style>\n",
       "<table border=\"1\" class=\"dataframe\">\n",
       "  <thead>\n",
       "    <tr style=\"text-align: right;\">\n",
       "      <th></th>\n",
       "      <th>Smoking</th>\n",
       "      <th>Alcohol</th>\n",
       "      <th>Punctuality</th>\n",
       "      <th>Lying</th>\n",
       "      <th>Internet usage</th>\n",
       "      <th>Gender</th>\n",
       "      <th>Left - right handed</th>\n",
       "      <th>Education</th>\n",
       "      <th>Only child</th>\n",
       "      <th>Village - town</th>\n",
       "      <th>House - block of flats</th>\n",
       "    </tr>\n",
       "  </thead>\n",
       "  <tbody>\n",
       "    <tr>\n",
       "      <th>count</th>\n",
       "      <td>1002</td>\n",
       "      <td>1005</td>\n",
       "      <td>1008</td>\n",
       "      <td>1008</td>\n",
       "      <td>1010</td>\n",
       "      <td>1004</td>\n",
       "      <td>1007</td>\n",
       "      <td>1009</td>\n",
       "      <td>1008</td>\n",
       "      <td>1006</td>\n",
       "      <td>1006</td>\n",
       "    </tr>\n",
       "    <tr>\n",
       "      <th>unique</th>\n",
       "      <td>4</td>\n",
       "      <td>3</td>\n",
       "      <td>3</td>\n",
       "      <td>4</td>\n",
       "      <td>4</td>\n",
       "      <td>2</td>\n",
       "      <td>2</td>\n",
       "      <td>6</td>\n",
       "      <td>2</td>\n",
       "      <td>2</td>\n",
       "      <td>2</td>\n",
       "    </tr>\n",
       "    <tr>\n",
       "      <th>top</th>\n",
       "      <td>tried smoking</td>\n",
       "      <td>social drinker</td>\n",
       "      <td>i am always on time</td>\n",
       "      <td>sometimes</td>\n",
       "      <td>few hours a day</td>\n",
       "      <td>female</td>\n",
       "      <td>right handed</td>\n",
       "      <td>secondary school</td>\n",
       "      <td>no</td>\n",
       "      <td>city</td>\n",
       "      <td>block of flats</td>\n",
       "    </tr>\n",
       "    <tr>\n",
       "      <th>freq</th>\n",
       "      <td>430</td>\n",
       "      <td>659</td>\n",
       "      <td>399</td>\n",
       "      <td>549</td>\n",
       "      <td>744</td>\n",
       "      <td>593</td>\n",
       "      <td>906</td>\n",
       "      <td>621</td>\n",
       "      <td>754</td>\n",
       "      <td>707</td>\n",
       "      <td>595</td>\n",
       "    </tr>\n",
       "  </tbody>\n",
       "</table>\n",
       "</div>"
      ],
      "text/plain": [
       "              Smoking         Alcohol          Punctuality      Lying  \\\n",
       "count            1002            1005                 1008       1008   \n",
       "unique              4               3                    3          4   \n",
       "top     tried smoking  social drinker  i am always on time  sometimes   \n",
       "freq              430             659                  399        549   \n",
       "\n",
       "         Internet usage  Gender Left - right handed         Education  \\\n",
       "count              1010    1004                1007              1009   \n",
       "unique                4       2                   2                 6   \n",
       "top     few hours a day  female        right handed  secondary school   \n",
       "freq                744     593                 906               621   \n",
       "\n",
       "       Only child Village - town House - block of flats  \n",
       "count        1008           1006                   1006  \n",
       "unique          2              2                      2  \n",
       "top            no           city         block of flats  \n",
       "freq          754            707                    595  "
      ]
     },
     "execution_count": 133,
     "metadata": {},
     "output_type": "execute_result"
    }
   ],
   "source": [
    "clean.describe(include = ['O'])"
   ]
  },
  {
   "cell_type": "code",
   "execution_count": 134,
   "metadata": {},
   "outputs": [],
   "source": [
    "def plot_corr(var_x,var_y,x_name,y_name):\n",
    "    \n",
    "    fig, ax = plt.subplots()\n",
    "    ax.plot(var_x,var_y,'o')   \n",
    "    ax.set_xlabel(x_name)\n",
    "    ax.set_ylabel(y_name)\n",
    "    \n",
    "    z = np.polyfit(var_x, var_y, 1)\n",
    "    p = np.poly1d(z)\n",
    "    \n",
    "    ax.plot(var_x,p(var_x),\"r--\")"
   ]
  },
  {
   "cell_type": "markdown",
   "metadata": {},
   "source": [
    "Drop outliers for height by using a Z score measure of more than 3 Std. deviations from the mean of the data"
   ]
  },
  {
   "cell_type": "code",
   "execution_count": 135,
   "metadata": {},
   "outputs": [
    {
     "data": {
      "image/png": "[encoded data removed]",
      "text/plain": [
       "<Figure size 432x288 with 1 Axes>"
      ]
     },
     "metadata": {
      "needs_background": "light"
     },
     "output_type": "display_data"
    }
   ],
   "source": [
    "z = np.abs(stats.zscore(clean[features_numeric]))\n",
    "height_df = clean[(z < 3).all(axis=1)]\n",
    "plot_corr(height_df.Age,height_df.Height,'Age','Height')"
   ]
  },
  {
   "cell_type": "markdown",
   "metadata": {},
   "source": [
    "Making inferences about by plotting something against age"
   ]
  },
  {
   "cell_type": "code",
   "execution_count": 136,
   "metadata": {},
   "outputs": [
    {
     "data": {
      "image/png": "[encoded data removed]",
      "text/plain": [
       "<Figure size 432x288 with 1 Axes>"
      ]
     },
     "metadata": {
      "needs_background": "light"
     },
     "output_type": "display_data"
    }
   ],
   "source": [
    "var_x = 'Age'\n",
    "var_y = 'Elections'\n",
    "plot_corr(clean[var_x],clean[var_y],var_x,var_y)"
   ]
  },
  {
   "cell_type": "code",
   "execution_count": 137,
   "metadata": {},
   "outputs": [
    {
     "data": {
      "image/png": "[encoded data removed]",
      "text/plain": [
       "<Figure size 432x288 with 1 Axes>"
      ]
     },
     "metadata": {
      "needs_background": "light"
     },
     "output_type": "display_data"
    }
   ],
   "source": [
    "var_x = 'Age'\n",
    "var_y = 'Changing the past'\n",
    "plot_corr(clean[var_x],clean[var_y],var_x,var_y)"
   ]
  },
  {
   "cell_type": "code",
   "execution_count": 138,
   "metadata": {},
   "outputs": [],
   "source": [
    "# Two variables, one for logistic regression, one for linear regression\n",
    "y_logistic = \"Gender\"\n",
    "# y_logistic = \"Smoking\"\n",
    "# y_logistic = \"Alcohol\"\n",
    "# y_logistic = \"Internet usage\"\n",
    "y_linear = \"Height\"\n",
    "\n",
    "category_map = {y_logistic:{'male': 0, 'female': 1}}\n",
    "# category_map = {y_logistic:{'never smoked': 0,'tried smoking':1,'current smoker':2,'former smoker':3}}\n",
    "# category_map = {y_logistic:{'never': 0,'social drinker':1,'drink a lot':2}}\n",
    "# category_map = {y_logistic:{'less than an hour a day': 0,'few hours a day':1,'most of the day':2,'no time at all':3}}\n",
    "\n",
    "ml_inputs = clean.dropna()\n",
    "ml_y = ml_inputs[y_logistic]\n",
    "\n",
    "ml_inputs.drop(columns=y_logistic)\n",
    "ml_x = ml_inputs[features_numeric] # X logisitc and using numeric feature data\n",
    "# FIGURE OUT HOW TO INCLUDE CATEGORICAL DATA\n",
    "\n",
    "# print(ml_data.shape)\n",
    "\n",
    "for key,val in category_map[y_logistic].items():\n",
    "    ml_y.replace(key,val, inplace = True)\n",
    "\n",
    "# Initially using a split of 80-20% training-test data try with (clean)\n",
    "x_train, x_test, y_train, y_test = train_test_split(ml_x, ml_y, test_size=0.2,)\n",
    "# x_train_1, x_test_1, y_train_1, y_test_1 = train_test_split(ml_x, ml_y, test_size=0.2,)\n",
    "\n"
   ]
  },
  {
   "cell_type": "code",
   "execution_count": 139,
   "metadata": {
    "scrolled": false
   },
   "outputs": [],
   "source": [
    "# feature normalisation\n",
    "scaler = StandardScaler()\n",
    "scaler.fit(x_train)\n",
    "x_train = scaler.transform(x_train)\n",
    "x_test = scaler.transform(x_test)"
   ]
  },
  {
   "cell_type": "code",
   "execution_count": 140,
   "metadata": {},
   "outputs": [],
   "source": [
    "from sklearn.metrics import precision_recall_curve\n",
    "from sklearn.metrics import average_precision_score"
   ]
  },
  {
   "cell_type": "code",
   "execution_count": 141,
   "metadata": {
    "scrolled": false
   },
   "outputs": [
    {
     "name": "stdout",
     "output_type": "stream",
     "text": [
      "Logistic regression accuracy: 0.9438775510204082\n",
      "Recall on test: 0.95\n",
      "Presicion on test: 0.95\n",
      "F1 score on test: 0.95\n"
     ]
    }
   ],
   "source": [
    "logistic_regression = LogisticRegression()\n",
    "# logistic_regression = LogisticRegression(solver='lbfgs',multi_class = 'multinomial') # Multiclass\n",
    "logistic_regression.fit(x_train,y_train)\n",
    "\n",
    "\n",
    "# IMPLEMENT KFOLD CROSS VALIDATION FOR NEXT STEP\n",
    "\n",
    "\n",
    "# Using KFold cross validation\n",
    "# Kfolds = KFold(n_splits=10)\n",
    "# parameter_grid = {'C':[.001,0.01,.03,.1,0.3,1,3,10]}\n",
    "# grsearch = GridSearchCV(logistic_regression, param_grid=parameter_grid, cv=Kfolds, scoring = 'f1')\n",
    "# grsearch.fit(x_train, y_train)\n",
    "\n",
    "# print(grsearch.best_params_)\n",
    "\n",
    "# logistic_regression.predict()\n",
    "print(\"Logistic regression accuracy:\", logistic_regression.score(x_test, y_test))\n",
    "\n",
    "\n",
    "precision = dict()\n",
    "recall = dict()\n",
    "average_precision = dict()\n",
    "# for i in range(4):\n",
    "#     precision[i], recall[i], _ = precision_recall_curve(y_test[:, i],y_score[:, i])\n",
    "#     average_precision[i] = average_precision_score(y_test[:, i], y_score[:, i])\n",
    "    \n",
    "recall = recall_score(y_test, logistic_regression.predict(x_test))\n",
    "print ('Recall on test: {:.2f}'.format(recall))\n",
    "precision = precision_score(y_test, logistic_regression.predict(x_test))\n",
    "print ('Presicion on test: {:.2f}'.format(precision))\n",
    "print ('F1 score on test: {:.2f}'.format((2*recall*precision /(recall + precision))))\n",
    "\n",
    "\n",
    "# linear_regression = LinearRegression() # Multiclass?\n",
    "# linear_regression.fit(x_train,y_train)\n",
    "\n",
    "# print(\"Linear regression accuracy:\", linear_regression.score(x_test, y_test))"
   ]
  },
  {
   "cell_type": "code",
   "execution_count": 142,
   "metadata": {},
   "outputs": [
    {
     "name": "stdout",
     "output_type": "stream",
     "text": [
      "976\n",
      "0.5922131147540983\n"
     ]
    }
   ],
   "source": [
    "# print(ml_y.loc[ml_y[0]==1].sum())\n",
    "print(len(ml_y))\n",
    "print(len(ml_y[ml_y==1])/len(ml_y))"
   ]
  },
  {
   "cell_type": "markdown",
   "metadata": {},
   "source": [
    "Now trying for any data including categorical data and treating the scale 1 - 5 as the logistic categories"
   ]
  },
  {
   "cell_type": "code",
   "execution_count": 487,
   "metadata": {},
   "outputs": [],
   "source": [
    "# Two variables, one for logistic regression, one for linear regression\n",
    "# y_logistic = \"Gender\"\n",
    "# y_logistic = \"Smoking\"\n",
    "# y_logistic = \"Criminal damage\"\n",
    "# y_logistic = \"Alcohol\"\n",
    "# y_logistic = \"Internet usage\"\n",
    "# y_logistic = \"Physics\"\n",
    "# y_logistic = \"Village - town\"\n",
    "# y_logistic = \"Only child\"\n",
    "# y_logistic = \"Lying\"\n",
    "y_logistic = \"Charity\"\n",
    "# y_logistic = \"Left - right handed\"\n",
    "# y_logistic = \"Punctuality\"\n",
    "\n",
    "# y_linear = \"Height\"\n",
    "\n",
    "# category_map = {y_logistic:{'male': 0, 'female': 1}}\n",
    "# category_map = {y_logistic:{'never smoked': 0,'tried smoking':1,'current smoker':2,'former smoker':3}}\n",
    "# category_map = {y_logistic:{'never': 0,'social drinker':1,'drink a lot':2}}\n",
    "# category_map = {y_logistic:{'less than an hour a day': 0,'few hours a day':1,'most of the day':2,'no time at all':3}}\n",
    "# category_map = {y_logistic:{'never': 0,'sometimes':1,'only to avoid hurting someone':2,'everytime it suits me':3}}\n",
    "\n",
    "\n",
    "# category_map = {y_logistic:{0:0,1:1,2:2,3:3,4:4,5:5}}\n",
    "\n",
    "\n",
    "ml_inputs = clean.dropna()\n",
    "ml_y = ml_inputs[y_logistic]\n",
    "\n",
    "ml_inputs.drop(columns=y_logistic)\n",
    "ml_x = ml_inputs[features_numeric] # X logisitc and using numeric feature data\n",
    "# FIGURE OUT HOW TO INCLUDE CATEGORICAL DATA\n",
    "\n",
    "# print(ml_data.shape)\n",
    "\n",
    "# for key,val in category_map[y_logistic].items():\n",
    "#     ml_y.replace(key,val, inplace = True)\n",
    "\n",
    "# Initially using a split of 80-20% training-test data try with (clean)\n",
    "x_train, x_test, y_train, y_test = train_test_split(ml_x, ml_y, test_size=0.2)\n",
    "# x_train_1, x_test_1, y_train_1, y_test_1 = train_test_split(ml_x, ml_y, test_size=0.2,)\n"
   ]
  },
  {
   "cell_type": "code",
   "execution_count": 488,
   "metadata": {},
   "outputs": [],
   "source": [
    "# feature normalisation\n",
    "scaler = StandardScaler()\n",
    "scaler.fit(x_train)\n",
    "x_train = scaler.transform(x_train)\n",
    "x_test = scaler.transform(x_test)"
   ]
  },
  {
   "cell_type": "code",
   "execution_count": 489,
   "metadata": {
    "scrolled": false
   },
   "outputs": [
    {
     "name": "stdout",
     "output_type": "stream",
     "text": [
      "Logistic regression accuracy: 0.8622448979591837\n"
     ]
    }
   ],
   "source": [
    "from sklearn.preprocessing import label_binarize\n",
    "from sklearn.multiclass import OneVsRestClassifier\n",
    "\n",
    "# logistic_regression = LogisticRegression()\n",
    "logistic_regression = LogisticRegression(solver='lbfgs',multi_class = 'multinomial') # Multiclass\n",
    "logistic_regression.fit(x_train,y_train)\n",
    "\n",
    "# Using KFold cross validation\n",
    "# Kfolds = KFold(n_splits=10)\n",
    "# parameter_grid = {'C':[.001,0.01,.03,.1,0.3,1,3,10]}\n",
    "# grsearch = GridSearchCV(logistic_regression, param_grid=parameter_grid, cv=Kfolds, scoring = 'f1')\n",
    "# grsearch.fit(x_train, y_train)\n",
    "\n",
    "# print(grsearch.best_params_)\n",
    "\n",
    "# logistic_regression.predict()\n",
    "print(\"Logistic regression accuracy:\", logistic_regression.score(x_test, y_test))\n",
    "\n",
    "precision = dict()\n",
    "recall = dict()\n",
    "average_precision = dict()\n",
    "\n",
    "\n",
    "# for i in range(4):\n",
    "#     precision[i], recall[i], _ = precision_recall_curve(y_test[:, i],y_score[:, i])\n",
    "#     average_precision[i] = average_precision_score(y_test[:, i], y_score[:, i])\n",
    "\n",
    "# recall = recall_score(y_test, logistic_regression.predict(x_test))\n",
    "# print ('Recall on test: {:.2f}'.format(recall))\n",
    "# precision = precision_score(y_test, logistic_regression.predict(x_test))\n",
    "# print ('Presicion on test: {:.2f}'.format(precision))\n",
    "# print ('F1 score on test: {:.2f}'.format((2*recall*precision /(recall + precision))))\n"
   ]
  },
  {
   "cell_type": "code",
   "execution_count": 471,
   "metadata": {},
   "outputs": [],
   "source": [
    "lin_r = LinearRegression()\n",
    "log_r = LogisticRegression()\n",
    "lin_r_std_pca = make_pipeline(StandardScaler(), PCA(), LinearRegression())\n",
    "ran_f = RandomForestRegressor(n_estimators=60, n_jobs = 4, max_depth=25,\n",
    "                              min_samples_split=60, max_features=30, verbose=5)\n",
    "gbr = GradientBoostingRegressor(n_estimators=40, max_depth=5, loss='ls', verbose=5)"
   ]
  },
  {
   "cell_type": "code",
   "execution_count": 472,
   "metadata": {},
   "outputs": [],
   "source": [
    "models = []\n",
    "mean_mse = {}\n",
    "cv_std = {}\n",
    "\n",
    "ml_inputs = clean.dropna()\n",
    "ml_y = ml_inputs[y_linear]\n",
    "\n",
    "ml_inputs.drop(columns=y_linear)\n",
    "ml_x = ml_inputs[features_numeric]\n",
    "\n",
    "models.extend([lin_r, lin_r_std_pca, ran_f, gbr])"
   ]
  },
  {
   "cell_type": "code",
   "execution_count": 473,
   "metadata": {},
   "outputs": [],
   "source": [
    "# for model in models:\n",
    "#     train_model(model, ml_x, ml_y, 5, mean_mse, cv_std)"
   ]
  },
  {
   "cell_type": "code",
   "execution_count": 474,
   "metadata": {},
   "outputs": [],
   "source": [
    "x = get_target(clean,'Rats')\n",
    "y = get_target(clean,'Ageing')\n",
    "\n",
    "np.random.seed(200)\n",
    "k = 3\n",
    "centroids = {\n",
    "    i+1: [np.random.randint(0, 80), np.random.randint(0, 80)]\n",
    "    for i in range(k)\n",
    "}"
   ]
  },
  {
   "cell_type": "code",
   "execution_count": 475,
   "metadata": {},
   "outputs": [
    {
     "data": {
      "image/png": "[encoded data removed]",
      "text/plain": [
       "<Figure size 360x360 with 1 Axes>"
      ]
     },
     "metadata": {
      "needs_background": "light"
     },
     "output_type": "display_data"
    }
   ],
   "source": [
    "fig = plt.figure(figsize=(5, 5))\n",
    "plt.scatter(x, y, color='k')\n",
    "colmap = {1: 'r', 2: 'g', 3: 'b'}\n",
    "\n",
    "for i in centroids.keys():\n",
    "    plt.scatter(*centroids[i], color=colmap[i])\n",
    "plt.xlim(0, 6)\n",
    "plt.ylim(0, 6)\n",
    "plt.show()\n",
    "\n"
   ]
  },
  {
   "cell_type": "code",
   "execution_count": 476,
   "metadata": {
    "scrolled": false
   },
   "outputs": [],
   "source": [
    "\n",
    "movies = ['Horror','Thriller','Comedy','Romantic','Sci-fi','War','Fantasy/Fairy tales','Animated','Documentary','Western','Action']\n",
    "music = ['Slow songs or fast songs','Dance','Folk','Country','Classical music','Musical','Pop','Rock','Metal or Hardrock','Punk',\n",
    "         'Hiphop, Rap','Reggae, Ska','Swing, Jazz','Rock n roll','Alternative','Latino','Techno, Trance','Opera']\n",
    "spending = ['Spending on looks', 'Spending on gadgets','Spending on healthy eating']\n",
    "social = ['Socializing','Number of friends','Friends versus money']\n",
    "religion = ['God','Religion','Final judgement']\n",
    "\n",
    "movies_df = clean[movies]\n",
    "music_df = clean[music]\n",
    "spending_df = clean[spending]\n",
    "social_df = clean[social]\n",
    "religion_df = clean[religion]"
   ]
  },
  {
   "cell_type": "code",
   "execution_count": 477,
   "metadata": {},
   "outputs": [
    {
     "data": {
      "text/plain": [
       "Text(0, 0.5, 'Within Cluster Sum of Squares')"
      ]
     },
     "execution_count": 477,
     "metadata": {},
     "output_type": "execute_result"
    },
    {
     "data": {
      "image/png": "[encoded data removed]",
      "text/plain": [
       "<Figure size 432x288 with 1 Axes>"
      ]
     },
     "metadata": {
      "needs_background": "light"
     },
     "output_type": "display_data"
    }
   ],
   "source": [
    "wcss = []\n",
    "for i in range(1,11):\n",
    "    kmeans = KMeans(n_clusters=i,max_iter=300,n_init = 10,random_state = 0)\n",
    "    km = kmeans.fit(religion_df)\n",
    "    wcss.append(kmeans.inertia_)\n",
    "    \n",
    "plt.figure()\n",
    "plt.plot(range(1,11),wcss, marker = \"o\")\n",
    "\n",
    "plt.title(\"Elbow method\")\n",
    "plt.xlabel(\"Number of clusters\")\n",
    "plt.ylabel(\"Within Cluster Sum of Squares\")"
   ]
  },
  {
   "cell_type": "code",
   "execution_count": 478,
   "metadata": {},
   "outputs": [
    {
     "data": {
      "text/plain": [
       "Text(0, 0.5, 'Within Cluster Sum of Squares')"
      ]
     },
     "execution_count": 478,
     "metadata": {},
     "output_type": "execute_result"
    },
    {
     "data": {
      "image/png": "[encoded data removed]",
      "text/plain": [
       "<Figure size 432x288 with 1 Axes>"
      ]
     },
     "metadata": {
      "needs_background": "light"
     },
     "output_type": "display_data"
    }
   ],
   "source": [
    "wcss = []\n",
    "for i in range(1,11):\n",
    "    kmeans = KMeans(n_clusters=i,max_iter=300,n_init = 10,random_state = 0)\n",
    "    km = kmeans.fit(social_df)\n",
    "    wcss.append(kmeans.inertia_)\n",
    "    \n",
    "plt.figure()\n",
    "plt.plot(range(1,11),wcss, marker = \"o\")\n",
    "\n",
    "plt.title(\"Elbow method\")\n",
    "plt.xlabel(\"Number of clusters\")\n",
    "plt.ylabel(\"Within Cluster Sum of Squares\")"
   ]
  },
  {
   "cell_type": "code",
   "execution_count": 479,
   "metadata": {},
   "outputs": [
    {
     "data": {
      "text/plain": [
       "Text(0, 0.5, 'Within Cluster Sum of Squares')"
      ]
     },
     "execution_count": 479,
     "metadata": {},
     "output_type": "execute_result"
    },
    {
     "data": {
      "image/png": "[encoded data removed]",
      "text/plain": [
       "<Figure size 432x288 with 1 Axes>"
      ]
     },
     "metadata": {
      "needs_background": "light"
     },
     "output_type": "display_data"
    }
   ],
   "source": [
    "wcss = []\n",
    "for i in range(1,11):\n",
    "    kmeans = KMeans(n_clusters=i,max_iter=300,n_init = 10,random_state = 0)\n",
    "    km = kmeans.fit(spending_df)\n",
    "    wcss.append(kmeans.inertia_)\n",
    "    \n",
    "plt.figure()\n",
    "plt.plot(range(1,11),wcss, marker = \"o\")\n",
    "\n",
    "plt.title(\"Elbow method\")\n",
    "plt.xlabel(\"Number of clusters\")\n",
    "plt.ylabel(\"Within Cluster Sum of Squares\")"
   ]
  },
  {
   "cell_type": "code",
   "execution_count": 480,
   "metadata": {},
   "outputs": [
    {
     "data": {
      "text/plain": [
       "Text(0, 0.5, 'Within Cluster Sum of Squares')"
      ]
     },
     "execution_count": 480,
     "metadata": {},
     "output_type": "execute_result"
    },
    {
     "data": {
      "image/png": "[encoded data removed]",
      "text/plain": [
       "<Figure size 432x288 with 1 Axes>"
      ]
     },
     "metadata": {
      "needs_background": "light"
     },
     "output_type": "display_data"
    }
   ],
   "source": [
    "wcss = []\n",
    "for i in range(1,11):\n",
    "    kmeans = KMeans(n_clusters=i,max_iter=300,n_init = 10,random_state = 0)\n",
    "    km = kmeans.fit(clean[music])\n",
    "    wcss.append(kmeans.inertia_)\n",
    "    \n",
    "plt.figure()\n",
    "plt.plot(range(1,11),wcss, marker = \"o\")\n",
    "\n",
    "plt.title(\"Elbow method\")\n",
    "plt.xlabel(\"Number of clusters\")\n",
    "plt.ylabel(\"Within Cluster Sum of Squares\")"
   ]
  },
  {
   "cell_type": "code",
   "execution_count": 481,
   "metadata": {
    "scrolled": false
   },
   "outputs": [
    {
     "data": {
      "text/plain": [
       "Text(0, 0.5, 'Within Cluster Sum of Squares')"
      ]
     },
     "execution_count": 481,
     "metadata": {},
     "output_type": "execute_result"
    },
    {
     "data": {
      "image/png": "[encoded data removed]",
      "text/plain": [
       "<Figure size 432x288 with 1 Axes>"
      ]
     },
     "metadata": {
      "needs_background": "light"
     },
     "output_type": "display_data"
    }
   ],
   "source": [
    "wcss = []\n",
    "for i in range(1,11):\n",
    "    kmeans = KMeans(n_clusters=i,max_iter=300,n_init = 10,random_state = 0)\n",
    "    km = kmeans.fit(clean[features_numeric])\n",
    "    wcss.append(kmeans.inertia_)\n",
    "    \n",
    "plt.figure()\n",
    "plt.plot(range(1,11),wcss, marker = \"o\")\n",
    "\n",
    "plt.title(\"Elbow method\")\n",
    "plt.xlabel(\"Number of clusters\")\n",
    "plt.ylabel(\"Within Cluster Sum of Squares\")\n",
    "\n"
   ]
  },
  {
   "cell_type": "code",
   "execution_count": 482,
   "metadata": {},
   "outputs": [
    {
     "data": {
      "text/plain": [
       "Text(0, 0.5, 'Within Cluster Sum of Squares')"
      ]
     },
     "execution_count": 482,
     "metadata": {},
     "output_type": "execute_result"
    },
    {
     "data": {
      "image/png": "[encoded data removed]",
      "text/plain": [
       "<Figure size 432x288 with 1 Axes>"
      ]
     },
     "metadata": {
      "needs_background": "light"
     },
     "output_type": "display_data"
    }
   ],
   "source": [
    "wcss = []\n",
    "for i in range(1,11):\n",
    "    kmeans = KMeans(n_clusters=i,max_iter=300,n_init = 10,random_state = 0)\n",
    "    km = kmeans.fit(clean[movies])\n",
    "    wcss.append(kmeans.inertia_)\n",
    "    \n",
    "plt.figure()\n",
    "plt.plot(range(1,11),wcss, marker = \"o\")\n",
    "\n",
    "plt.title(\"Elbow method\")\n",
    "plt.xlabel(\"Number of clusters\")\n",
    "plt.ylabel(\"Within Cluster Sum of Squares\")"
   ]
  },
  {
   "cell_type": "code",
   "execution_count": 540,
   "metadata": {},
   "outputs": [],
   "source": [
    "from sklearn.preprocessing import label_binarize\n",
    "\n",
    "random_state=np.random.RandomState(0)\n",
    "\n",
    "# svm_variable=\"Village - town\" \n",
    "svm_variable = \"Alcohol\"\n",
    "\n",
    "# svc = svm.SVC(kernel = 'linear')\n",
    "# svc = svm.SVC(gamma = 'scale', decision_function_shape='ovo')\n",
    "classifier = OneVsRestClassifier(svm.LinearSVC(random_state=random_state))\n",
    "\n",
    "# category_map = {y_logistic:{'city': 0,'village':1}}\n",
    "# category_map = {svm_variable:{'never': 0,'social drinker':1,'drink a lot':2}}\n",
    "\n",
    "ml_inputs = clean.dropna()\n",
    "ml_y = ml_inputs[svm_variable]\n",
    "\n",
    "ml_inputs.drop(columns=y_logistic)\n",
    "ml_x = ml_inputs[features_numeric] # X logisitc and using numeric feature data\n",
    "\n",
    "n_samples, n_features = ml_x.shape\n",
    "ml_x = np.c_[ml_x, random_state.randn(n_samples, 200* n_features)]\n",
    "\n",
    "# for key,val in category_map[svm_variable].items():\n",
    "#     ml_y.replace(key,val, inplace = True)\n",
    "# \n",
    "Y = label_binarize(ml_y, classes=[0,1,2])\n",
    "n_classes = Y.shape[1]\n",
    "\n",
    "# Initially using a split of 80-20% training-test data try with (clean)\n",
    "x_train, x_test, y_train, y_test = train_test_split(ml_x, Y, test_size=0.2)\n",
    "\n",
    "classifier.fit(x_train,y_train)\n",
    "# y_pred = svc.predict(x_test)\n",
    "\n",
    "y_score = classifier.decision_function(x_test)\n",
    "\n",
    "average_precision = average_precision_score(y_test, y_score)\n",
    "\n",
    "print('Average precision-recall score: {0:0.2f}'.format(\n",
    "      average_precision))\n",
    "\n",
    "print(\"Accuracy:\",metrics.accuracy_score(y_test, y_pred))\n",
    "\n",
    "precision = dict()\n",
    "recall = dict()\n",
    "average_precision = dict()\n",
    "for i in range(3):\n",
    "    precision[i], recall[i], _ = precision_recall_curve(y_test[i],y_score[i])\n",
    "    average_precision[i] = average_precision_score(Y_test[:, i], y_score[:, i])\n",
    "\n",
    "# A \"micro-average\": quantifying score on all classes jointly\n",
    "precision[\"micro\"], recall[\"micro\"], _ = precision_recall_curve(Y_test.ravel(),\n",
    "    y_score.ravel())\n",
    "average_precision[\"micro\"] = average_precision_score(Y_test, y_score,\n",
    "                                                     average=\"micro\")\n",
    "print('Average precision score, micro-averaged over all classes: {0:0.2f}'\n",
    "      .format(average_precision[\"micro\"]))\n",
    "\n",
    "\n",
    "print(\"Precision:\",metrics.precision_score(y_test, y_pred))\n",
    "print(\"Recall:\",metrics.recall_score(y_test, y_pred))\n",
    "\n"
   ]
  },
  {
   "cell_type": "code",
   "execution_count": 562,
   "metadata": {},
   "outputs": [
    {
     "name": "stdout",
     "output_type": "stream",
     "text": [
      "Accuracy: 0.8979591836734694\n",
      "Precision: 0.8951612903225806\n",
      "Recall: 0.940677966101695\n",
      "F1: 0.9173553719008264\n"
     ]
    }
   ],
   "source": [
    "# svm_variable=\"Village - town\" \n",
    "svm_variable= \"Gender\" \n",
    "# svm_variable = \"Alcohol\"\n",
    "\n",
    "# svc = svm.SVC(kernel = 'linear')\n",
    "svc = svm.SVC(gamma = 'scale', decision_function_shape='ovo')\n",
    "\n",
    "# category_map = {svm_variable:{'city': 0,'village':1}}\n",
    "category_map = {svm_variable:{'male': 0, 'female': 1}}\n",
    "\n",
    "# Drop any rows with missing data\n",
    "# Prep input and output data\n",
    "ml_inputs = clean.dropna()\n",
    "ml_y = ml_inputs[svm_variable]\n",
    "ml_inputs.drop(columns=svm_variable)\n",
    "ml_x = ml_inputs[features_numeric]\n",
    "for key,val in category_map[svm_variable].items():\n",
    "    ml_y.replace(key,val, inplace = True)\n",
    "\n",
    "# Initially using a split of 80-20% training-test data try with (clean)\n",
    "x_train, x_test, y_train, y_test = train_test_split(ml_x, ml_y, test_size=0.2)\n",
    "\n",
    "# Fit svm model to the training set\n",
    "svc.fit(x_train,y_train)\n",
    "y_pred = svc.predict(x_test)\n",
    "\n",
    "# Metrics\n",
    "print(\"Accuracy:\",metrics.accuracy_score(y_test, y_pred))\n",
    "print(\"Precision:\",metrics.precision_score(y_test, y_pred))\n",
    "print(\"Recall:\",metrics.recall_score(y_test, y_pred))\n",
    "print(\"F1:\",metrics.f1_score(y_test, y_pred))"
   ]
  },
  {
   "cell_type": "markdown",
   "metadata": {},
   "source": [
    "Perform PCA for dimensionality reduction on dataset"
   ]
  },
  {
   "cell_type": "code",
   "execution_count": 609,
   "metadata": {},
   "outputs": [
    {
     "name": "stdout",
     "output_type": "stream",
     "text": [
      "for components = 2\n",
      "[0.1212]\n",
      "for components = 3\n",
      "[0.171]\n",
      "for components = 4\n",
      "[0.2003]\n",
      "for components = 5\n",
      "[0.2279]\n",
      "for components = 6\n",
      "[0.2519]\n",
      "for components = 7\n",
      "[0.2719]\n",
      "for components = 8\n",
      "[0.2913]\n",
      "for components = 9\n",
      "[0.3081]\n",
      "for components = 10\n",
      "[0.3237]\n",
      "for components = 11\n",
      "[0.3382]\n",
      "for components = 12\n",
      "[0.3528]\n",
      "for components = 13\n",
      "[0.3668]\n",
      "for components = 14\n",
      "[0.3797]\n",
      "for components = 15\n",
      "[0.3916]\n",
      "for components = 16\n",
      "[0.4041]\n",
      "for components = 17\n",
      "[0.4156]\n",
      "for components = 18\n",
      "[0.4273]\n",
      "for components = 19\n",
      "[0.438]\n"
     ]
    },
    {
     "data": {
      "image/png": "[encoded data removed]",
      "text/plain": [
       "<Figure size 432x288 with 1 Axes>"
      ]
     },
     "metadata": {
      "needs_background": "light"
     },
     "output_type": "display_data"
    },
    {
     "data": {
      "image/png": "[encoded data removed]",
      "text/plain": [
       "<Figure size 432x288 with 1 Axes>"
      ]
     },
     "metadata": {
      "needs_background": "light"
     },
     "output_type": "display_data"
    }
   ],
   "source": [
    "from sklearn.decomposition import PCA\n",
    "\n",
    "pca_inputs = clean.dropna()\n",
    "pca_inputs = pca_inputs[features_numeric]\n",
    "\n",
    "ss = StandardScaler()\n",
    "pca_scaled = ss.fit_transform(pca_inputs)\n",
    "\n",
    "plt.figure()\n",
    "cmr = []\n",
    "\n",
    "for n in range (2,20):\n",
    "    cumulative_ratio = 0\n",
    "    pca = PCA(n_components = n)\n",
    "    data_reduced = pca.fit_transform(pca_scaled)\n",
    "    \n",
    "    print(\"for components = %d\" %n)\n",
    "    components= pd.DataFrame(np.round(pca.components_, 4),columns=pca_inputs.keys())\n",
    "   \n",
    "    ratios=pca.explained_variance_ratio_.reshape(len(pca.components_), 1)\n",
    "    variance_ratios = pd.DataFrame(np.round(ratios, 4), columns = ['Explained Variance']) \n",
    "    \n",
    "    for i in range((variance_ratios.shape[0])):\n",
    "        cumulative_ratio = cumulative_ratio + variance_ratios.values[i]\n",
    "        \n",
    "    cmr.append(cumulative_ratio)\n",
    "    print(cumulative_ratio)\n",
    "    \n",
    "vr = variance_ratios.values\n",
    "plt.plot(range(1,20),vr*100,marker=\"x\")\n",
    "plt.xlabel(\"PCA Components\")\n",
    "plt.ylabel(\"Explained Variance ratio\")\n",
    "plt.figure()\n",
    "plt.plot(range(2,20),cmr,marker=\"o\")\n",
    "plt.xlabel(\"No. of Components\")\n",
    "plt.ylabel(\"cumulative Variance ratio\")\n",
    "plt.show()\n"
   ]
  },
  {
   "cell_type": "code",
   "execution_count": null,
   "metadata": {},
   "outputs": [],
   "source": []
  },
  {
   "cell_type": "code",
   "execution_count": null,
   "metadata": {},
   "outputs": [],
   "source": []
  },
  {
   "cell_type": "code",
   "execution_count": 608,
   "metadata": {},
   "outputs": [],
   "source": [
    "def one_hot_encode_feature_df(df, cat_vars=None, num_vars = None):\n",
    "    cat_df = pd.get_dummies(df[cat_vars])\n",
    "    num_df = df[num_vars].apply(pd.to_numeric)\n",
    "    return pd.concat([cat_df, num_df],axis=1)"
   ]
  },
  {
   "cell_type": "code",
   "execution_count": null,
   "metadata": {},
   "outputs": [],
   "source": []
  },
  {
   "cell_type": "code",
   "execution_count": 597,
   "metadata": {
    "scrolled": false
   },
   "outputs": [],
   "source": [
    "feature_df = one_hot_encode_feature_df(clean, cat_vars = features_categories, num_vars = features_numeric)"
   ]
  },
  {
   "cell_type": "code",
   "execution_count": null,
   "metadata": {},
   "outputs": [],
   "source": []
  }
 ],
 "metadata": {
  "kernelspec": {
   "display_name": "survey_env",
   "language": "python",
   "name": "survey_env"
  },
  "language_info": {
   "codemirror_mode": {
    "name": "ipython",
    "version": 3
   },
   "file_extension": ".py",
   "mimetype": "text/x-python",
   "name": "python",
   "nbconvert_exporter": "python",
   "pygments_lexer": "ipython3",
   "version": "3.7.3"
  }
 },
 "nbformat": 4,
 "nbformat_minor": 2
}
